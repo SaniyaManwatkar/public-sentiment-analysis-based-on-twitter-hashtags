{
 "cells": [
  {
   "cell_type": "markdown",
   "id": "51662a4b",
   "metadata": {},
   "source": [
    "# Imports"
   ]
  },
  {
   "cell_type": "code",
   "execution_count": 1,
   "id": "2abced24",
   "metadata": {},
   "outputs": [
    {
     "name": "stdout",
     "output_type": "stream",
     "text": [
      "Python 3.8.3\n"
     ]
    }
   ],
   "source": [
    "!python --version"
   ]
  },
  {
   "cell_type": "markdown",
   "id": "9a2cf89a",
   "metadata": {},
   "source": [
    "Python version have to be >=3.8 then only the snscrape dev version can be used "
   ]
  },
  {
   "cell_type": "code",
   "execution_count": 2,
   "id": "ca267823",
   "metadata": {},
   "outputs": [],
   "source": [
    "from IPython.display import clear_output\n",
    "!pip3 install git+https://github.com/JustAnotherArchivist/snscrape.git\n",
    "clear_output()"
   ]
  },
  {
   "cell_type": "code",
   "execution_count": 3,
   "id": "55b9bf9a",
   "metadata": {},
   "outputs": [],
   "source": [
    "from dataextract import *"
   ]
  },
  {
   "cell_type": "markdown",
   "id": "322065be",
   "metadata": {},
   "source": [
    "# Test"
   ]
  },
  {
   "cell_type": "markdown",
   "id": "71acc70d",
   "metadata": {},
   "source": [
    "Lets test it with the function and lets extract some tweets of elon musk from the date: 2020-08-03\n",
    "###### Before thats lets disscuss some important points:\n",
    "- The first two parameters of the function dataextract are; the word/sentence/hashtag for which you wants to extract tweets, and the tweet extraction starting date.\n",
    "- \"number\" is a parameter of the function dataextract,which has a default value 1000,means it will extract only 1000 tweets from a day\n",
    "- \"day\" is another parameter of the function dataextract,which has a default value 1,means it will extract only one day  tweets, for example if you keep \"day = 2\",it will extract tweets for two days starting from 2020-08-03"
   ]
  },
  {
   "cell_type": "code",
   "execution_count": 4,
   "id": "fdfdd155",
   "metadata": {},
   "outputs": [
    {
     "name": "stdout",
     "output_type": "stream",
     "text": [
      "max rows will be: 1000\n",
      "--------------------------------------------------\n",
      "done!!!, elon musk .csv has been created\n",
      "--------------------------------------------------\n"
     ]
    }
   ],
   "source": [
    "#example 1\n",
    "df = dataextract('elon musk','2020-08-03')"
   ]
  },
  {
   "cell_type": "code",
   "execution_count": 5,
   "id": "ba6ae44e",
   "metadata": {},
   "outputs": [
    {
     "data": {
      "text/html": [
       "<div>\n",
       "<style scoped>\n",
       "    .dataframe tbody tr th:only-of-type {\n",
       "        vertical-align: middle;\n",
       "    }\n",
       "\n",
       "    .dataframe tbody tr th {\n",
       "        vertical-align: top;\n",
       "    }\n",
       "\n",
       "    .dataframe thead th {\n",
       "        text-align: right;\n",
       "    }\n",
       "</style>\n",
       "<table border=\"1\" class=\"dataframe\">\n",
       "  <thead>\n",
       "    <tr style=\"text-align: right;\">\n",
       "      <th></th>\n",
       "      <th>corpus</th>\n",
       "      <th>date</th>\n",
       "      <th>time</th>\n",
       "    </tr>\n",
       "  </thead>\n",
       "  <tbody>\n",
       "    <tr>\n",
       "      <th>0</th>\n",
       "      <td>nice work</td>\n",
       "      <td>2020-08-03</td>\n",
       "      <td>23:26:00</td>\n",
       "    </tr>\n",
       "    <tr>\n",
       "      <th>1</th>\n",
       "      <td>It s on at least 3 streams on yet and</td>\n",
       "      <td>2020-08-03</td>\n",
       "      <td>23:26:01</td>\n",
       "    </tr>\n",
       "    <tr>\n",
       "      <th>2</th>\n",
       "      <td>lt eyes</td>\n",
       "      <td>2020-08-03</td>\n",
       "      <td>23:26:06</td>\n",
       "    </tr>\n",
       "    <tr>\n",
       "      <th>3</th>\n",
       "      <td>Good luck we are all watching</td>\n",
       "      <td>2020-08-03</td>\n",
       "      <td>23:26:07</td>\n",
       "    </tr>\n",
       "    <tr>\n",
       "      <th>4</th>\n",
       "      <td>Smooth hopping</td>\n",
       "      <td>2020-08-03</td>\n",
       "      <td>23:26:07</td>\n",
       "    </tr>\n",
       "  </tbody>\n",
       "</table>\n",
       "</div>"
      ],
      "text/plain": [
       "                                  corpus        date      time\n",
       "0                              nice work  2020-08-03  23:26:00\n",
       "1  It s on at least 3 streams on yet and  2020-08-03  23:26:01\n",
       "2                                lt eyes  2020-08-03  23:26:06\n",
       "3          Good luck we are all watching  2020-08-03  23:26:07\n",
       "4                         Smooth hopping  2020-08-03  23:26:07"
      ]
     },
     "execution_count": 5,
     "metadata": {},
     "output_type": "execute_result"
    }
   ],
   "source": [
    "df.head()"
   ]
  },
  {
   "cell_type": "code",
   "execution_count": 6,
   "id": "7d70d98f",
   "metadata": {},
   "outputs": [
    {
     "name": "stdout",
     "output_type": "stream",
     "text": [
      "max rows will be: 3000\n",
      "--------------------------------------------------\n",
      "done!!!, #tuesday .csv has been created\n",
      "--------------------------------------------------\n"
     ]
    }
   ],
   "source": [
    "#example 2\n",
    "df = dataextract('#tuesday','2020-08-03',number = 3000,day = 2)"
   ]
  },
  {
   "cell_type": "code",
   "execution_count": 7,
   "id": "b985ec7c",
   "metadata": {},
   "outputs": [
    {
     "data": {
      "text/html": [
       "<div>\n",
       "<style scoped>\n",
       "    .dataframe tbody tr th:only-of-type {\n",
       "        vertical-align: middle;\n",
       "    }\n",
       "\n",
       "    .dataframe tbody tr th {\n",
       "        vertical-align: top;\n",
       "    }\n",
       "\n",
       "    .dataframe thead th {\n",
       "        text-align: right;\n",
       "    }\n",
       "</style>\n",
       "<table border=\"1\" class=\"dataframe\">\n",
       "  <thead>\n",
       "    <tr style=\"text-align: right;\">\n",
       "      <th></th>\n",
       "      <th>corpus</th>\n",
       "      <th>date</th>\n",
       "      <th>time</th>\n",
       "    </tr>\n",
       "  </thead>\n",
       "  <tbody>\n",
       "    <tr>\n",
       "      <th>0</th>\n",
       "      <td>nddc James Ibori amp Emmanuel Uduaghan LINKED ...</td>\n",
       "      <td>2020-08-04</td>\n",
       "      <td>06:30:53</td>\n",
       "    </tr>\n",
       "    <tr>\n",
       "      <th>1</th>\n",
       "      <td>Reposted from heidi kat Building a tower tuesd...</td>\n",
       "      <td>2020-08-04</td>\n",
       "      <td>06:31:29</td>\n",
       "    </tr>\n",
       "    <tr>\n",
       "      <th>2</th>\n",
       "      <td>TuesdayTreat a bit of joy on a Tuesday set me ...</td>\n",
       "      <td>2020-08-04</td>\n",
       "      <td>06:31:41</td>\n",
       "    </tr>\n",
       "    <tr>\n",
       "      <th>3</th>\n",
       "      <td>People that not say Hi is definitely the best ...</td>\n",
       "      <td>2020-08-04</td>\n",
       "      <td>06:32:22</td>\n",
       "    </tr>\n",
       "    <tr>\n",
       "      <th>4</th>\n",
       "      <td>Good morning tuesday fans What s the plan for ...</td>\n",
       "      <td>2020-08-04</td>\n",
       "      <td>06:32:39</td>\n",
       "    </tr>\n",
       "  </tbody>\n",
       "</table>\n",
       "</div>"
      ],
      "text/plain": [
       "                                              corpus        date      time\n",
       "0  nddc James Ibori amp Emmanuel Uduaghan LINKED ...  2020-08-04  06:30:53\n",
       "1  Reposted from heidi kat Building a tower tuesd...  2020-08-04  06:31:29\n",
       "2  TuesdayTreat a bit of joy on a Tuesday set me ...  2020-08-04  06:31:41\n",
       "3  People that not say Hi is definitely the best ...  2020-08-04  06:32:22\n",
       "4  Good morning tuesday fans What s the plan for ...  2020-08-04  06:32:39"
      ]
     },
     "execution_count": 7,
     "metadata": {},
     "output_type": "execute_result"
    }
   ],
   "source": [
    "df.head()"
   ]
  }
 ],
 "metadata": {
  "kernelspec": {
   "display_name": "Python 3",
   "language": "python",
   "name": "python3"
  },
  "language_info": {
   "codemirror_mode": {
    "name": "ipython",
    "version": 3
   },
   "file_extension": ".py",
   "mimetype": "text/x-python",
   "name": "python",
   "nbconvert_exporter": "python",
   "pygments_lexer": "ipython3",
   "version": "3.8.3"
  }
 },
 "nbformat": 4,
 "nbformat_minor": 5
}
