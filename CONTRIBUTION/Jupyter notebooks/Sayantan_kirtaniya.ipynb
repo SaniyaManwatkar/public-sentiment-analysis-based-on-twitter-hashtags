{
 "cells": [
  {
   "cell_type": "markdown",
   "id": "8a7439a8",
   "metadata": {},
   "source": [
    "### Part 1"
   ]
  },
  {
   "cell_type": "markdown",
   "id": "f1787e32",
   "metadata": {},
   "source": [
    "# Imports"
   ]
  },
  {
   "cell_type": "code",
   "execution_count": null,
   "id": "4e33b1d1",
   "metadata": {},
   "outputs": [],
   "source": [
    "#code"
   ]
  },
  {
   "cell_type": "markdown",
   "id": "2345f183",
   "metadata": {},
   "source": [
    "# Handling the dataset"
   ]
  },
  {
   "cell_type": "code",
   "execution_count": 1,
   "id": "d60710df",
   "metadata": {},
   "outputs": [],
   "source": [
    "#code"
   ]
  },
  {
   "cell_type": "markdown",
   "id": "3d76e698",
   "metadata": {},
   "source": [
    "# Building functions "
   ]
  },
  {
   "cell_type": "code",
   "execution_count": 2,
   "id": "ed264951",
   "metadata": {},
   "outputs": [],
   "source": [
    "#code"
   ]
  },
  {
   "cell_type": "markdown",
   "id": "5b0ceb7c",
   "metadata": {},
   "source": [
    "### Part 2"
   ]
  },
  {
   "cell_type": "markdown",
   "id": "8501e0c6",
   "metadata": {},
   "source": [
    "# Plots"
   ]
  },
  {
   "cell_type": "code",
   "execution_count": 3,
   "id": "331e4e49",
   "metadata": {},
   "outputs": [],
   "source": [
    "#code"
   ]
  },
  {
   "cell_type": "markdown",
   "id": "a2027570",
   "metadata": {},
   "source": [
    "# Conclution "
   ]
  },
  {
   "cell_type": "code",
   "execution_count": 4,
   "id": "d75c7551",
   "metadata": {},
   "outputs": [],
   "source": [
    "#conclude with your observasions "
   ]
  }
 ],
 "metadata": {
  "kernelspec": {
   "display_name": "Python 3",
   "language": "python",
   "name": "python3"
  },
  "language_info": {
   "codemirror_mode": {
    "name": "ipython",
    "version": 3
   },
   "file_extension": ".py",
   "mimetype": "text/x-python",
   "name": "python",
   "nbconvert_exporter": "python",
   "pygments_lexer": "ipython3",
   "version": "3.8.3"
  }
 },
 "nbformat": 4,
 "nbformat_minor": 5
}
