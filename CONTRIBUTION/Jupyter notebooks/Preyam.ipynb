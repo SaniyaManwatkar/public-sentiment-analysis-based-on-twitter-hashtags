{
  "cells": [
    {
      "cell_type": "markdown",
      "id": "8a7439a8",
      "metadata": {
        "id": "8a7439a8"
      },
      "source": [
        "### Part 1"
      ]
    },
    {
      "cell_type": "markdown",
      "id": "f1787e32",
      "metadata": {
        "id": "f1787e32"
      },
      "source": [
        "# Imports"
      ]
    },
    {
      "cell_type": "code",
      "source": [
        "from google.colab import drive\n",
        "drive.mount('/content/drive')"
      ],
      "metadata": {
        "colab": {
          "base_uri": "https://localhost:8080/"
        },
        "id": "5KBc_JJkLbb5",
        "outputId": "767ed07b-1c80-4901-a62b-f6856f5896b7"
      },
      "id": "5KBc_JJkLbb5",
      "execution_count": 1,
      "outputs": [
        {
          "output_type": "stream",
          "name": "stdout",
          "text": [
            "Mounted at /content/drive\n"
          ]
        }
      ]
    },
    {
      "cell_type": "code",
      "execution_count": 33,
      "id": "4e33b1d1",
      "metadata": {
        "collapsed": true,
        "colab": {
          "base_uri": "https://localhost:8080/"
        },
        "id": "4e33b1d1",
        "outputId": "2ce02ada-23ce-4fac-8ad7-7fb535a5efbb"
      },
      "outputs": [
        {
          "output_type": "stream",
          "name": "stdout",
          "text": [
            "[nltk_data] Downloading package stopwords to /root/nltk_data...\n",
            "[nltk_data]   Package stopwords is already up-to-date!\n",
            "[nltk_data] Downloading package punkt to /root/nltk_data...\n",
            "[nltk_data]   Package punkt is already up-to-date!\n",
            "[nltk_data] Downloading package wordnet to /root/nltk_data...\n",
            "[nltk_data]   Package wordnet is already up-to-date!\n",
            "[nltk_data] Downloading package averaged_perceptron_tagger to\n",
            "[nltk_data]     /root/nltk_data...\n",
            "[nltk_data]   Package averaged_perceptron_tagger is already up-to-\n",
            "[nltk_data]       date!\n",
            "[nltk_data] Downloading package vader_lexicon to /root/nltk_data...\n",
            "[nltk_data]   Package vader_lexicon is already up-to-date!\n",
            "[nltk_data] Downloading package sentiwordnet to /root/nltk_data...\n",
            "[nltk_data]   Package sentiwordnet is already up-to-date!\n"
          ]
        },
        {
          "output_type": "execute_result",
          "data": {
            "text/plain": [
              "True"
            ]
          },
          "metadata": {},
          "execution_count": 33
        }
      ],
      "source": [
        "import os\n",
        "import pandas as pd\n",
        "import numpy as np\n",
        "import re\n",
        "import patoolib\n",
        "import csv\n",
        "import string\n",
        "import matplotlib.pyplot as plt\n",
        "%matplotlib inline\n",
        "import fasttext\n",
        "from io import StringIO\n",
        "import sklearn.model_selection\n",
        "from textblob import TextBlob\n",
        "import nltk\n",
        "from nltk.tokenize import word_tokenize\n",
        "from nltk.corpus import sentiwordnet as swn\n",
        "from nltk import pos_tag\n",
        "from nltk.corpus import stopwords, wordnet\n",
        "from nltk.stem import WordNetLemmatizer\n",
        "from vaderSentiment.vaderSentiment import SentimentIntensityAnalyzer\n",
        "nltk.download('stopwords')\n",
        "nltk.download('punkt')\n",
        "nltk.download('wordnet')\n",
        "nltk.download('averaged_perceptron_tagger')\n",
        "nltk.download('vader_lexicon')\n",
        "nltk.download('sentiwordnet')"
      ]
    },
    {
      "cell_type": "markdown",
      "id": "2345f183",
      "metadata": {
        "id": "2345f183"
      },
      "source": [
        "# Handling the dataset"
      ]
    },
    {
      "cell_type": "code",
      "execution_count": 8,
      "id": "d60710df",
      "metadata": {
        "id": "d60710df"
      },
      "outputs": [],
      "source": [
        "df = pd.read_csv(\"/content/drive/MyDrive/datasetV3.csv\")\n",
        "df = df.astype(str)"
      ]
    },
    {
      "cell_type": "code",
      "execution_count": 9,
      "metadata": {
        "id": "cd57a50e"
      },
      "outputs": [],
      "source": [
        "def clean(text):\n",
        "    try:\n",
        "        text = re.sub('[^A-Za-z]+', ' ', text)\n",
        "        return text\n",
        "    except:\n",
        "        return \"\""
      ],
      "id": "cd57a50e"
    },
    {
      "cell_type": "code",
      "execution_count": 10,
      "metadata": {
        "id": "8ed465fa"
      },
      "outputs": [],
      "source": [
        "pos_dict = {'J':wordnet.ADJ, 'V':wordnet.VERB, 'N':wordnet.NOUN, 'R':wordnet.ADV}\n",
        "def token_stop_pos(text):\n",
        "    tags = pos_tag(word_tokenize(text))\n",
        "    newlist = []\n",
        "    for word, tag in tags:\n",
        "        if word.lower() not in set(stopwords.words('english')):\n",
        "            newlist.append(tuple([word, pos_dict.get(tag[0])]))\n",
        "    return newlist"
      ],
      "id": "8ed465fa"
    },
    {
      "cell_type": "code",
      "execution_count": 11,
      "metadata": {
        "id": "faf54740"
      },
      "outputs": [],
      "source": [
        "wordnet_lemmatizer = WordNetLemmatizer()\n",
        "def lemmatize(pos_data):\n",
        "    lemma_rew = \" \"\n",
        "    for word, pos in pos_data:\n",
        "        if not pos:\n",
        "            lemma = word\n",
        "            lemma_rew = lemma_rew + \" \" + lemma\n",
        "        else:\n",
        "            lemma = wordnet_lemmatizer.lemmatize(word, pos=pos)\n",
        "            lemma_rew = lemma_rew + \" \" + lemma\n",
        "    return lemma_rew"
      ],
      "id": "faf54740"
    },
    {
      "cell_type": "code",
      "execution_count": 12,
      "metadata": {
        "id": "8f2508da"
      },
      "outputs": [],
      "source": [
        "for i in range(10):\n",
        "    df['Cleaned_tweet' + str(i)] = [clean(x) for x in df['tweet' + str(i)].values];\n",
        "    df['POS_tagged_tweet' + str(i)] = [token_stop_pos(x) for x in df['Cleaned_tweet' + str(i)].values];"
      ],
      "id": "8f2508da"
    },
    {
      "cell_type": "code",
      "execution_count": 13,
      "metadata": {
        "id": "4bf8d04a"
      },
      "outputs": [],
      "source": [
        "for i in range(10):\n",
        "    df['Lemma_tweet' + str(i)] = [lemmatize(x) for x in df['POS_tagged_tweet' + str(i)].values];"
      ],
      "id": "4bf8d04a"
    },
    {
      "cell_type": "markdown",
      "source": [
        "### Dataset for Fasttext training"
      ],
      "metadata": {
        "id": "DJ_qLi_JjFSt"
      },
      "id": "DJ_qLi_JjFSt"
    },
    {
      "cell_type": "code",
      "source": [
        "df_data=pd.read_csv(r'/content/drive/MyDrive/data16.csv', encoding= 'latin1', header=None, usecols=[0,5])\n",
        "df_data.columns = [\"sentiment\", \"tweet\"]"
      ],
      "metadata": {
        "id": "e5q4DVlyiJt3"
      },
      "id": "e5q4DVlyiJt3",
      "execution_count": 14,
      "outputs": []
    },
    {
      "cell_type": "code",
      "execution_count": 15,
      "metadata": {
        "id": "b5870d25"
      },
      "outputs": [],
      "source": [
        "tweets = np.array(df_data[\"tweet\"]);\n",
        "tweets = [' '.join(re.sub(\"(@[A-Za-z0-9]+)|([^0-9A-Za-z \\t])|(\\w+:\\/\\/\\S+)\",\" \",tweet).split()) for tweet in tweets]\n",
        "df_data[\"tweet\"] = tweets\n",
        "df_data[\"sentiment\"] = df_data[\"sentiment\"].replace(4,1)\n",
        "df_data = df_data.sample(frac = 1)\n",
        "df_data = df_data.astype(str)"
      ],
      "id": "b5870d25"
    },
    {
      "cell_type": "code",
      "execution_count": 16,
      "metadata": {
        "id": "25d142ee"
      },
      "outputs": [],
      "source": [
        "df_data[\"sentiment\"] = df_data[\"sentiment\"].replace(' ', '_', regex=True)\n",
        "df_data[\"sentiment\"]=['__label__'+s.replace(' or ', '$').replace(', or ','$').replace(',','$').replace(' ','_').replace(',','__label__').replace('$$','$').replace('$',' __label__').replace('___','__') for s in df_data[\"sentiment\"]]\n",
        "\n",
        "df_data[\"tweet\"]= df_data[\"tweet\"].replace('\\n',' ', regex=True).replace('\\t',' ', regex=True)\n",
        "df_data.to_csv(r'df_text.txt', index=False, sep=' ', header=False, quoting=csv.QUOTE_NONE, quotechar=\"\", escapechar=\" \")\n",
        "\n",
        "train_df,test_df = sklearn.model_selection.train_test_split(df_data, stratify=df_data[\"sentiment\"], test_size=0.2)\n",
        "train_df.to_csv(r'df_train.txt', index=False, sep=' ', header=False, quoting=csv.QUOTE_NONE, quotechar=\"\", escapechar=\" \")\n",
        "test_df.to_csv(r'df_valid.txt', index=False, sep=' ', header=False, quoting=csv.QUOTE_NONE, quotechar=\"\", escapechar=\" \")"
      ],
      "id": "25d142ee"
    },
    {
      "cell_type": "markdown",
      "id": "3d76e698",
      "metadata": {
        "id": "3d76e698"
      },
      "source": [
        "# Building functions "
      ]
    },
    {
      "cell_type": "markdown",
      "id": "9eecabf0",
      "metadata": {
        "id": "9eecabf0"
      },
      "source": [
        "### Using TextBlob"
      ]
    },
    {
      "cell_type": "code",
      "execution_count": 17,
      "metadata": {
        "id": "41a49c51"
      },
      "outputs": [],
      "source": [
        "def getPolarity(tweet):\n",
        "    return TextBlob(tweet).sentiment.polarity"
      ],
      "id": "41a49c51"
    },
    {
      "cell_type": "code",
      "execution_count": 18,
      "id": "899e7a75",
      "metadata": {
        "id": "899e7a75"
      },
      "outputs": [],
      "source": [
        "for i in range(10):\n",
        "    df['TextBlob_Polarity' + str(i)] = [getPolarity(x) for x in df['Lemma_tweet' + str(i)]]"
      ]
    },
    {
      "cell_type": "code",
      "execution_count": 19,
      "id": "818d671e",
      "metadata": {
        "id": "818d671e"
      },
      "outputs": [],
      "source": [
        "df['Average_TextBlob_Polarity'] = df.iloc[:,-10:].mean(axis=1)"
      ]
    },
    {
      "cell_type": "markdown",
      "id": "1dce1748",
      "metadata": {
        "id": "1dce1748"
      },
      "source": [
        "### Using VADER"
      ]
    },
    {
      "cell_type": "code",
      "execution_count": 20,
      "metadata": {
        "id": "9c1ff52b"
      },
      "outputs": [],
      "source": [
        "analyzer = SentimentIntensityAnalyzer()\n",
        "def Vader_scores(tweet):\n",
        "    try:\n",
        "        return analyzer.polarity_scores(tweet)\n",
        "    except:\n",
        "        return {'pos':0, 'neg':0, 'neu':0, 'compound':0}"
      ],
      "id": "9c1ff52b"
    },
    {
      "cell_type": "code",
      "execution_count": 21,
      "id": "adb2e459",
      "metadata": {
        "id": "adb2e459"
      },
      "outputs": [],
      "source": [
        "for i in range(10):\n",
        "    scores = [Vader_scores(x) for x in df['tweet' + str(i)]]\n",
        "    df['Vader_neg' + str(i)] = [x['neg'] for x in scores]\n",
        "    df['Vader_neu' + str(i)] = [x['neu'] for x in scores]\n",
        "    df['Vader_pos' + str(i)] = [x['pos'] for x in scores]\n",
        "    df['Vader_compound' + str(i)] = [x['compound'] for x in scores]"
      ]
    },
    {
      "cell_type": "code",
      "execution_count": 22,
      "id": "c68fd132",
      "metadata": {
        "id": "c68fd132"
      },
      "outputs": [],
      "source": [
        "df['Average_Vader_neg'] = df[(list(df.filter(regex='Vader_neg')))].mean(axis=1)\n",
        "df['Average_Vader_neu'] = df[(list(df.filter(regex='Vader_neu')))].mean(axis=1)\n",
        "df['Average_Vader_pos'] = df[(list(df.filter(regex='Vader_pos')))].mean(axis=1)\n",
        "df['Average_Vader_compound'] = df[(list(df.filter(regex='Vader_compound')))].mean(axis=1)"
      ]
    },
    {
      "cell_type": "markdown",
      "source": [
        "### Using Fasttext"
      ],
      "metadata": {
        "id": "PrQNQewDjxwb"
      },
      "id": "PrQNQewDjxwb"
    },
    {
      "cell_type": "code",
      "execution_count": 23,
      "metadata": {
        "colab": {
          "base_uri": "https://localhost:8080/"
        },
        "id": "e0d9af72",
        "outputId": "4be38987-4440-49f9-8ac0-a59968036a57"
      },
      "outputs": [
        {
          "output_type": "stream",
          "name": "stdout",
          "text": [
            "Cloning into 'fastText'...\n",
            "remote: Enumerating objects: 3854, done.\u001b[K\n",
            "remote: Total 3854 (delta 0), reused 0 (delta 0), pack-reused 3854\u001b[K\n",
            "Receiving objects: 100% (3854/3854), 8.22 MiB | 33.03 MiB/s, done.\n",
            "Resolving deltas: 100% (2417/2417), done.\n",
            "/content/fastText\n",
            "c++ -pthread -std=c++11 -march=native -O3 -funroll-loops -DNDEBUG -c src/args.cc\n",
            "c++ -pthread -std=c++11 -march=native -O3 -funroll-loops -DNDEBUG -c src/autotune.cc\n",
            "c++ -pthread -std=c++11 -march=native -O3 -funroll-loops -DNDEBUG -c src/matrix.cc\n",
            "c++ -pthread -std=c++11 -march=native -O3 -funroll-loops -DNDEBUG -c src/dictionary.cc\n",
            "c++ -pthread -std=c++11 -march=native -O3 -funroll-loops -DNDEBUG -c src/loss.cc\n",
            "c++ -pthread -std=c++11 -march=native -O3 -funroll-loops -DNDEBUG -c src/productquantizer.cc\n",
            "c++ -pthread -std=c++11 -march=native -O3 -funroll-loops -DNDEBUG -c src/densematrix.cc\n",
            "c++ -pthread -std=c++11 -march=native -O3 -funroll-loops -DNDEBUG -c src/quantmatrix.cc\n",
            "c++ -pthread -std=c++11 -march=native -O3 -funroll-loops -DNDEBUG -c src/vector.cc\n",
            "c++ -pthread -std=c++11 -march=native -O3 -funroll-loops -DNDEBUG -c src/model.cc\n",
            "c++ -pthread -std=c++11 -march=native -O3 -funroll-loops -DNDEBUG -c src/utils.cc\n",
            "c++ -pthread -std=c++11 -march=native -O3 -funroll-loops -DNDEBUG -c src/meter.cc\n",
            "c++ -pthread -std=c++11 -march=native -O3 -funroll-loops -DNDEBUG -c src/fasttext.cc\n",
            "c++ -pthread -std=c++11 -march=native -O3 -funroll-loops -DNDEBUG args.o autotune.o matrix.o dictionary.o loss.o productquantizer.o densematrix.o quantmatrix.o vector.o model.o utils.o meter.o fasttext.o src/main.cc -o fasttext\n",
            "/content\n"
          ]
        }
      ],
      "source": [
        "!git clone https://github.com/facebookresearch/fastText.git\n",
        "%cd fastText\n",
        "!make\n",
        "!cp fasttext ../\n",
        "%cd .."
      ],
      "id": "e0d9af72"
    },
    {
      "cell_type": "code",
      "execution_count": 24,
      "metadata": {
        "id": "9539f1d8"
      },
      "outputs": [],
      "source": [
        "# Put 80% in df_text and 20% in df_valid\n",
        "!head -n 1280000 df_text.txt > df_train.txt\n",
        "!tail -n 320000 df_text.txt > df_valid.txt"
      ],
      "id": "9539f1d8"
    },
    {
      "cell_type": "code",
      "execution_count": 25,
      "metadata": {
        "colab": {
          "base_uri": "https://localhost:8080/"
        },
        "id": "48e5c166",
        "outputId": "08b2b373-9490-4298-9c51-a811bcbd1be9"
      },
      "outputs": [
        {
          "output_type": "stream",
          "name": "stdout",
          "text": [
            "Progress: 100.0% Trials:    3 Best score:  0.807969 ETA:   0h 0m 0s\n",
            "Training again with best arguments\n",
            "Read 19M words\n",
            "Number of words:  332758\n",
            "Number of labels: 2\n",
            "Progress: 100.0% words/sec/thread:   35127 lr:  0.000000 avg.loss:  0.459381 ETA:   0h 0m 0s\n"
          ]
        }
      ],
      "source": [
        "!./fasttext supervised -input ./df_train.txt -output sent_model -autotune-validation ./df_valid.txt"
      ],
      "id": "48e5c166"
    },
    {
      "cell_type": "code",
      "execution_count": 26,
      "metadata": {
        "colab": {
          "base_uri": "https://localhost:8080/"
        },
        "id": "d899c249",
        "outputId": "a019e02f-91ed-4d20-bf5a-5a9d98d019b1"
      },
      "outputs": [
        {
          "output_type": "stream",
          "name": "stderr",
          "text": [
            "Warning : `load_model` does not return WordVectorModel or SupervisedModel any more, but a `FastText` object which is very similar.\n"
          ]
        }
      ],
      "source": [
        "model = fasttext.load_model(\"sent_model.bin\")"
      ],
      "id": "d899c249"
    },
    {
      "cell_type": "code",
      "execution_count": 27,
      "metadata": {
        "id": "20d75b2e"
      },
      "outputs": [],
      "source": [
        "def print_results(model, input_path, k):\n",
        "    num_records, precision_at_k, recall_at_k = model.test(input_path, k)\n",
        "    f1_at_k = 2 * (precision_at_k * recall_at_k) / (precision_at_k + recall_at_k)\n",
        "\n",
        "    print(\"records\\t{}\".format(num_records))\n",
        "    print(\"Precision@{}\\t{:.3f}\".format(k, precision_at_k))\n",
        "    print(\"Recall@{}\\t{:.3f}\".format(k, recall_at_k))\n",
        "    print(\"F1@{}\\t{:.3f}\".format(k, f1_at_k))\n",
        "    print()"
      ],
      "id": "20d75b2e"
    },
    {
      "cell_type": "code",
      "execution_count": 28,
      "metadata": {
        "colab": {
          "base_uri": "https://localhost:8080/"
        },
        "id": "9fbc0057",
        "outputId": "74ae25f2-77ce-4ab1-e14f-6d7b85f2f5f5"
      },
      "outputs": [
        {
          "output_type": "stream",
          "name": "stdout",
          "text": [
            "train metrics:\n",
            "records\t1280000\n",
            "Precision@1\t0.821\n",
            "Recall@1\t0.821\n",
            "F1@1\t0.821\n",
            "\n",
            "test metrics:\n",
            "records\t320000\n",
            "Precision@1\t0.808\n",
            "Recall@1\t0.808\n",
            "F1@1\t0.808\n",
            "\n"
          ]
        }
      ],
      "source": [
        "print('train metrics:')\n",
        "print_results(model, 'df_train.txt', 1)\n",
        "\n",
        "print('test metrics:')\n",
        "print_results(model,'df_valid.txt', 1)"
      ],
      "id": "9fbc0057"
    },
    {
      "cell_type": "code",
      "source": [
        "for i in range(10):\n",
        "    values1 = [model.predict(x,2) for x in df['tweet' + str(i)].values];\n",
        "    x = [list(value) for value in values1]\n",
        "    for index,ele in enumerate(x):\n",
        "        ele[0] = list(ele[0])\n",
        "        if ele[0][0][-1] == '1':\n",
        "            ele[0][0],ele[0][1] = ele[0][1],ele[0][0]\n",
        "            ele[1][0],ele[1][1] = ele[1][1],ele[1][0]\n",
        "    df['tweet' + str(i) + '_fasttext_positive_prob'] = [y[1][1] for y in x]\n",
        "    df['tweet' + str(i) + '_fasttext_negative_prob'] = [y[1][0] for y in x]"
      ],
      "metadata": {
        "id": "g_C7NQ7CX1nf"
      },
      "id": "g_C7NQ7CX1nf",
      "execution_count": 29,
      "outputs": []
    },
    {
      "cell_type": "code",
      "execution_count": 30,
      "metadata": {
        "id": "8b353937"
      },
      "outputs": [],
      "source": [
        "df['Average_fasttext_positive_prob'] = df[(list(df.filter(regex='fasttext_positive_prob')))].mean(axis=1)\n",
        "df['Average_fasttext_negative_prob'] = df[(list(df.filter(regex='fasttext_negative_prob')))].mean(axis=1)"
      ],
      "id": "8b353937"
    },
    {
      "cell_type": "markdown",
      "source": [
        "####Final Dataset"
      ],
      "metadata": {
        "id": "mMnZJlzEkQdj"
      },
      "id": "mMnZJlzEkQdj"
    },
    {
      "cell_type": "code",
      "execution_count": 31,
      "id": "7e425d79",
      "metadata": {
        "colab": {
          "base_uri": "https://localhost:8080/",
          "height": 487
        },
        "id": "7e425d79",
        "outputId": "1f1c75eb-bd42-4679-d2c4-bc9e7e4b21e6"
      },
      "outputs": [
        {
          "output_type": "execute_result",
          "data": {
            "text/html": [
              "\n",
              "  <div id=\"df-677c4c27-a0ae-424d-b1bb-df49d53e2cce\">\n",
              "    <div class=\"colab-df-container\">\n",
              "      <div>\n",
              "<style scoped>\n",
              "    .dataframe tbody tr th:only-of-type {\n",
              "        vertical-align: middle;\n",
              "    }\n",
              "\n",
              "    .dataframe tbody tr th {\n",
              "        vertical-align: top;\n",
              "    }\n",
              "\n",
              "    .dataframe thead th {\n",
              "        text-align: right;\n",
              "    }\n",
              "</style>\n",
              "<table border=\"1\" class=\"dataframe\">\n",
              "  <thead>\n",
              "    <tr style=\"text-align: right;\">\n",
              "      <th></th>\n",
              "      <th>Data</th>\n",
              "      <th>Date</th>\n",
              "      <th>Time</th>\n",
              "      <th>Average_TextBlob_Polarity</th>\n",
              "      <th>Average_Vader_neg</th>\n",
              "      <th>Average_Vader_neu</th>\n",
              "      <th>Average_Vader_pos</th>\n",
              "      <th>Average_Vader_compound</th>\n",
              "      <th>Average_fasttext_positive_prob</th>\n",
              "      <th>Average_fasttext_negative_prob</th>\n",
              "    </tr>\n",
              "  </thead>\n",
              "  <tbody>\n",
              "    <tr>\n",
              "      <th>0</th>\n",
              "      <td>tuesdayvibes</td>\n",
              "      <td>7/14/2020</td>\n",
              "      <td>7:00:21</td>\n",
              "      <td>0.171856</td>\n",
              "      <td>0.0229</td>\n",
              "      <td>0.8450</td>\n",
              "      <td>0.1321</td>\n",
              "      <td>0.09400</td>\n",
              "      <td>0.694402</td>\n",
              "      <td>0.305618</td>\n",
              "    </tr>\n",
              "    <tr>\n",
              "      <th>1</th>\n",
              "      <td>realmeC11</td>\n",
              "      <td>7/14/2020</td>\n",
              "      <td>7:00:21</td>\n",
              "      <td>0.211221</td>\n",
              "      <td>0.0184</td>\n",
              "      <td>0.9191</td>\n",
              "      <td>0.0625</td>\n",
              "      <td>0.15109</td>\n",
              "      <td>0.443586</td>\n",
              "      <td>0.556434</td>\n",
              "    </tr>\n",
              "    <tr>\n",
              "      <th>2</th>\n",
              "      <td>KPSharmaOli</td>\n",
              "      <td>7/14/2020</td>\n",
              "      <td>7:00:21</td>\n",
              "      <td>-0.091250</td>\n",
              "      <td>0.0933</td>\n",
              "      <td>0.8070</td>\n",
              "      <td>0.0997</td>\n",
              "      <td>-0.01938</td>\n",
              "      <td>0.616300</td>\n",
              "      <td>0.383720</td>\n",
              "    </tr>\n",
              "    <tr>\n",
              "      <th>3</th>\n",
              "      <td>RheaChakraborty</td>\n",
              "      <td>7/14/2020</td>\n",
              "      <td>7:00:21</td>\n",
              "      <td>0.050000</td>\n",
              "      <td>0.1047</td>\n",
              "      <td>0.7368</td>\n",
              "      <td>0.1587</td>\n",
              "      <td>0.18638</td>\n",
              "      <td>0.675596</td>\n",
              "      <td>0.324424</td>\n",
              "    </tr>\n",
              "    <tr>\n",
              "      <th>4</th>\n",
              "      <td>Stop_Transfer_Sunita_Yadav</td>\n",
              "      <td>7/14/2020</td>\n",
              "      <td>7:00:21</td>\n",
              "      <td>0.140952</td>\n",
              "      <td>0.1772</td>\n",
              "      <td>0.6803</td>\n",
              "      <td>0.1424</td>\n",
              "      <td>0.04834</td>\n",
              "      <td>0.747066</td>\n",
              "      <td>0.252954</td>\n",
              "    </tr>\n",
              "    <tr>\n",
              "      <th>...</th>\n",
              "      <td>...</td>\n",
              "      <td>...</td>\n",
              "      <td>...</td>\n",
              "      <td>...</td>\n",
              "      <td>...</td>\n",
              "      <td>...</td>\n",
              "      <td>...</td>\n",
              "      <td>...</td>\n",
              "      <td>...</td>\n",
              "      <td>...</td>\n",
              "    </tr>\n",
              "    <tr>\n",
              "      <th>35261</th>\n",
              "      <td>SwaraBhasker</td>\n",
              "      <td>9/14/2020</td>\n",
              "      <td>13:00:01</td>\n",
              "      <td>0.028244</td>\n",
              "      <td>0.0891</td>\n",
              "      <td>0.8227</td>\n",
              "      <td>0.0883</td>\n",
              "      <td>0.04122</td>\n",
              "      <td>0.491158</td>\n",
              "      <td>0.508862</td>\n",
              "    </tr>\n",
              "    <tr>\n",
              "      <th>35262</th>\n",
              "      <td>TukdeTukdeGang</td>\n",
              "      <td>9/14/2020</td>\n",
              "      <td>13:00:01</td>\n",
              "      <td>0.007088</td>\n",
              "      <td>0.1064</td>\n",
              "      <td>0.7659</td>\n",
              "      <td>0.1276</td>\n",
              "      <td>0.02968</td>\n",
              "      <td>0.480902</td>\n",
              "      <td>0.519118</td>\n",
              "    </tr>\n",
              "    <tr>\n",
              "      <th>35263</th>\n",
              "      <td>IndooKiJawani</td>\n",
              "      <td>9/14/2020</td>\n",
              "      <td>13:00:01</td>\n",
              "      <td>0.166667</td>\n",
              "      <td>0.0474</td>\n",
              "      <td>0.8340</td>\n",
              "      <td>0.1186</td>\n",
              "      <td>0.21012</td>\n",
              "      <td>0.773183</td>\n",
              "      <td>0.226837</td>\n",
              "    </tr>\n",
              "    <tr>\n",
              "      <th>35264</th>\n",
              "      <td>DelhiRiots2020</td>\n",
              "      <td>9/14/2020</td>\n",
              "      <td>13:00:01</td>\n",
              "      <td>0.235357</td>\n",
              "      <td>0.0671</td>\n",
              "      <td>0.8759</td>\n",
              "      <td>0.0569</td>\n",
              "      <td>0.04645</td>\n",
              "      <td>0.582829</td>\n",
              "      <td>0.417191</td>\n",
              "    </tr>\n",
              "    <tr>\n",
              "      <th>35265</th>\n",
              "      <td>SevaSaptah</td>\n",
              "      <td>9/14/2020</td>\n",
              "      <td>13:00:01</td>\n",
              "      <td>0.058333</td>\n",
              "      <td>0.0144</td>\n",
              "      <td>0.8844</td>\n",
              "      <td>0.1012</td>\n",
              "      <td>0.36258</td>\n",
              "      <td>0.759361</td>\n",
              "      <td>0.240659</td>\n",
              "    </tr>\n",
              "  </tbody>\n",
              "</table>\n",
              "<p>35266 rows × 10 columns</p>\n",
              "</div>\n",
              "      <button class=\"colab-df-convert\" onclick=\"convertToInteractive('df-677c4c27-a0ae-424d-b1bb-df49d53e2cce')\"\n",
              "              title=\"Convert this dataframe to an interactive table.\"\n",
              "              style=\"display:none;\">\n",
              "        \n",
              "  <svg xmlns=\"http://www.w3.org/2000/svg\" height=\"24px\"viewBox=\"0 0 24 24\"\n",
              "       width=\"24px\">\n",
              "    <path d=\"M0 0h24v24H0V0z\" fill=\"none\"/>\n",
              "    <path d=\"M18.56 5.44l.94 2.06.94-2.06 2.06-.94-2.06-.94-.94-2.06-.94 2.06-2.06.94zm-11 1L8.5 8.5l.94-2.06 2.06-.94-2.06-.94L8.5 2.5l-.94 2.06-2.06.94zm10 10l.94 2.06.94-2.06 2.06-.94-2.06-.94-.94-2.06-.94 2.06-2.06.94z\"/><path d=\"M17.41 7.96l-1.37-1.37c-.4-.4-.92-.59-1.43-.59-.52 0-1.04.2-1.43.59L10.3 9.45l-7.72 7.72c-.78.78-.78 2.05 0 2.83L4 21.41c.39.39.9.59 1.41.59.51 0 1.02-.2 1.41-.59l7.78-7.78 2.81-2.81c.8-.78.8-2.07 0-2.86zM5.41 20L4 18.59l7.72-7.72 1.47 1.35L5.41 20z\"/>\n",
              "  </svg>\n",
              "      </button>\n",
              "      \n",
              "  <style>\n",
              "    .colab-df-container {\n",
              "      display:flex;\n",
              "      flex-wrap:wrap;\n",
              "      gap: 12px;\n",
              "    }\n",
              "\n",
              "    .colab-df-convert {\n",
              "      background-color: #E8F0FE;\n",
              "      border: none;\n",
              "      border-radius: 50%;\n",
              "      cursor: pointer;\n",
              "      display: none;\n",
              "      fill: #1967D2;\n",
              "      height: 32px;\n",
              "      padding: 0 0 0 0;\n",
              "      width: 32px;\n",
              "    }\n",
              "\n",
              "    .colab-df-convert:hover {\n",
              "      background-color: #E2EBFA;\n",
              "      box-shadow: 0px 1px 2px rgba(60, 64, 67, 0.3), 0px 1px 3px 1px rgba(60, 64, 67, 0.15);\n",
              "      fill: #174EA6;\n",
              "    }\n",
              "\n",
              "    [theme=dark] .colab-df-convert {\n",
              "      background-color: #3B4455;\n",
              "      fill: #D2E3FC;\n",
              "    }\n",
              "\n",
              "    [theme=dark] .colab-df-convert:hover {\n",
              "      background-color: #434B5C;\n",
              "      box-shadow: 0px 1px 3px 1px rgba(0, 0, 0, 0.15);\n",
              "      filter: drop-shadow(0px 1px 2px rgba(0, 0, 0, 0.3));\n",
              "      fill: #FFFFFF;\n",
              "    }\n",
              "  </style>\n",
              "\n",
              "      <script>\n",
              "        const buttonEl =\n",
              "          document.querySelector('#df-677c4c27-a0ae-424d-b1bb-df49d53e2cce button.colab-df-convert');\n",
              "        buttonEl.style.display =\n",
              "          google.colab.kernel.accessAllowed ? 'block' : 'none';\n",
              "\n",
              "        async function convertToInteractive(key) {\n",
              "          const element = document.querySelector('#df-677c4c27-a0ae-424d-b1bb-df49d53e2cce');\n",
              "          const dataTable =\n",
              "            await google.colab.kernel.invokeFunction('convertToInteractive',\n",
              "                                                     [key], {});\n",
              "          if (!dataTable) return;\n",
              "\n",
              "          const docLinkHtml = 'Like what you see? Visit the ' +\n",
              "            '<a target=\"_blank\" href=https://colab.research.google.com/notebooks/data_table.ipynb>data table notebook</a>'\n",
              "            + ' to learn more about interactive tables.';\n",
              "          element.innerHTML = '';\n",
              "          dataTable['output_type'] = 'display_data';\n",
              "          await google.colab.output.renderOutput(dataTable, element);\n",
              "          const docLink = document.createElement('div');\n",
              "          docLink.innerHTML = docLinkHtml;\n",
              "          element.appendChild(docLink);\n",
              "        }\n",
              "      </script>\n",
              "    </div>\n",
              "  </div>\n",
              "  "
            ],
            "text/plain": [
              "                              Data  ... Average_fasttext_negative_prob\n",
              "0                     tuesdayvibes  ...                       0.305618\n",
              "1                        realmeC11  ...                       0.556434\n",
              "2                      KPSharmaOli  ...                       0.383720\n",
              "3                  RheaChakraborty  ...                       0.324424\n",
              "4       Stop_Transfer_Sunita_Yadav  ...                       0.252954\n",
              "...                            ...  ...                            ...\n",
              "35261                 SwaraBhasker  ...                       0.508862\n",
              "35262               TukdeTukdeGang  ...                       0.519118\n",
              "35263                IndooKiJawani  ...                       0.226837\n",
              "35264               DelhiRiots2020  ...                       0.417191\n",
              "35265                   SevaSaptah  ...                       0.240659\n",
              "\n",
              "[35266 rows x 10 columns]"
            ]
          },
          "metadata": {},
          "execution_count": 31
        }
      ],
      "source": [
        "df_final = df.loc[:,list(df.filter(regex='Average'))]\n",
        "df_final = pd.concat([df.loc[:,[\"Data\",\"Date\",\"Time\"]],df_final],axis=1)\n",
        "df_final"
      ]
    },
    {
      "cell_type": "code",
      "execution_count": 32,
      "id": "434b6ee7",
      "metadata": {
        "id": "434b6ee7"
      },
      "outputs": [],
      "source": [
        "df_final.to_excel('database_final.xlsx')"
      ]
    },
    {
      "cell_type": "markdown",
      "id": "5b0ceb7c",
      "metadata": {
        "id": "5b0ceb7c"
      },
      "source": [
        "### Part 2"
      ]
    },
    {
      "cell_type": "markdown",
      "id": "8501e0c6",
      "metadata": {
        "id": "8501e0c6"
      },
      "source": [
        "# Plots"
      ]
    },
    {
      "cell_type": "code",
      "source": [
        "labels=[\"Positive\",\"Neutral\",\"Negative\"]"
      ],
      "metadata": {
        "id": "WZolZlUl8YNj"
      },
      "id": "WZolZlUl8YNj",
      "execution_count": 70,
      "outputs": []
    },
    {
      "cell_type": "code",
      "source": [
        "def func(x):\n",
        "    if(x>0.1):\n",
        "        return \"Positive\"\n",
        "    elif(x<-0.1):\n",
        "        return \"Negative\"\n",
        "    else:\n",
        "        return \"Neutral\""
      ],
      "metadata": {
        "id": "n74-M1Uu8yob"
      },
      "id": "n74-M1Uu8yob",
      "execution_count": 47,
      "outputs": []
    },
    {
      "cell_type": "code",
      "source": [
        "df_final[\"Average_fasttext\"]=df_final[\"Average_fasttext_positive_prob\"]-df_final[\"Average_fasttext_negative_prob\"]"
      ],
      "metadata": {
        "id": "96K8J0kTBEvN"
      },
      "id": "96K8J0kTBEvN",
      "execution_count": 65,
      "outputs": []
    },
    {
      "cell_type": "code",
      "source": [
        "df_final[\"TextBlob\"]=[func(x) for x in df_final['Average_TextBlob_Polarity']]\n",
        "df_final[\"Vader\"]=[func(x) for x in df_final['Average_Vader_compound']]\n",
        "df_final[\"Fasttext\"]=[func(x) for x in df_final['Average_fasttext']]"
      ],
      "metadata": {
        "id": "M0Fum7b083b9"
      },
      "id": "M0Fum7b083b9",
      "execution_count": 61,
      "outputs": []
    },
    {
      "cell_type": "code",
      "source": [
        "fig = plt.subplots(1,3,figsize=(25,25)) \n",
        "plt.subplot(1,3,1)\n",
        "plt.pie(df_final['TextBlob'].value_counts(), labels= labels, startangle=90, autopct='%.1f%%')\n",
        "plt.title('TextBlob Analysis')\n",
        "\n",
        "plt.subplot(1,3,2)\n",
        "plt.pie(df_final['Vader'].value_counts(), labels= labels, startangle=90, autopct='%.1f%%')\n",
        "plt.title('Vader Analysis')\n",
        "\n",
        "plt.subplot(1,3,3)\n",
        "plt.pie(df_final['Fasttext'].value_counts(), labels= labels, startangle=90, autopct='%.1f%%')\n",
        "plt.title('Fasttext Analysis')\n",
        "plt.show()"
      ],
      "metadata": {
        "colab": {
          "base_uri": "https://localhost:8080/",
          "height": 454
        },
        "id": "7lJk5ZIKBJvq",
        "outputId": "f4a40b3f-ddb0-4e08-c89b-3117e1a0292f"
      },
      "id": "7lJk5ZIKBJvq",
      "execution_count": 117,
      "outputs": [
        {
          "output_type": "display_data",
          "data": {
            "image/png": "[encoded data removed]",
            "text/plain": [
              "<Figure size 1800x1800 with 3 Axes>"
            ]
          },
          "metadata": {}
        }
      ]
    },
    {
      "cell_type": "code",
      "source": [
        "df_final['Day']=pd.to_datetime(df_final['Date']).dt.day_name()\n",
        "days = df_final['Day'].value_counts().index.to_list()"
      ],
      "metadata": {
        "id": "ab8msDXiIHSC"
      },
      "id": "ab8msDXiIHSC",
      "execution_count": 185,
      "outputs": []
    },
    {
      "cell_type": "code",
      "source": [
        "x = df_final.groupby('Day')[\"TextBlob\"].value_counts()\n",
        "plotdata = pd.DataFrame({\n",
        "    \"Positive\" : [x[day][0] for day in days],\n",
        "    \"Neutral\" : [x[day][1] for day in days],\n",
        "    \"Negative\" : [x[day][2] for day in days]\n",
        "    }, \n",
        "    index=days\n",
        ")\n",
        "plotdata.plot(kind=\"bar\",figsize = (20,5))\n",
        "plt.title(\"TextBlob Day-wise Analysis\")\n",
        "plt.xlabel(\"Days\")\n",
        "plt.ylabel(\"Number of Tweets\")\n",
        "plt.show()"
      ],
      "metadata": {
        "colab": {
          "base_uri": "https://localhost:8080/",
          "height": 398
        },
        "id": "DFsnX4ZjNW90",
        "outputId": "795d15f2-b547-44ea-fe46-2caff8a87b02"
      },
      "id": "DFsnX4ZjNW90",
      "execution_count": 189,
      "outputs": [
        {
          "output_type": "display_data",
          "data": {
            "image/png": "[encoded data removed]",
            "text/plain": [
              "<Figure size 1440x360 with 1 Axes>"
            ]
          },
          "metadata": {
            "needs_background": "light"
          }
        }
      ]
    },
    {
      "cell_type": "code",
      "source": [
        "x = df_final.groupby('Day')[\"Vader\"].value_counts()\n",
        "plotdata = pd.DataFrame({\n",
        "    \"Positive\" : [x[day][0] for day in days],\n",
        "    \"Neutral\" : [x[day][1] for day in days],\n",
        "    \"Negative\" : [x[day][2] for day in days]\n",
        "    }, \n",
        "    index=days\n",
        ")\n",
        "plotdata.plot(kind=\"bar\",figsize = (20,5))\n",
        "plt.title(\"Vader Day-wise Analysis\")\n",
        "plt.xlabel(\"Days\")\n",
        "plt.ylabel(\"Number of Tweets\")\n",
        "plt.show()"
      ],
      "metadata": {
        "colab": {
          "base_uri": "https://localhost:8080/",
          "height": 398
        },
        "id": "08aid1HAMKGZ",
        "outputId": "ad8271f0-6a33-4cc1-db96-e82eed777823"
      },
      "id": "08aid1HAMKGZ",
      "execution_count": 191,
      "outputs": [
        {
          "output_type": "display_data",
          "data": {
            "image/png": "[encoded data removed]",
            "text/plain": [
              "<Figure size 1440x360 with 1 Axes>"
            ]
          },
          "metadata": {
            "needs_background": "light"
          }
        }
      ]
    },
    {
      "cell_type": "code",
      "source": [
        "x = df_final.groupby('Day')[\"Fasttext\"].value_counts()\n",
        "plotdata = pd.DataFrame({\n",
        "    \"Positive\" : [x[day][0] for day in days],\n",
        "    \"Neutral\" : [x[day][1] for day in days],\n",
        "    \"Negative\" : [x[day][2] for day in days]\n",
        "    }, \n",
        "    index=days\n",
        ")\n",
        "plotdata.plot(kind=\"bar\",figsize = (20,5))\n",
        "plt.title(\"Fasttext Day-wise Analysis\")\n",
        "plt.xlabel(\"Days\")\n",
        "plt.ylabel(\"Number of Tweets\")\n",
        "plt.show()"
      ],
      "metadata": {
        "colab": {
          "base_uri": "https://localhost:8080/",
          "height": 398
        },
        "id": "_Tlhs_QnS6QW",
        "outputId": "8fb6c53a-7992-439e-f789-ec4e5829eb93"
      },
      "id": "_Tlhs_QnS6QW",
      "execution_count": 190,
      "outputs": [
        {
          "output_type": "display_data",
          "data": {
            "image/png": "[encoded data removed]",
            "text/plain": [
              "<Figure size 1440x360 with 1 Axes>"
            ]
          },
          "metadata": {
            "needs_background": "light"
          }
        }
      ]
    },
    {
      "cell_type": "markdown",
      "id": "a2027570",
      "metadata": {
        "id": "a2027570"
      },
      "source": [
        "# Conclusion "
      ]
    },
    {
      "cell_type": "markdown",
      "source": [
        "We observe that sentiment analysis is very helpful while analysing tweets. We can easily look at a large amount of data and draw conclusions from it without actually reading through it all."
      ],
      "metadata": {
        "id": "QSvnTg9YPi4g"
      },
      "id": "QSvnTg9YPi4g"
    }
  ],
  "metadata": {
    "kernelspec": {
      "display_name": "Python 3",
      "language": "python",
      "name": "python3"
    },
    "language_info": {
      "codemirror_mode": {
        "name": "ipython",
        "version": 3
      },
      "file_extension": ".py",
      "mimetype": "text/x-python",
      "name": "python",
      "nbconvert_exporter": "python",
      "pygments_lexer": "ipython3",
      "version": "3.8.8"
    },
    "colab": {
      "name": "Preyam_Rao latest.ipynb",
      "provenance": [],
      "collapsed_sections": []
    }
  },
  "nbformat": 4,
  "nbformat_minor": 5
}