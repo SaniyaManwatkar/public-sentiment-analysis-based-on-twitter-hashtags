{
  "nbformat": 4,
  "nbformat_minor": 0,
  "metadata": {
    "colab": {
      "name": "Jeevesh_Mahajan",
      "provenance": [],
      "collapsed_sections": []
    },
    "kernelspec": {
      "name": "python3",
      "display_name": "Python 3"
    },
    "language_info": {
      "name": "python"
    },
    "accelerator": "GPU"
  },
  "cells": [
    {
      "cell_type": "markdown",
      "source": [
        "# **Part-1**\n"
      ],
      "metadata": {
        "id": "Y5ahtd11flJ_"
      }
    },
    {
      "cell_type": "code",
      "source": [
        "%%capture\n",
        "from google.colab import drive\n",
        "drive.mount('/content/drive')"
      ],
      "metadata": {
        "id": "c9VAjb2Im95K"
      },
      "execution_count": 1,
      "outputs": []
    },
    {
      "cell_type": "markdown",
      "source": [
        "## **Imports**"
      ],
      "metadata": {
        "id": "RYxpxJJVfbXJ"
      }
    },
    {
      "cell_type": "code",
      "execution_count": 2,
      "metadata": {
        "id": "8KWImdotkW1o"
      },
      "outputs": [],
      "source": [
        "%%capture\n",
        "import pandas as pd\n",
        "pd.options.mode.chained_assignment = None\n",
        "import numpy as np\n",
        "import matplotlib.pyplot as plt\n",
        "import seaborn as sns\n",
        "from PIL import Image\n",
        "import datetime\n",
        "import string\n",
        "import urllib\n",
        "import requests\n",
        "import re"
      ]
    },
    {
      "cell_type": "markdown",
      "source": [
        "* **NLTK:** The Natural Language Toolkit is a suite of libraries and programs for symbolic and statistical natural language processing for English written in the Python programming language."
      ],
      "metadata": {
        "id": "LN6nXejgg-0L"
      }
    },
    {
      "cell_type": "code",
      "source": [
        "%%capture\n",
        "import nltk\n",
        "\n",
        "# Tokenization\n",
        "from nltk.tokenize import word_tokenize\n",
        "nltk.download('punkt')\n",
        "\n",
        "# Stopwords\n",
        "from nltk.corpus import stopwords\n",
        "nltk.download('stopwords')\n",
        "\n",
        "# Parts of Speech\n",
        "from nltk import pos_tag\n",
        "nltk.download('averaged_perceptron_tagger')\n",
        "\n",
        "# Lemmatization\n",
        "from nltk.corpus import wordnet\n",
        "from nltk.stem import WordNetLemmatizer\n",
        "nltk.download('wordnet')\n",
        "\n",
        "# Vader Sentiment Analysis\n",
        "from nltk.sentiment.vader import SentimentIntensityAnalyzer\n",
        "nltk.download('vader_lexicon')\n",
        "\n",
        "# SentiWordNet Sentiment Analysis\n",
        "from nltk.corpus import sentiwordnet\n",
        "nltk.download('sentiwordnet')"
      ],
      "metadata": {
        "id": "Zrm4aHn0k8cS"
      },
      "execution_count": 3,
      "outputs": []
    },
    {
      "cell_type": "markdown",
      "source": [
        "## **Handling Dataset**"
      ],
      "metadata": {
        "id": "DS6z_gy6g6x6"
      }
    },
    {
      "cell_type": "markdown",
      "source": [
        "* **Reading Dataset**"
      ],
      "metadata": {
        "id": "8Z0WETgkhcPL"
      }
    },
    {
      "cell_type": "code",
      "source": [
        "df = pd.read_csv('/content/drive/MyDrive/public-sentiment-analysis-based-on-twitter-hashtags/datasets/dataset.csv')\n",
        "print('Count of rows in the data is:', len(df))\n",
        "print('Count of columns in the data is:', len(df.columns))"
      ],
      "metadata": {
        "colab": {
          "base_uri": "https://localhost:8080/"
        },
        "id": "pValF6EUnVUL",
        "outputId": "2d7dbad4-7e2b-4320-c449-724f58e138c6"
      },
      "execution_count": 4,
      "outputs": [
        {
          "output_type": "stream",
          "name": "stdout",
          "text": [
            "Count of rows in the data is: 35266\n",
            "Count of columns in the data is: 4\n"
          ]
        }
      ]
    },
    {
      "cell_type": "markdown",
      "source": [
        "* **Converting Date column from string to datetime format**"
      ],
      "metadata": {
        "id": "UxOW5ghgOA6Q"
      }
    },
    {
      "cell_type": "code",
      "source": [
        "df['Date'] = pd.to_datetime(df['Date'], infer_datetime_format=True)\n",
        "df.head()"
      ],
      "metadata": {
        "colab": {
          "base_uri": "https://localhost:8080/",
          "height": 337
        },
        "id": "4Lo01uo7N8PB",
        "outputId": "0a79c9d9-3e95-460a-86c2-57a7a89f4734"
      },
      "execution_count": 5,
      "outputs": [
        {
          "output_type": "execute_result",
          "data": {
            "text/html": [
              "\n",
              "  <div id=\"df-04c45628-04ff-4d55-b5ab-f11d0d0676ea\">\n",
              "    <div class=\"colab-df-container\">\n",
              "      <div>\n",
              "<style scoped>\n",
              "    .dataframe tbody tr th:only-of-type {\n",
              "        vertical-align: middle;\n",
              "    }\n",
              "\n",
              "    .dataframe tbody tr th {\n",
              "        vertical-align: top;\n",
              "    }\n",
              "\n",
              "    .dataframe thead th {\n",
              "        text-align: right;\n",
              "    }\n",
              "</style>\n",
              "<table border=\"1\" class=\"dataframe\">\n",
              "  <thead>\n",
              "    <tr style=\"text-align: right;\">\n",
              "      <th></th>\n",
              "      <th>Data</th>\n",
              "      <th>Date</th>\n",
              "      <th>Time</th>\n",
              "      <th>tweetcaption</th>\n",
              "    </tr>\n",
              "  </thead>\n",
              "  <tbody>\n",
              "    <tr>\n",
              "      <th>0</th>\n",
              "      <td>tuesdayvibes</td>\n",
              "      <td>2020-07-14</td>\n",
              "      <td>7:00:21</td>\n",
              "      <td>Love it here vacation vibes amazing beautiful ...</td>\n",
              "    </tr>\n",
              "    <tr>\n",
              "      <th>1</th>\n",
              "      <td>realmeC11</td>\n",
              "      <td>2020-07-14</td>\n",
              "      <td>7:00:21</td>\n",
              "      <td>Best Camera Smartphone under 20k Please vote a...</td>\n",
              "    </tr>\n",
              "    <tr>\n",
              "      <th>2</th>\n",
              "      <td>KPSharmaOli</td>\n",
              "      <td>2020-07-14</td>\n",
              "      <td>7:00:21</td>\n",
              "      <td>shree Why should we have a problem with the pe...</td>\n",
              "    </tr>\n",
              "    <tr>\n",
              "      <th>3</th>\n",
              "      <td>RheaChakraborty</td>\n",
              "      <td>2020-07-14</td>\n",
              "      <td>7:00:21</td>\n",
              "      <td>Rhea Chakraborty s Heartbreaking Post On Susha...</td>\n",
              "    </tr>\n",
              "    <tr>\n",
              "      <th>4</th>\n",
              "      <td>Stop_Transfer_Sunita_Yadav</td>\n",
              "      <td>2020-07-14</td>\n",
              "      <td>7:00:21</td>\n",
              "      <td>We stand for Sunita Yadav Stop the Transfer Wh...</td>\n",
              "    </tr>\n",
              "  </tbody>\n",
              "</table>\n",
              "</div>\n",
              "      <button class=\"colab-df-convert\" onclick=\"convertToInteractive('df-04c45628-04ff-4d55-b5ab-f11d0d0676ea')\"\n",
              "              title=\"Convert this dataframe to an interactive table.\"\n",
              "              style=\"display:none;\">\n",
              "        \n",
              "  <svg xmlns=\"http://www.w3.org/2000/svg\" height=\"24px\"viewBox=\"0 0 24 24\"\n",
              "       width=\"24px\">\n",
              "    <path d=\"M0 0h24v24H0V0z\" fill=\"none\"/>\n",
              "    <path d=\"M18.56 5.44l.94 2.06.94-2.06 2.06-.94-2.06-.94-.94-2.06-.94 2.06-2.06.94zm-11 1L8.5 8.5l.94-2.06 2.06-.94-2.06-.94L8.5 2.5l-.94 2.06-2.06.94zm10 10l.94 2.06.94-2.06 2.06-.94-2.06-.94-.94-2.06-.94 2.06-2.06.94z\"/><path d=\"M17.41 7.96l-1.37-1.37c-.4-.4-.92-.59-1.43-.59-.52 0-1.04.2-1.43.59L10.3 9.45l-7.72 7.72c-.78.78-.78 2.05 0 2.83L4 21.41c.39.39.9.59 1.41.59.51 0 1.02-.2 1.41-.59l7.78-7.78 2.81-2.81c.8-.78.8-2.07 0-2.86zM5.41 20L4 18.59l7.72-7.72 1.47 1.35L5.41 20z\"/>\n",
              "  </svg>\n",
              "      </button>\n",
              "      \n",
              "  <style>\n",
              "    .colab-df-container {\n",
              "      display:flex;\n",
              "      flex-wrap:wrap;\n",
              "      gap: 12px;\n",
              "    }\n",
              "\n",
              "    .colab-df-convert {\n",
              "      background-color: #E8F0FE;\n",
              "      border: none;\n",
              "      border-radius: 50%;\n",
              "      cursor: pointer;\n",
              "      display: none;\n",
              "      fill: #1967D2;\n",
              "      height: 32px;\n",
              "      padding: 0 0 0 0;\n",
              "      width: 32px;\n",
              "    }\n",
              "\n",
              "    .colab-df-convert:hover {\n",
              "      background-color: #E2EBFA;\n",
              "      box-shadow: 0px 1px 2px rgba(60, 64, 67, 0.3), 0px 1px 3px 1px rgba(60, 64, 67, 0.15);\n",
              "      fill: #174EA6;\n",
              "    }\n",
              "\n",
              "    [theme=dark] .colab-df-convert {\n",
              "      background-color: #3B4455;\n",
              "      fill: #D2E3FC;\n",
              "    }\n",
              "\n",
              "    [theme=dark] .colab-df-convert:hover {\n",
              "      background-color: #434B5C;\n",
              "      box-shadow: 0px 1px 3px 1px rgba(0, 0, 0, 0.15);\n",
              "      filter: drop-shadow(0px 1px 2px rgba(0, 0, 0, 0.3));\n",
              "      fill: #FFFFFF;\n",
              "    }\n",
              "  </style>\n",
              "\n",
              "      <script>\n",
              "        const buttonEl =\n",
              "          document.querySelector('#df-04c45628-04ff-4d55-b5ab-f11d0d0676ea button.colab-df-convert');\n",
              "        buttonEl.style.display =\n",
              "          google.colab.kernel.accessAllowed ? 'block' : 'none';\n",
              "\n",
              "        async function convertToInteractive(key) {\n",
              "          const element = document.querySelector('#df-04c45628-04ff-4d55-b5ab-f11d0d0676ea');\n",
              "          const dataTable =\n",
              "            await google.colab.kernel.invokeFunction('convertToInteractive',\n",
              "                                                     [key], {});\n",
              "          if (!dataTable) return;\n",
              "\n",
              "          const docLinkHtml = 'Like what you see? Visit the ' +\n",
              "            '<a target=\"_blank\" href=https://colab.research.google.com/notebooks/data_table.ipynb>data table notebook</a>'\n",
              "            + ' to learn more about interactive tables.';\n",
              "          element.innerHTML = '';\n",
              "          dataTable['output_type'] = 'display_data';\n",
              "          await google.colab.output.renderOutput(dataTable, element);\n",
              "          const docLink = document.createElement('div');\n",
              "          docLink.innerHTML = docLinkHtml;\n",
              "          element.appendChild(docLink);\n",
              "        }\n",
              "      </script>\n",
              "    </div>\n",
              "  </div>\n",
              "  "
            ],
            "text/plain": [
              "                          Data  ...                                       tweetcaption\n",
              "0                 tuesdayvibes  ...  Love it here vacation vibes amazing beautiful ...\n",
              "1                    realmeC11  ...  Best Camera Smartphone under 20k Please vote a...\n",
              "2                  KPSharmaOli  ...  shree Why should we have a problem with the pe...\n",
              "3              RheaChakraborty  ...  Rhea Chakraborty s Heartbreaking Post On Susha...\n",
              "4   Stop_Transfer_Sunita_Yadav  ...  We stand for Sunita Yadav Stop the Transfer Wh...\n",
              "\n",
              "[5 rows x 4 columns]"
            ]
          },
          "metadata": {},
          "execution_count": 5
        }
      ]
    },
    {
      "cell_type": "markdown",
      "source": [
        "**Cleaning tweetcaption:**\n",
        "\n",
        "*   Handling emojis and emoticons\n",
        "*   Handling contractions\n",
        "*   Removing single letter words\n",
        "*   Handling miscellaneous characters (Non ASCII, '@', '#', URLs, 'RT')\n",
        "*   Handling repeating characters (longggg wayyyy)\n",
        "*   Removing punctuations\n",
        "*   Removing numbers\n"
      ],
      "metadata": {
        "id": "8FFDB2heh0sO"
      }
    },
    {
      "cell_type": "code",
      "source": [
        "print('Cleaning tweetcaption from the data:\\n')\n",
        "\n",
        "# Emojis Unicode\n",
        "emoji_pattern = re.compile(\"[\"\n",
        "         u\"\\U0001F300-\\U0001F5FF\"  # symbols & pictographs\n",
        "         u\"\\U0001F680-\\U0001F6FF\"  # transport & map symbols\n",
        "         u\"\\U0001F1E0-\\U0001F1FF\"  # flags (iOS)\n",
        "         u\"\\U00002702-\\U000027B0\"\n",
        "         u\"\\U000024C2-\\U0001F251\"\n",
        "         \"]+\", flags=re.UNICODE)\n",
        "\n",
        "\n",
        "# This function replaces happy unicode emojis with 'happy' and sad unicode emojis with 'sad'.\n",
        "def replace_emojis(text):\n",
        "  emoji_happy = [\"\\U0001F600\", \"\\U0001F601\", \"\\U0001F602\",\"\\U0001F603\",\"\\U0001F604\",\"\\U0001F605\", \"\\U0001F606\", \"\\U0001F607\", \"\\U0001F609\", \n",
        "                \"\\U0001F60A\", \"\\U0001F642\",\"\\U0001F643\",\"\\U0001F923\",r\"\\U0001F970\",\"\\U0001F60D\", r\"\\U0001F929\",\"\\U0001F618\",\"\\U0001F617\",\n",
        "                r\"\\U000263A\", \"\\U0001F61A\", \"\\U0001F619\", r\"\\U0001F972\", \"\\U0001F60B\", \"\\U0001F61B\", \"\\U0001F61C\", r\"\\U0001F92A\",\n",
        "                \"\\U0001F61D\", \"\\U0001F911\", \"\\U0001F917\", r\"\\U0001F92D\", r\"\\U0001F92B\",\"\\U0001F914\",\"\\U0001F910\", r\"\\U0001F928\", \"\\U0001F610\", \"\\U0001F611\",\n",
        "                \"\\U0001F636\", \"\\U0001F60F\",\"\\U0001F612\", \"\\U0001F644\",\"\\U0001F62C\",\"\\U0001F925\",\"\\U0001F60C\",\"\\U0001F614\",\"\\U0001F62A\",\n",
        "                \"\\U0001F924\",\"\\U0001F634\", \"\\U0001F920\", r\"\\U0001F973\", r\"\\U0001F978\",\"\\U0001F60E\",\"\\U0001F913\", r\"\\U0001F9D0\"]\n",
        "\n",
        "  emoji_sad = [\"\\U0001F637\",\"\\U0001F912\",\"\\U0001F915\",\"\\U0001F922\", r\"\\U0001F92E\",\"\\U0001F927\", r\"\\U0001F975\", r\"\\U0001F976\", r\"\\U0001F974\",\n",
        "                       \"\\U0001F635\", r\"\\U0001F92F\", \"\\U0001F615\",\"\\U0001F61F\",\"\\U0001F641\", r\"\\U0002639\",\"\\U0001F62E\",\"\\U0001F62F\",\"\\U0001F632\",\n",
        "                       \"\\U0001F633\", r\"\\U0001F97A\",\"\\U0001F626\",\"\\U0001F627\",\"\\U0001F628\",\"\\U0001F630\",\"\\U0001F625\",\"\\U0001F622\",\"\\U0001F62D\",\n",
        "                       \"\\U0001F631\",\"\\U0001F616\",\"\\U0001F623\"\t,\"\\U0001F61E\",\"\\U0001F613\",\"\\U0001F629\",\"\\U0001F62B\", r\"\\U0001F971\",\n",
        "                       \"\\U0001F624\",\"\\U0001F621\",\"\\U0001F620\", r\"\\U0001F92C\",\"\\U0001F608\",\"\\U0001F47F\",\"\\U0001F480\", r\"\\U0002620\"]\n",
        "\n",
        "  words = text.split()\n",
        "  reformed = []\n",
        "  for w in words:\n",
        "    if w in emoji_happy:\n",
        "      reformed.append(\"happy\")\n",
        "    elif w in emoji_sad:\n",
        "      reformed.append(\"sad\") \n",
        "    else:\n",
        "      reformed.append(w)\n",
        "  text = \" \".join(reformed)\n",
        "  return text\n",
        "\n",
        "\n",
        "# This function replaces happy smileys with 'happy' and sad smileys with 'sad'\n",
        "def replace_smileys(text):\n",
        "  emoticons_happy = set([':-)', ':)', ';)', ':o)', ':]', ':3', ':c)', ':>', '=]', '8)', '=)', ':}', ':D',\n",
        "    ':^)', ':-D', ':D', '8-D', '8D', 'x-D', 'xD', 'X-D', 'XD', '=-D', '=D',\n",
        "    '=-3', '=3', ':-))', \":'-)\", \":')\", ':*', ':^*', '>:P', ':-P', ':P', 'X-P',\n",
        "    'x-p', 'xp', 'XP', ':-p', ':p', '=p', ':-b', ':b', '>:)', '>;)', '>:-)', '<3'])\n",
        "\n",
        "  emoticons_sad = set([':L', ':-/', '>:/', ':S', '>:[', ':@', ':-(', ':[', ':-||', '=L', ':<',\n",
        "    ':-[', ':-<', '=\\\\', '=/', '>:(', ':(', '>.<', \":'-(\", \":'(\", ':\\\\', ':-c',\n",
        "    ':c', ':{', '>:\\\\', ';('])  \n",
        "\n",
        "  words = text.split()\n",
        "  reformed = []\n",
        "  for w in words:\n",
        "    if w in emoticons_happy:\n",
        "      reformed.append(\"happy\")\n",
        "    elif w in emoticons_sad:\n",
        "      reformed.append(\"sad\") \n",
        "    else:\n",
        "      reformed.append(w)\n",
        "  text = \" \".join(reformed)\n",
        "  return text\n",
        "\n",
        "#  This function replaces english lanuage contractions like \"shouldn't\" with \"should not\"\n",
        "def replace_contractions(text):\n",
        "  cont = {\"aren't\" : 'are not', \"can't\" : 'cannot', \"couln't\": 'could not', \"didn't\": 'did not', \"doesn't\" : 'does not',\n",
        "  \"hadn't\": 'had not', \"haven't\": 'have not', \"he's\" : 'he is', \"she's\" : 'she is', \"he'll\" : \"he will\", \n",
        "  \"she'll\" : 'she will',\"he'd\": \"he would\", \"she'd\":\"she would\", \"here's\" : \"here is\", \n",
        "  \"i'm\" : 'i am', \"i've\"\t: \"i have\", \"i'll\" : \"i will\", \"i'd\" : \"i would\", \"isn't\": \"is not\", \n",
        "  \"it's\" : \"it is\", \"it'll\": \"it will\", \"mustn't\" : \"must not\", \"shouldn't\" : \"should not\", \"that's\" : \"that is\", \n",
        "  \"there's\" : \"there is\", \"they're\" : \"they are\", \"they've\" : \"they have\", \"they'll\" : \"they will\",\n",
        "  \"they'd\" : \"they would\", \"wasn't\" : \"was not\", \"we're\": \"we are\", \"we've\":\"we have\", \"we'll\": \"we will\", \n",
        "  \"we'd\" : \"we would\", \"weren't\" : \"were not\", \"what's\" : \"what is\", \"where's\" : \"where is\", \"who's\": \"who is\",\n",
        "  \"who'll\" :\"who will\", \"won't\":\"will not\", \"wouldn't\" : \"would not\", \"you're\": \"you are\", \"you've\":\"you have\",\n",
        "  \"you'll\" : \"you will\", \"you'd\" : \"you would\", \"mayn't\" : \"may not\"}\n",
        "  \n",
        "  words = text.split()\n",
        "  reformed = []\n",
        "  for w in words:\n",
        "    if w in cont:\n",
        "      reformed.append(cont[w])\n",
        "    else:\n",
        "      reformed.append(w)\n",
        "  text = \" \".join(reformed)\n",
        "  return text  \n",
        "\n",
        "\n",
        "# This function removes words that are single characters\n",
        "def remove_single_letter_words(text):\n",
        "  words = text.split()\n",
        "  reformed = []\n",
        "  for w in words:\n",
        "    if len(w) > 1:\n",
        "      reformed.append(w)\n",
        "  text = \" \".join(reformed)\n",
        "  return text  \n",
        "\n",
        "print('Replacing handwritten emojis with their feeling associated.')\n",
        "print('Convert to lowercase.')\n",
        "print('Replace contractions.')\n",
        "print('Replace unicode emojis with their feeling associated.')\n",
        "print('Remove all other unicoded emojis.')\n",
        "print('Remove NON- ASCII characters.')\n",
        "print('Remove numbers.')\n",
        "print('Remove \"#\". ')\n",
        "print('Remove \"@\". ')\n",
        "print('Remove usernames.')\n",
        "print('Remove \"RT\".')\n",
        "print('Replace all URLs and Links with word \"URL\".')\n",
        "print('Remove all punctuations.')\n",
        "print('Remove single letter words.')\n",
        "print('Remove repeaing characters.')\n",
        "print('Remove numbers.\\n')\n",
        "\n",
        "# This function cleans the tweetcaption.\n",
        "def dataclean(text):\n",
        "  text = replace_smileys(text) # replace handwritten emojis with their feeling associated\n",
        "  text = text.lower() # convert to lowercase\n",
        "  text = replace_contractions(text) # replace short forms used in english  with their actual words\n",
        "  text = replace_emojis(text) # replace unicode emojis with their feeling associated\n",
        "  text = emoji_pattern.sub(r'', text) # remove emojis other than smiley emojis\n",
        "  text = re.sub('\\\\\\\\u[0-9A-Fa-f]{4}','', text) # remove NON- ASCII characters\n",
        "  text = re.sub(\"[0-9]\", \"\", text) # remove numbers # re.sub(\"\\d+\", \"\", t)\n",
        "  text = re.sub('#', '', text) # remove '#'\n",
        "  text = re.sub('@[A-Za-z0–9]+', '', text) # remove '@'\n",
        "  text = re.sub('@[^\\s]+', '', text) # remove usernames\n",
        "  text = re.sub('RT[\\s]+', '', text) # remove retweet 'RT'\n",
        "  text = re.sub('((www\\.[^\\s]+)|(https?://[^\\s]+))', '', text) # remove links (URLs/ links)\n",
        "  text = re.sub('[!\"$%&\\'()*+,-./:@;<=>?[\\\\]^_`{|}~]', '', text) # remove punctuations\n",
        "  text = remove_single_letter_words(text) # remove single letter words\n",
        "  text = re.sub(r'(.)1+', r'1', text) # remove repeating characters\n",
        "  text = re.sub('[0-9]+', '', text) # remove numbers\n",
        "  text = text.replace('\\\\\\\\', '')\n",
        "  text = text.replace('\\\\', '')\n",
        "  return text\n",
        "\n",
        "df['Cleaned_tweetcaption'] = df['tweetcaption'].apply(dataclean)\n",
        "print('tweetcaption have been cleaned')"
      ],
      "metadata": {
        "colab": {
          "base_uri": "https://localhost:8080/"
        },
        "id": "1VISZai-rPq_",
        "outputId": "04f7aa3b-ae57-4162-d761-a756f14c5edd"
      },
      "execution_count": 6,
      "outputs": [
        {
          "output_type": "stream",
          "name": "stdout",
          "text": [
            "Cleaning tweetcaption from the data:\n",
            "\n",
            "Replacing handwritten emojis with their feeling associated.\n",
            "Convert to lowercase.\n",
            "Replace contractions.\n",
            "Replace unicode emojis with their feeling associated.\n",
            "Remove all other unicoded emojis.\n",
            "Remove NON- ASCII characters.\n",
            "Remove numbers.\n",
            "Remove \"#\". \n",
            "Remove \"@\". \n",
            "Remove usernames.\n",
            "Remove \"RT\".\n",
            "Replace all URLs and Links with word \"URL\".\n",
            "Remove all punctuations.\n",
            "Remove single letter words.\n",
            "Remove repeaing characters.\n",
            "Remove numbers.\n",
            "\n",
            "tweetcaption have been cleaned\n"
          ]
        }
      ]
    },
    {
      "cell_type": "markdown",
      "source": [
        "## **Building functions**\n"
      ],
      "metadata": {
        "id": "NDLih0r4iTng"
      }
    },
    {
      "cell_type": "markdown",
      "source": [
        "* **WordCloud:** plotting word cloud (a data visualization technique used for representing text data in which the size of each word indicates its frequency or importance)"
      ],
      "metadata": {
        "id": "va0bFa6gEm1p"
      }
    },
    {
      "cell_type": "code",
      "source": [
        "from wordcloud import WordCloud, ImageColorGenerator\n",
        "Mask = np.array(Image.open(requests.get('http://clipart-library.com/image_gallery2/Twitter-PNG-Image.png', stream = True).raw))\n",
        "image_colors = ImageColorGenerator(Mask)\n",
        "sentences = df['Cleaned_tweetcaption'].tolist()\n",
        "sentences_as_one_string = ' '.join(sentences)\n",
        "wc = WordCloud(height = 1200, width = 1200, colormap='Set2', background_color ='black', mask = Mask).generate(sentences_as_one_string)\n",
        "plt.figure(figsize = (6, 6))\n",
        "plt.imshow(wc.recolor(color_func = image_colors), interpolation = \"hamming\")\n",
        "plt.axis('off')\n",
        "plt.show();"
      ],
      "metadata": {
        "colab": {
          "base_uri": "https://localhost:8080/",
          "height": 303
        },
        "id": "OnHmVy7606Ag",
        "outputId": "ed13ec82-8840-45cc-fa9f-26be9da55e1c"
      },
      "execution_count": 7,
      "outputs": [
        {
          "output_type": "display_data",
          "data": {
            "image/png": "[encoded data removed]",
            "text/plain": [
              "<Figure size 432x432 with 1 Axes>"
            ]
          },
          "metadata": {
            "needs_background": "light"
          }
        }
      ]
    },
    {
      "cell_type": "markdown",
      "source": [
        "* **Tweet caption length**"
      ],
      "metadata": {
        "id": "dP0jit-OljLN"
      }
    },
    {
      "cell_type": "code",
      "source": [
        "df['tweetcaption_length'] = df['Cleaned_tweetcaption'].apply(lambda x: len(x))\n",
        "ax = df.hist(column='tweetcaption_length', bins=25, grid=False, rwidth=0.9)\n",
        "ax = ax[0]\n",
        "\n",
        "for x in ax:\n",
        "    vals = x.get_yticks()\n",
        "    for tick in vals:\n",
        "        x.axhline(y=tick, linestyle='dashed', alpha=0.4, color='#eeeeee')\n",
        "\n",
        "    x.set_title('Length of Tweet Caption')\n",
        "    x.set_xlabel('Length in terms of character count')\n",
        "    x.set_ylabel('Count')"
      ],
      "metadata": {
        "colab": {
          "base_uri": "https://localhost:8080/",
          "height": 295
        },
        "id": "VuGtfuBCiv5y",
        "outputId": "7c930225-d2e5-45e7-e2c9-2e4d8510ab2c"
      },
      "execution_count": 8,
      "outputs": [
        {
          "output_type": "display_data",
          "data": {
            "image/png": "[encoded data removed]",
            "text/plain": [
              "<Figure size 432x288 with 1 Axes>"
            ]
          },
          "metadata": {
            "needs_background": "light"
          }
        }
      ]
    },
    {
      "cell_type": "markdown",
      "source": [
        "* **Stopwords:** they are the most common words in any natural language. For the purpose of analyzing text data and building NLP models, these stopwords might not add much value to the meaning of the document"
      ],
      "metadata": {
        "id": "6AN6eCLwFQii"
      }
    },
    {
      "cell_type": "code",
      "source": [
        "stop_words = set(stopwords.words('english'))\n",
        "df['Cleaned_tweetcaption'] = df['Cleaned_tweetcaption'].apply(lambda x: ' '.join([word for word in x.split() if word not in (stop_words)]))"
      ],
      "metadata": {
        "id": "cpjj-3ae0122"
      },
      "execution_count": 9,
      "outputs": []
    },
    {
      "cell_type": "markdown",
      "source": [
        "* **def token_stop_pos(text):** it is the function that takes the text and performs tokenization, removes stopwords, and tags the words to their PoS. Parts of Speech (PoS) tagging is a process of converting each token into a tuple having the form (word, tag). PoS tagging essential to preserve the context of the word and is essential for Lemmatization. "
      ],
      "metadata": {
        "id": "sQ98RfLEnxeF"
      }
    },
    {
      "cell_type": "code",
      "source": [
        "pos_dict = {'J':wordnet.ADJ, 'V':wordnet.VERB, 'N':wordnet.NOUN, 'R':wordnet.ADV} \n",
        "global_pos = []\n",
        "\n",
        "def token_stop_pos(text):\n",
        "  tags = pos_tag(word_tokenize(text))\n",
        "  newlist = []\n",
        "  for word, tag in tags:\n",
        "      newlist.append(tuple([word, pos_dict.get(tag[0])]))\n",
        "      global_pos.append(tuple([word, pos_dict.get(tag[0])]))\n",
        "  return newlist\n",
        "\n",
        "df['POS_Tagged'] = df['Cleaned_tweetcaption'].apply(token_stop_pos)"
      ],
      "metadata": {
        "id": "8ZOqF2u8Ix-L"
      },
      "execution_count": 10,
      "outputs": []
    },
    {
      "cell_type": "markdown",
      "source": [
        "* **def lemmatize(pos_data):** it is the process of grouping together the different inflected forms of a word so they can be analyzed as a single item.  Lemmatization is similar to stemming but it brings context to the words. So it links words with similar meanings to one word. "
      ],
      "metadata": {
        "id": "tNLMj-noE2h9"
      }
    },
    {
      "cell_type": "code",
      "source": [
        "wordnet_lemmatizer = WordNetLemmatizer()\n",
        "def lemmatize(pos_data):\n",
        "    lemma_rew = \" \"\n",
        "    for word, pos in pos_data:\n",
        "        if not pos:\n",
        "            lemma = word\n",
        "            lemma_rew = lemma_rew + \" \" + lemma\n",
        "        else:\n",
        "            lemma = wordnet_lemmatizer.lemmatize(word, pos=pos)\n",
        "            lemma_rew = lemma_rew + \" \" + lemma\n",
        "    return lemma_rew\n",
        "\n",
        "df['Lemma_tweetcaption'] = df['POS_Tagged'].apply(lemmatize)"
      ],
      "metadata": {
        "id": "f3O0g_oo3Df-"
      },
      "execution_count": 11,
      "outputs": []
    },
    {
      "cell_type": "code",
      "source": [
        "df.head()"
      ],
      "metadata": {
        "colab": {
          "base_uri": "https://localhost:8080/",
          "height": 582
        },
        "id": "X9yoLB9433_U",
        "outputId": "c88bc900-3e14-455f-a877-07a9fd00c7c6"
      },
      "execution_count": 12,
      "outputs": [
        {
          "output_type": "execute_result",
          "data": {
            "text/html": [
              "\n",
              "  <div id=\"df-0462e4b2-a2d4-413b-8ce8-68e26bd69777\">\n",
              "    <div class=\"colab-df-container\">\n",
              "      <div>\n",
              "<style scoped>\n",
              "    .dataframe tbody tr th:only-of-type {\n",
              "        vertical-align: middle;\n",
              "    }\n",
              "\n",
              "    .dataframe tbody tr th {\n",
              "        vertical-align: top;\n",
              "    }\n",
              "\n",
              "    .dataframe thead th {\n",
              "        text-align: right;\n",
              "    }\n",
              "</style>\n",
              "<table border=\"1\" class=\"dataframe\">\n",
              "  <thead>\n",
              "    <tr style=\"text-align: right;\">\n",
              "      <th></th>\n",
              "      <th>Data</th>\n",
              "      <th>Date</th>\n",
              "      <th>Time</th>\n",
              "      <th>tweetcaption</th>\n",
              "      <th>Cleaned_tweetcaption</th>\n",
              "      <th>tweetcaption_length</th>\n",
              "      <th>POS_Tagged</th>\n",
              "      <th>Lemma_tweetcaption</th>\n",
              "    </tr>\n",
              "  </thead>\n",
              "  <tbody>\n",
              "    <tr>\n",
              "      <th>0</th>\n",
              "      <td>tuesdayvibes</td>\n",
              "      <td>2020-07-14</td>\n",
              "      <td>7:00:21</td>\n",
              "      <td>Love it here vacation vibes amazing beautiful ...</td>\n",
              "      <td>love vacation vibes amazing beautiful cabo mex...</td>\n",
              "      <td>1411</td>\n",
              "      <td>[(love, v), (vacation, n), (vibes, None), (ama...</td>\n",
              "      <td>love vacation vibes amaze beautiful cabo mex...</td>\n",
              "    </tr>\n",
              "    <tr>\n",
              "      <th>1</th>\n",
              "      <td>realmeC11</td>\n",
              "      <td>2020-07-14</td>\n",
              "      <td>7:00:21</td>\n",
              "      <td>Best Camera Smartphone under 20k Please vote a...</td>\n",
              "      <td>best camera smartphone please vote help reach ...</td>\n",
              "      <td>1093</td>\n",
              "      <td>[(best, a), (camera, n), (smartphone, n), (ple...</td>\n",
              "      <td>best camera smartphone please vote help reac...</td>\n",
              "    </tr>\n",
              "    <tr>\n",
              "      <th>2</th>\n",
              "      <td>KPSharmaOli</td>\n",
              "      <td>2020-07-14</td>\n",
              "      <td>7:00:21</td>\n",
              "      <td>shree Why should we have a problem with the pe...</td>\n",
              "      <td>shree problem people problem stupid communist ...</td>\n",
              "      <td>1163</td>\n",
              "      <td>[(shree, a), (problem, n), (people, n), (probl...</td>\n",
              "      <td>shree problem people problem stupid communis...</td>\n",
              "    </tr>\n",
              "    <tr>\n",
              "      <th>3</th>\n",
              "      <td>RheaChakraborty</td>\n",
              "      <td>2020-07-14</td>\n",
              "      <td>7:00:21</td>\n",
              "      <td>Rhea Chakraborty s Heartbreaking Post On Susha...</td>\n",
              "      <td>rhea chakraborty heartbreaking post sushant si...</td>\n",
              "      <td>1561</td>\n",
              "      <td>[(rhea, n), (chakraborty, n), (heartbreaking, ...</td>\n",
              "      <td>rhea chakraborty heartbreaking post sushant ...</td>\n",
              "    </tr>\n",
              "    <tr>\n",
              "      <th>4</th>\n",
              "      <td>Stop_Transfer_Sunita_Yadav</td>\n",
              "      <td>2020-07-14</td>\n",
              "      <td>7:00:21</td>\n",
              "      <td>We stand for Sunita Yadav Stop the Transfer Wh...</td>\n",
              "      <td>stand sunita yadav stop transfer women empower...</td>\n",
              "      <td>1301</td>\n",
              "      <td>[(stand, n), (sunita, n), (yadav, n), (stop, n...</td>\n",
              "      <td>stand sunita yadav stop transfer woman empow...</td>\n",
              "    </tr>\n",
              "  </tbody>\n",
              "</table>\n",
              "</div>\n",
              "      <button class=\"colab-df-convert\" onclick=\"convertToInteractive('df-0462e4b2-a2d4-413b-8ce8-68e26bd69777')\"\n",
              "              title=\"Convert this dataframe to an interactive table.\"\n",
              "              style=\"display:none;\">\n",
              "        \n",
              "  <svg xmlns=\"http://www.w3.org/2000/svg\" height=\"24px\"viewBox=\"0 0 24 24\"\n",
              "       width=\"24px\">\n",
              "    <path d=\"M0 0h24v24H0V0z\" fill=\"none\"/>\n",
              "    <path d=\"M18.56 5.44l.94 2.06.94-2.06 2.06-.94-2.06-.94-.94-2.06-.94 2.06-2.06.94zm-11 1L8.5 8.5l.94-2.06 2.06-.94-2.06-.94L8.5 2.5l-.94 2.06-2.06.94zm10 10l.94 2.06.94-2.06 2.06-.94-2.06-.94-.94-2.06-.94 2.06-2.06.94z\"/><path d=\"M17.41 7.96l-1.37-1.37c-.4-.4-.92-.59-1.43-.59-.52 0-1.04.2-1.43.59L10.3 9.45l-7.72 7.72c-.78.78-.78 2.05 0 2.83L4 21.41c.39.39.9.59 1.41.59.51 0 1.02-.2 1.41-.59l7.78-7.78 2.81-2.81c.8-.78.8-2.07 0-2.86zM5.41 20L4 18.59l7.72-7.72 1.47 1.35L5.41 20z\"/>\n",
              "  </svg>\n",
              "      </button>\n",
              "      \n",
              "  <style>\n",
              "    .colab-df-container {\n",
              "      display:flex;\n",
              "      flex-wrap:wrap;\n",
              "      gap: 12px;\n",
              "    }\n",
              "\n",
              "    .colab-df-convert {\n",
              "      background-color: #E8F0FE;\n",
              "      border: none;\n",
              "      border-radius: 50%;\n",
              "      cursor: pointer;\n",
              "      display: none;\n",
              "      fill: #1967D2;\n",
              "      height: 32px;\n",
              "      padding: 0 0 0 0;\n",
              "      width: 32px;\n",
              "    }\n",
              "\n",
              "    .colab-df-convert:hover {\n",
              "      background-color: #E2EBFA;\n",
              "      box-shadow: 0px 1px 2px rgba(60, 64, 67, 0.3), 0px 1px 3px 1px rgba(60, 64, 67, 0.15);\n",
              "      fill: #174EA6;\n",
              "    }\n",
              "\n",
              "    [theme=dark] .colab-df-convert {\n",
              "      background-color: #3B4455;\n",
              "      fill: #D2E3FC;\n",
              "    }\n",
              "\n",
              "    [theme=dark] .colab-df-convert:hover {\n",
              "      background-color: #434B5C;\n",
              "      box-shadow: 0px 1px 3px 1px rgba(0, 0, 0, 0.15);\n",
              "      filter: drop-shadow(0px 1px 2px rgba(0, 0, 0, 0.3));\n",
              "      fill: #FFFFFF;\n",
              "    }\n",
              "  </style>\n",
              "\n",
              "      <script>\n",
              "        const buttonEl =\n",
              "          document.querySelector('#df-0462e4b2-a2d4-413b-8ce8-68e26bd69777 button.colab-df-convert');\n",
              "        buttonEl.style.display =\n",
              "          google.colab.kernel.accessAllowed ? 'block' : 'none';\n",
              "\n",
              "        async function convertToInteractive(key) {\n",
              "          const element = document.querySelector('#df-0462e4b2-a2d4-413b-8ce8-68e26bd69777');\n",
              "          const dataTable =\n",
              "            await google.colab.kernel.invokeFunction('convertToInteractive',\n",
              "                                                     [key], {});\n",
              "          if (!dataTable) return;\n",
              "\n",
              "          const docLinkHtml = 'Like what you see? Visit the ' +\n",
              "            '<a target=\"_blank\" href=https://colab.research.google.com/notebooks/data_table.ipynb>data table notebook</a>'\n",
              "            + ' to learn more about interactive tables.';\n",
              "          element.innerHTML = '';\n",
              "          dataTable['output_type'] = 'display_data';\n",
              "          await google.colab.output.renderOutput(dataTable, element);\n",
              "          const docLink = document.createElement('div');\n",
              "          docLink.innerHTML = docLinkHtml;\n",
              "          element.appendChild(docLink);\n",
              "        }\n",
              "      </script>\n",
              "    </div>\n",
              "  </div>\n",
              "  "
            ],
            "text/plain": [
              "                          Data  ...                                 Lemma_tweetcaption\n",
              "0                 tuesdayvibes  ...    love vacation vibes amaze beautiful cabo mex...\n",
              "1                    realmeC11  ...    best camera smartphone please vote help reac...\n",
              "2                  KPSharmaOli  ...    shree problem people problem stupid communis...\n",
              "3              RheaChakraborty  ...    rhea chakraborty heartbreaking post sushant ...\n",
              "4   Stop_Transfer_Sunita_Yadav  ...    stand sunita yadav stop transfer woman empow...\n",
              "\n",
              "[5 rows x 8 columns]"
            ]
          },
          "metadata": {},
          "execution_count": 12
        }
      ]
    },
    {
      "cell_type": "markdown",
      "source": [
        "* **def getAnalysis(score):** converting sentiment score into sentiment [Positive: 0.25 to 1, Neutral: -0.25 to 0.25, Negative: -1 to -0.25]"
      ],
      "metadata": {
        "id": "fEyB3VX1mCGt"
      }
    },
    {
      "cell_type": "code",
      "source": [
        "def getAnalysis(score):\n",
        "    if score <= -0.25:\n",
        "        return 'Negative'\n",
        "    elif score >= 0.25:\n",
        "        return 'Positive'\n",
        "    else:\n",
        "        return 'Neutral'"
      ],
      "metadata": {
        "id": "uV66XuqcKqz_"
      },
      "execution_count": 13,
      "outputs": []
    },
    {
      "cell_type": "markdown",
      "source": [
        "* **SentimentIntensityAnalyzer():** VADER (Valence Aware Dictionary for Sentiment Reasoning) is a model used for text sentiment analysis. VADER sentimental analysis relies on a dictionary that maps lexical features to emotion intensities known as sentiment scores. The sentiment score of a text can be obtained by summing up the intensity of each word in the text."
      ],
      "metadata": {
        "id": "4EDwIWXKmlT_"
      }
    },
    {
      "cell_type": "code",
      "source": [
        "analyzer = SentimentIntensityAnalyzer()\n",
        "df['VADER_Neg'] = df['Lemma_tweetcaption'].apply(lambda x:analyzer.polarity_scores(x)['neg'])\n",
        "df['VADER_Neu'] = df['Lemma_tweetcaption'].apply(lambda x:analyzer.polarity_scores(x)['neu'])\n",
        "df['VADER_Pos'] = df['Lemma_tweetcaption'].apply(lambda x:analyzer.polarity_scores(x)['pos'])\n",
        "df['VADER_Compound'] = df['Lemma_tweetcaption'].apply(lambda x:analyzer.polarity_scores(x)['compound'])\n",
        "\n",
        "df['VADER_Sentiment'] = df['VADER_Compound'].apply(getAnalysis)"
      ],
      "metadata": {
        "id": "_wjT8rDH5f2c"
      },
      "execution_count": 14,
      "outputs": []
    },
    {
      "cell_type": "code",
      "source": [
        "df['VADER_Sentiment'].value_counts()"
      ],
      "metadata": {
        "colab": {
          "base_uri": "https://localhost:8080/"
        },
        "id": "NPFQqHHZ4xEN",
        "outputId": "72952692-964c-45dc-bf4f-d51c27c8a98e"
      },
      "execution_count": 15,
      "outputs": [
        {
          "output_type": "execute_result",
          "data": {
            "text/plain": [
              "Positive    26549\n",
              "Negative     7225\n",
              "Neutral      1492\n",
              "Name: VADER_Sentiment, dtype: int64"
            ]
          },
          "metadata": {},
          "execution_count": 15
        }
      ]
    },
    {
      "cell_type": "code",
      "source": [
        "ax = sns.countplot(x = 'VADER_Sentiment', data = df, order = ['Negative','Neutral','Positive'], palette = 'RdYlGn')\n",
        "ax.set(xlabel='Average Sentiment', ylabel='Count', title='VADER Distribution of Sentiment')\n",
        "plt.show();"
      ],
      "metadata": {
        "colab": {
          "base_uri": "https://localhost:8080/",
          "height": 295
        },
        "id": "QRKDYvH1WulN",
        "outputId": "f7b0478e-bc99-4a13-965d-164568a061d7"
      },
      "execution_count": 16,
      "outputs": [
        {
          "output_type": "display_data",
          "data": {
            "image/png": "[encoded data removed]",
            "text/plain": [
              "<Figure size 432x288 with 1 Axes>"
            ]
          },
          "metadata": {
            "needs_background": "light"
          }
        }
      ]
    },
    {
      "cell_type": "markdown",
      "source": [
        "* **TextBlob:** TextBlob is a python library for Natural Language Processing (NLP). TextBlob is a simple library which supports complex analysis and operations on textual data. TextBlob returns polarity and subjectivity of a sentence. Polarity lies between (-1, 1) where -1 defines a negative sentiment and 1 defines a positive sentiment. "
      ],
      "metadata": {
        "id": "Gt9jShCVnJJF"
      }
    },
    {
      "cell_type": "code",
      "source": [
        "from textblob import TextBlob\n",
        "\n",
        "def getSubjectivity(text):\n",
        "    return TextBlob(text).sentiment.subjectivity\n",
        "  \n",
        "def getPolarity(text):\n",
        "   return TextBlob(text).sentiment.polarity\n",
        "  \n",
        "df['TextBlob_Subjectivity'] = df['Lemma_tweetcaption'].apply(getSubjectivity)\n",
        "df['TextBlob_Polarity'] = df['Lemma_tweetcaption'].apply(getPolarity)\n",
        "\n",
        "df['TextBlob_Sentiment'] = df['TextBlob_Polarity'].apply(getAnalysis)"
      ],
      "metadata": {
        "id": "Ifgg39lp_HhZ"
      },
      "execution_count": 17,
      "outputs": []
    },
    {
      "cell_type": "code",
      "source": [
        "df['TextBlob_Sentiment'].value_counts()"
      ],
      "metadata": {
        "colab": {
          "base_uri": "https://localhost:8080/"
        },
        "id": "33SNllzx-m7m",
        "outputId": "7bd69dd4-16fb-4d63-c136-1d4887b00740"
      },
      "execution_count": 18,
      "outputs": [
        {
          "output_type": "execute_result",
          "data": {
            "text/plain": [
              "Neutral     23445\n",
              "Positive    11429\n",
              "Negative      392\n",
              "Name: TextBlob_Sentiment, dtype: int64"
            ]
          },
          "metadata": {},
          "execution_count": 18
        }
      ]
    },
    {
      "cell_type": "code",
      "source": [
        "ax = sns.countplot(x = 'TextBlob_Sentiment', data = df, order = ['Negative','Neutral','Positive'], palette = 'RdYlGn')\n",
        "ax.set(xlabel='Average Sentiment', ylabel='Count', title='TextBlob Distribution of Sentiment')\n",
        "plt.show();"
      ],
      "metadata": {
        "colab": {
          "base_uri": "https://localhost:8080/",
          "height": 295
        },
        "id": "kl_SZ1u9W0gP",
        "outputId": "ac2c23d1-e5b0-458a-e492-d3d1d64edd89"
      },
      "execution_count": 19,
      "outputs": [
        {
          "output_type": "display_data",
          "data": {
            "image/png": "[encoded data removed]",
            "text/plain": [
              "<Figure size 432x288 with 1 Axes>"
            ]
          },
          "metadata": {
            "needs_background": "light"
          }
        }
      ]
    },
    {
      "cell_type": "markdown",
      "source": [
        "* **Counter of Part of Speech (PoS) Tagging:**"
      ],
      "metadata": {
        "id": "63oICsfghCvL"
      }
    },
    {
      "cell_type": "code",
      "source": [
        "from collections import Counter\n",
        "count = Counter([j for i,j in global_pos])\n",
        "del count[None]\n",
        "print(count)"
      ],
      "metadata": {
        "colab": {
          "base_uri": "https://localhost:8080/"
        },
        "id": "FPwW-Pbi74RL",
        "outputId": "2cb7e35a-a34f-48db-b35c-03a308330685"
      },
      "execution_count": 20,
      "outputs": [
        {
          "output_type": "stream",
          "name": "stdout",
          "text": [
            "Counter({'n': 2607400, 'a': 931261, 'v': 855930, 'r': 195829})\n"
          ]
        }
      ]
    },
    {
      "cell_type": "code",
      "source": [
        "pos = list(count.keys())\n",
        "value = list(count.values())\n",
        "ax = sns.barplot(x = pos, y = value, palette = 'RdYlGn')\n",
        "ax.set(xlabel='Part of Speech', ylabel='Count', title='Part of Speech Instances')\n",
        "ax.set_xticklabels(['Verb','Adverb','Noun','Adjective'])\n",
        "plt.plot();"
      ],
      "metadata": {
        "colab": {
          "base_uri": "https://localhost:8080/",
          "height": 295
        },
        "id": "Jp6SHWyhZw91",
        "outputId": "3e416f3a-50c0-4fb3-efb5-426fa6a79a0c"
      },
      "execution_count": 21,
      "outputs": [
        {
          "output_type": "display_data",
          "data": {
            "image/png": "[encoded data removed]",
            "text/plain": [
              "<Figure size 432x288 with 1 Axes>"
            ]
          },
          "metadata": {
            "needs_background": "light"
          }
        }
      ]
    },
    {
      "cell_type": "markdown",
      "source": [
        "* **def sentiwordnetscore(pos_data):** SentiWordNet is an opinion lexicon derived from the WordNet database where each term is associated with numerical scores indicating positive and negative values."
      ],
      "metadata": {
        "id": "oHfnDdhhocjN"
      }
    },
    {
      "cell_type": "code",
      "source": [
        "lemmatizer = WordNetLemmatizer()\n",
        "\n",
        "def sentiwordnetscore(pos_data):\n",
        "    sentiment = 0\n",
        "    tokens_count = 0\n",
        "    for word, pos in pos_data:\n",
        "        if not pos:\n",
        "            continue\n",
        "        lemma = lemmatizer.lemmatize(word, pos=pos)\n",
        "        if not lemma:\n",
        "            continue\n",
        "        synsets = wordnet.synsets(lemma, pos=pos)\n",
        "        if not synsets:\n",
        "            continue\n",
        "        synset = synsets[0]\n",
        "        swn_synset = sentiwordnet.senti_synset(synset.name())\n",
        "        sentiment += swn_synset.pos_score() - swn_synset.neg_score()\n",
        "        tokens_count += 1\n",
        "        return sentiment;\n",
        "\n",
        "df['SWN_Score'] = df['POS_Tagged'].apply(sentiwordnetscore)"
      ],
      "metadata": {
        "id": "xx-lQUS4JAsF"
      },
      "execution_count": 22,
      "outputs": []
    },
    {
      "cell_type": "code",
      "source": [
        "def sentiwordnetanalysis(pos_data):\n",
        "    sentiment = 0\n",
        "    tokens_count = 0\n",
        "    for word, pos in pos_data:\n",
        "        if not pos:\n",
        "            continue\n",
        "        lemma = lemmatizer.lemmatize(word, pos=pos)\n",
        "        if not lemma:\n",
        "            continue\n",
        "        synsets = wordnet.synsets(lemma, pos=pos)\n",
        "        if not synsets:\n",
        "            continue\n",
        "\n",
        "        synset = synsets[0]\n",
        "        swn_synset = sentiwordnet.senti_synset(synset.name())\n",
        "        sentiment += swn_synset.pos_score() - swn_synset.neg_score()\n",
        "        tokens_count += 1\n",
        "        \n",
        "        if not tokens_count:\n",
        "            return 0\n",
        "        if sentiment >= 0.25:\n",
        "            return 'Positive'\n",
        "        if sentiment <= -0.25:\n",
        "            return 'Negative'\n",
        "        else:\n",
        "            return 'Neutral'\n",
        "\n",
        "df['SWN_Sentiment'] = df['POS_Tagged'].apply(sentiwordnetanalysis)"
      ],
      "metadata": {
        "id": "8q1mJcxGI9M-"
      },
      "execution_count": 23,
      "outputs": []
    },
    {
      "cell_type": "code",
      "source": [
        "df.fillna({'SWN_Score': 0, 'SWN_Sentiment\t': 'Neutral'}, inplace = True)"
      ],
      "metadata": {
        "id": "NLb81cZJ2L-o"
      },
      "execution_count": 24,
      "outputs": []
    },
    {
      "cell_type": "code",
      "source": [
        "df['SWN_Sentiment'].value_counts()"
      ],
      "metadata": {
        "colab": {
          "base_uri": "https://localhost:8080/"
        },
        "id": "V8xSk3ylHHnS",
        "outputId": "5aac3158-67a3-4872-9da3-6bc6d50b12f0"
      },
      "execution_count": 25,
      "outputs": [
        {
          "output_type": "execute_result",
          "data": {
            "text/plain": [
              "Neutral     27064\n",
              "Positive     5921\n",
              "Negative     2271\n",
              "Name: SWN_Sentiment, dtype: int64"
            ]
          },
          "metadata": {},
          "execution_count": 25
        }
      ]
    },
    {
      "cell_type": "code",
      "source": [
        "ax = sns.countplot(x = 'SWN_Sentiment', data = df, order = ['Negative','Neutral','Positive'], palette = 'RdYlGn')\n",
        "ax.set(xlabel='Average Sentiment', ylabel='Count', title='SWN Distribution of Sentiment')\n",
        "plt.show();"
      ],
      "metadata": {
        "colab": {
          "base_uri": "https://localhost:8080/",
          "height": 295
        },
        "id": "Mn4ZmDHJW48N",
        "outputId": "912a54c4-6732-4af4-c1ee-c37aaeac4e85"
      },
      "execution_count": 26,
      "outputs": [
        {
          "output_type": "display_data",
          "data": {
            "image/png": "[encoded data removed]",
            "text/plain": [
              "<Figure size 432x288 with 1 Axes>"
            ]
          },
          "metadata": {
            "needs_background": "light"
          }
        }
      ]
    },
    {
      "cell_type": "markdown",
      "source": [
        "* **Calculating average sentiment combining the three approaches (VADER, TextBlob, SWN)**"
      ],
      "metadata": {
        "id": "bNoqnXoRo9gf"
      }
    },
    {
      "cell_type": "code",
      "source": [
        "df['Average_Sentiment_Score'] = (df['VADER_Compound'] + df['TextBlob_Polarity'] + df['SWN_Score']) / 3\n",
        "df['Average_Sentiment'] = df['Average_Sentiment_Score'].apply(lambda x: 'Positive' if x >= 0.15 else ('Negative' if x <= -0.15 else 'Neutral'))\n",
        "df['Average_sentiment_Value'] = df['Average_Sentiment'].map({'Positive': 1, 'Neutral': 0, 'Negative':-1})"
      ],
      "metadata": {
        "id": "xhHPxFWTTgeN"
      },
      "execution_count": 27,
      "outputs": []
    },
    {
      "cell_type": "markdown",
      "source": [
        "* **Final distribution of Postive, Neutral and Negative sentiment**"
      ],
      "metadata": {
        "id": "lF00KROgpgw5"
      }
    },
    {
      "cell_type": "code",
      "source": [
        "df['Average_Sentiment'].value_counts()"
      ],
      "metadata": {
        "colab": {
          "base_uri": "https://localhost:8080/"
        },
        "id": "YfC5cJb0XLk9",
        "outputId": "5419f308-722a-4c10-bcb3-63d7993bbedf"
      },
      "execution_count": 28,
      "outputs": [
        {
          "output_type": "execute_result",
          "data": {
            "text/plain": [
              "Positive    25802\n",
              "Negative     6208\n",
              "Neutral      3256\n",
              "Name: Average_Sentiment, dtype: int64"
            ]
          },
          "metadata": {},
          "execution_count": 28
        }
      ]
    },
    {
      "cell_type": "code",
      "source": [
        "ax = sns.countplot(x = 'Average_Sentiment', data = df, order = ['Negative','Neutral','Positive'], palette = 'RdYlGn')\n",
        "ax.set(xlabel='Average Sentiment', ylabel='Count', title='Average Distribution of Sentiment')\n",
        "plt.show();"
      ],
      "metadata": {
        "colab": {
          "base_uri": "https://localhost:8080/",
          "height": 295
        },
        "id": "ooPdObVKpsul",
        "outputId": "6e8f83a3-944a-47bf-99a3-daa187ce94d5"
      },
      "execution_count": 29,
      "outputs": [
        {
          "output_type": "display_data",
          "data": {
            "image/png": "[encoded data removed]",
            "text/plain": [
              "<Figure size 432x288 with 1 Axes>"
            ]
          },
          "metadata": {
            "needs_background": "light"
          }
        }
      ]
    },
    {
      "cell_type": "markdown",
      "source": [
        "* **Final Dataframe containing all scores including average sentiment**"
      ],
      "metadata": {
        "id": "dOemOaefpxRm"
      }
    },
    {
      "cell_type": "code",
      "source": [
        "df.head()"
      ],
      "metadata": {
        "colab": {
          "base_uri": "https://localhost:8080/",
          "height": 582
        },
        "id": "LXVENNS5JSRC",
        "outputId": "53202acc-8558-44e3-c96f-b6bd0520d6c8"
      },
      "execution_count": 30,
      "outputs": [
        {
          "output_type": "execute_result",
          "data": {
            "text/html": [
              "\n",
              "  <div id=\"df-e7fa237b-ddca-4ca5-8d54-64c4cf2a1dbc\">\n",
              "    <div class=\"colab-df-container\">\n",
              "      <div>\n",
              "<style scoped>\n",
              "    .dataframe tbody tr th:only-of-type {\n",
              "        vertical-align: middle;\n",
              "    }\n",
              "\n",
              "    .dataframe tbody tr th {\n",
              "        vertical-align: top;\n",
              "    }\n",
              "\n",
              "    .dataframe thead th {\n",
              "        text-align: right;\n",
              "    }\n",
              "</style>\n",
              "<table border=\"1\" class=\"dataframe\">\n",
              "  <thead>\n",
              "    <tr style=\"text-align: right;\">\n",
              "      <th></th>\n",
              "      <th>Data</th>\n",
              "      <th>Date</th>\n",
              "      <th>Time</th>\n",
              "      <th>tweetcaption</th>\n",
              "      <th>Cleaned_tweetcaption</th>\n",
              "      <th>tweetcaption_length</th>\n",
              "      <th>POS_Tagged</th>\n",
              "      <th>Lemma_tweetcaption</th>\n",
              "      <th>VADER_Neg</th>\n",
              "      <th>VADER_Neu</th>\n",
              "      <th>VADER_Pos</th>\n",
              "      <th>VADER_Compound</th>\n",
              "      <th>VADER_Sentiment</th>\n",
              "      <th>TextBlob_Subjectivity</th>\n",
              "      <th>TextBlob_Polarity</th>\n",
              "      <th>TextBlob_Sentiment</th>\n",
              "      <th>SWN_Score</th>\n",
              "      <th>SWN_Sentiment</th>\n",
              "      <th>Average_Sentiment_Score</th>\n",
              "      <th>Average_Sentiment</th>\n",
              "      <th>Average_sentiment_Value</th>\n",
              "    </tr>\n",
              "  </thead>\n",
              "  <tbody>\n",
              "    <tr>\n",
              "      <th>0</th>\n",
              "      <td>tuesdayvibes</td>\n",
              "      <td>2020-07-14</td>\n",
              "      <td>7:00:21</td>\n",
              "      <td>Love it here vacation vibes amazing beautiful ...</td>\n",
              "      <td>love vacation vibes amazing beautiful cabo mex...</td>\n",
              "      <td>1411</td>\n",
              "      <td>[(love, v), (vacation, n), (vibes, None), (ama...</td>\n",
              "      <td>love vacation vibes amaze beautiful cabo mex...</td>\n",
              "      <td>0.063</td>\n",
              "      <td>0.748</td>\n",
              "      <td>0.189</td>\n",
              "      <td>0.9647</td>\n",
              "      <td>Positive</td>\n",
              "      <td>0.466667</td>\n",
              "      <td>0.136111</td>\n",
              "      <td>Neutral</td>\n",
              "      <td>0.500</td>\n",
              "      <td>Positive</td>\n",
              "      <td>0.533604</td>\n",
              "      <td>Positive</td>\n",
              "      <td>1</td>\n",
              "    </tr>\n",
              "    <tr>\n",
              "      <th>1</th>\n",
              "      <td>realmeC11</td>\n",
              "      <td>2020-07-14</td>\n",
              "      <td>7:00:21</td>\n",
              "      <td>Best Camera Smartphone under 20k Please vote a...</td>\n",
              "      <td>best camera smartphone please vote help reach ...</td>\n",
              "      <td>1093</td>\n",
              "      <td>[(best, a), (camera, n), (smartphone, n), (ple...</td>\n",
              "      <td>best camera smartphone please vote help reac...</td>\n",
              "      <td>0.032</td>\n",
              "      <td>0.825</td>\n",
              "      <td>0.142</td>\n",
              "      <td>0.9349</td>\n",
              "      <td>Positive</td>\n",
              "      <td>0.381229</td>\n",
              "      <td>0.220441</td>\n",
              "      <td>Neutral</td>\n",
              "      <td>0.750</td>\n",
              "      <td>Positive</td>\n",
              "      <td>0.635114</td>\n",
              "      <td>Positive</td>\n",
              "      <td>1</td>\n",
              "    </tr>\n",
              "    <tr>\n",
              "      <th>2</th>\n",
              "      <td>KPSharmaOli</td>\n",
              "      <td>2020-07-14</td>\n",
              "      <td>7:00:21</td>\n",
              "      <td>shree Why should we have a problem with the pe...</td>\n",
              "      <td>shree problem people problem stupid communist ...</td>\n",
              "      <td>1163</td>\n",
              "      <td>[(shree, a), (problem, n), (people, n), (probl...</td>\n",
              "      <td>shree problem people problem stupid communis...</td>\n",
              "      <td>0.112</td>\n",
              "      <td>0.709</td>\n",
              "      <td>0.179</td>\n",
              "      <td>0.8445</td>\n",
              "      <td>Positive</td>\n",
              "      <td>0.698611</td>\n",
              "      <td>-0.090278</td>\n",
              "      <td>Neutral</td>\n",
              "      <td>-0.625</td>\n",
              "      <td>Negative</td>\n",
              "      <td>0.043074</td>\n",
              "      <td>Neutral</td>\n",
              "      <td>0</td>\n",
              "    </tr>\n",
              "    <tr>\n",
              "      <th>3</th>\n",
              "      <td>RheaChakraborty</td>\n",
              "      <td>2020-07-14</td>\n",
              "      <td>7:00:21</td>\n",
              "      <td>Rhea Chakraborty s Heartbreaking Post On Susha...</td>\n",
              "      <td>rhea chakraborty heartbreaking post sushant si...</td>\n",
              "      <td>1561</td>\n",
              "      <td>[(rhea, n), (chakraborty, n), (heartbreaking, ...</td>\n",
              "      <td>rhea chakraborty heartbreaking post sushant ...</td>\n",
              "      <td>0.131</td>\n",
              "      <td>0.658</td>\n",
              "      <td>0.211</td>\n",
              "      <td>0.9360</td>\n",
              "      <td>Positive</td>\n",
              "      <td>0.607143</td>\n",
              "      <td>0.142857</td>\n",
              "      <td>Neutral</td>\n",
              "      <td>0.000</td>\n",
              "      <td>Neutral</td>\n",
              "      <td>0.359619</td>\n",
              "      <td>Positive</td>\n",
              "      <td>1</td>\n",
              "    </tr>\n",
              "    <tr>\n",
              "      <th>4</th>\n",
              "      <td>Stop_Transfer_Sunita_Yadav</td>\n",
              "      <td>2020-07-14</td>\n",
              "      <td>7:00:21</td>\n",
              "      <td>We stand for Sunita Yadav Stop the Transfer Wh...</td>\n",
              "      <td>stand sunita yadav stop transfer women empower...</td>\n",
              "      <td>1301</td>\n",
              "      <td>[(stand, n), (sunita, n), (yadav, n), (stop, n...</td>\n",
              "      <td>stand sunita yadav stop transfer woman empow...</td>\n",
              "      <td>0.204</td>\n",
              "      <td>0.612</td>\n",
              "      <td>0.185</td>\n",
              "      <td>-0.1280</td>\n",
              "      <td>Neutral</td>\n",
              "      <td>0.523571</td>\n",
              "      <td>0.231905</td>\n",
              "      <td>Neutral</td>\n",
              "      <td>0.000</td>\n",
              "      <td>Neutral</td>\n",
              "      <td>0.034635</td>\n",
              "      <td>Neutral</td>\n",
              "      <td>0</td>\n",
              "    </tr>\n",
              "  </tbody>\n",
              "</table>\n",
              "</div>\n",
              "      <button class=\"colab-df-convert\" onclick=\"convertToInteractive('df-e7fa237b-ddca-4ca5-8d54-64c4cf2a1dbc')\"\n",
              "              title=\"Convert this dataframe to an interactive table.\"\n",
              "              style=\"display:none;\">\n",
              "        \n",
              "  <svg xmlns=\"http://www.w3.org/2000/svg\" height=\"24px\"viewBox=\"0 0 24 24\"\n",
              "       width=\"24px\">\n",
              "    <path d=\"M0 0h24v24H0V0z\" fill=\"none\"/>\n",
              "    <path d=\"M18.56 5.44l.94 2.06.94-2.06 2.06-.94-2.06-.94-.94-2.06-.94 2.06-2.06.94zm-11 1L8.5 8.5l.94-2.06 2.06-.94-2.06-.94L8.5 2.5l-.94 2.06-2.06.94zm10 10l.94 2.06.94-2.06 2.06-.94-2.06-.94-.94-2.06-.94 2.06-2.06.94z\"/><path d=\"M17.41 7.96l-1.37-1.37c-.4-.4-.92-.59-1.43-.59-.52 0-1.04.2-1.43.59L10.3 9.45l-7.72 7.72c-.78.78-.78 2.05 0 2.83L4 21.41c.39.39.9.59 1.41.59.51 0 1.02-.2 1.41-.59l7.78-7.78 2.81-2.81c.8-.78.8-2.07 0-2.86zM5.41 20L4 18.59l7.72-7.72 1.47 1.35L5.41 20z\"/>\n",
              "  </svg>\n",
              "      </button>\n",
              "      \n",
              "  <style>\n",
              "    .colab-df-container {\n",
              "      display:flex;\n",
              "      flex-wrap:wrap;\n",
              "      gap: 12px;\n",
              "    }\n",
              "\n",
              "    .colab-df-convert {\n",
              "      background-color: #E8F0FE;\n",
              "      border: none;\n",
              "      border-radius: 50%;\n",
              "      cursor: pointer;\n",
              "      display: none;\n",
              "      fill: #1967D2;\n",
              "      height: 32px;\n",
              "      padding: 0 0 0 0;\n",
              "      width: 32px;\n",
              "    }\n",
              "\n",
              "    .colab-df-convert:hover {\n",
              "      background-color: #E2EBFA;\n",
              "      box-shadow: 0px 1px 2px rgba(60, 64, 67, 0.3), 0px 1px 3px 1px rgba(60, 64, 67, 0.15);\n",
              "      fill: #174EA6;\n",
              "    }\n",
              "\n",
              "    [theme=dark] .colab-df-convert {\n",
              "      background-color: #3B4455;\n",
              "      fill: #D2E3FC;\n",
              "    }\n",
              "\n",
              "    [theme=dark] .colab-df-convert:hover {\n",
              "      background-color: #434B5C;\n",
              "      box-shadow: 0px 1px 3px 1px rgba(0, 0, 0, 0.15);\n",
              "      filter: drop-shadow(0px 1px 2px rgba(0, 0, 0, 0.3));\n",
              "      fill: #FFFFFF;\n",
              "    }\n",
              "  </style>\n",
              "\n",
              "      <script>\n",
              "        const buttonEl =\n",
              "          document.querySelector('#df-e7fa237b-ddca-4ca5-8d54-64c4cf2a1dbc button.colab-df-convert');\n",
              "        buttonEl.style.display =\n",
              "          google.colab.kernel.accessAllowed ? 'block' : 'none';\n",
              "\n",
              "        async function convertToInteractive(key) {\n",
              "          const element = document.querySelector('#df-e7fa237b-ddca-4ca5-8d54-64c4cf2a1dbc');\n",
              "          const dataTable =\n",
              "            await google.colab.kernel.invokeFunction('convertToInteractive',\n",
              "                                                     [key], {});\n",
              "          if (!dataTable) return;\n",
              "\n",
              "          const docLinkHtml = 'Like what you see? Visit the ' +\n",
              "            '<a target=\"_blank\" href=https://colab.research.google.com/notebooks/data_table.ipynb>data table notebook</a>'\n",
              "            + ' to learn more about interactive tables.';\n",
              "          element.innerHTML = '';\n",
              "          dataTable['output_type'] = 'display_data';\n",
              "          await google.colab.output.renderOutput(dataTable, element);\n",
              "          const docLink = document.createElement('div');\n",
              "          docLink.innerHTML = docLinkHtml;\n",
              "          element.appendChild(docLink);\n",
              "        }\n",
              "      </script>\n",
              "    </div>\n",
              "  </div>\n",
              "  "
            ],
            "text/plain": [
              "                          Data  ... Average_sentiment_Value\n",
              "0                 tuesdayvibes  ...                       1\n",
              "1                    realmeC11  ...                       1\n",
              "2                  KPSharmaOli  ...                       0\n",
              "3              RheaChakraborty  ...                       1\n",
              "4   Stop_Transfer_Sunita_Yadav  ...                       0\n",
              "\n",
              "[5 rows x 21 columns]"
            ]
          },
          "metadata": {},
          "execution_count": 30
        }
      ]
    },
    {
      "cell_type": "code",
      "source": [
        "d1 = df['VADER_Sentiment'].value_counts()\n",
        "d2 = df['TextBlob_Sentiment'].value_counts()\n",
        "d3 = df['SWN_Sentiment'].value_counts()\n",
        "d4 = df['Average_Sentiment'].value_counts()"
      ],
      "metadata": {
        "id": "y1XdAVoF_Piv"
      },
      "execution_count": 31,
      "outputs": []
    },
    {
      "cell_type": "code",
      "source": [
        "fig, ax = plt.subplots(1, 4, figsize=(20,10))\n",
        "\n",
        "colors = {'Positive': '#a6d96a', 'Negative': '#f46d43', 'Neutral': '#ffffbf'}\n",
        "\n",
        "df['VADER_Sentiment'].value_counts().plot.pie(explode=[0.01]*3, autopct='%1.2f%%', ax=ax[0], colors=[colors[v] for v in df['VADER_Sentiment'].value_counts().keys()], title='VADER Sentiment')\n",
        "ax[0].set_ylabel('')\n",
        "df['TextBlob_Sentiment'].value_counts().plot.pie(explode=[0.01]*3, autopct='%1.2f%%', ax=ax[1], colors=[colors[v] for v in df['TextBlob_Sentiment'].value_counts().keys()], title='TextBlob Sentiment')\n",
        "ax[1].set_ylabel('')\n",
        "df['SWN_Sentiment'].value_counts().plot.pie(explode=[0.01]*3, autopct='%1.2f%%', ax=ax[2], colors=[colors[v] for v in df['SWN_Sentiment'].value_counts().keys()], title='SWN Sentiment')\n",
        "ax[2].set_ylabel('')\n",
        "df['Average_Sentiment'].value_counts().plot.pie(explode=[0.01]*3, autopct='%1.2f%%', ax=ax[3], colors=[colors[v] for v in df['Average_Sentiment'].value_counts().keys()], title='Average Sentiment')\n",
        "ax[3].set_ylabel('')\n",
        "plt.legend(labels=d1.keys(),  bbox_to_anchor=(1,1))\n",
        "plt.ylabel(\"\")\n",
        "plt.show();"
      ],
      "metadata": {
        "colab": {
          "base_uri": "https://localhost:8080/",
          "height": 158
        },
        "id": "WQ7Ve7Y2_uTj",
        "outputId": "59ffc932-183e-4df5-fab3-416eecff3c31"
      },
      "execution_count": 32,
      "outputs": [
        {
          "output_type": "display_data",
          "data": {
            "image/png": "[encoded data removed]",
            "text/plain": [
              "<Figure size 1440x720 with 4 Axes>"
            ]
          },
          "metadata": {}
        }
      ]
    },
    {
      "cell_type": "markdown",
      "source": [
        "* **Daily average sentiment and sentiment score**"
      ],
      "metadata": {
        "id": "b2wq_RyEOllV"
      }
    },
    {
      "cell_type": "code",
      "source": [
        "daily_df = df[['Date', 'VADER_Neg', 'VADER_Neu', 'VADER_Pos', 'VADER_Compound', 'TextBlob_Subjectivity', 'TextBlob_Polarity', 'SWN_Score', 'Average_Sentiment_Score']]\n",
        "daily_df = daily_df.groupby(['Date']).mean()\n",
        "daily_df['Average_Daily_Sentiment'] = daily_df['Average_Sentiment_Score'].apply(lambda x: 'Positive' if x >= 0.25 else ('Negative' if x <= -0.25 else 'Neutral'))\n",
        "daily_df.reset_index(inplace = True)\n",
        "daily_df['Date-Month'] = daily_df['Date'].dt.strftime('%d-%b')\n",
        "daily_df = daily_df[['Date-Month', 'VADER_Neg', 'VADER_Neu', 'VADER_Pos', 'VADER_Compound', 'TextBlob_Subjectivity', 'TextBlob_Polarity', 'SWN_Score', 'Average_Sentiment_Score', 'Average_Daily_Sentiment']]\n",
        "daily_df"
      ],
      "metadata": {
        "colab": {
          "base_uri": "https://localhost:8080/",
          "height": 1000
        },
        "id": "k2J5eLcWLY4e",
        "outputId": "62e9ec29-e3a8-48b5-f171-d19d625cd24f"
      },
      "execution_count": 33,
      "outputs": [
        {
          "output_type": "execute_result",
          "data": {
            "text/html": [
              "\n",
              "  <div id=\"df-9a61d96e-ac52-4050-b761-f581e4a10aac\">\n",
              "    <div class=\"colab-df-container\">\n",
              "      <div>\n",
              "<style scoped>\n",
              "    .dataframe tbody tr th:only-of-type {\n",
              "        vertical-align: middle;\n",
              "    }\n",
              "\n",
              "    .dataframe tbody tr th {\n",
              "        vertical-align: top;\n",
              "    }\n",
              "\n",
              "    .dataframe thead th {\n",
              "        text-align: right;\n",
              "    }\n",
              "</style>\n",
              "<table border=\"1\" class=\"dataframe\">\n",
              "  <thead>\n",
              "    <tr style=\"text-align: right;\">\n",
              "      <th></th>\n",
              "      <th>Date-Month</th>\n",
              "      <th>VADER_Neg</th>\n",
              "      <th>VADER_Neu</th>\n",
              "      <th>VADER_Pos</th>\n",
              "      <th>VADER_Compound</th>\n",
              "      <th>TextBlob_Subjectivity</th>\n",
              "      <th>TextBlob_Polarity</th>\n",
              "      <th>SWN_Score</th>\n",
              "      <th>Average_Sentiment_Score</th>\n",
              "      <th>Average_Daily_Sentiment</th>\n",
              "    </tr>\n",
              "  </thead>\n",
              "  <tbody>\n",
              "    <tr>\n",
              "      <th>0</th>\n",
              "      <td>14-Jul</td>\n",
              "      <td>0.094900</td>\n",
              "      <td>0.709373</td>\n",
              "      <td>0.195659</td>\n",
              "      <td>0.477740</td>\n",
              "      <td>0.492658</td>\n",
              "      <td>0.149055</td>\n",
              "      <td>0.072680</td>\n",
              "      <td>0.233158</td>\n",
              "      <td>Neutral</td>\n",
              "    </tr>\n",
              "    <tr>\n",
              "      <th>1</th>\n",
              "      <td>15-Jul</td>\n",
              "      <td>0.077156</td>\n",
              "      <td>0.731209</td>\n",
              "      <td>0.191642</td>\n",
              "      <td>0.579032</td>\n",
              "      <td>0.490942</td>\n",
              "      <td>0.178573</td>\n",
              "      <td>0.084219</td>\n",
              "      <td>0.280608</td>\n",
              "      <td>Positive</td>\n",
              "    </tr>\n",
              "    <tr>\n",
              "      <th>2</th>\n",
              "      <td>16-Jul</td>\n",
              "      <td>0.087207</td>\n",
              "      <td>0.716269</td>\n",
              "      <td>0.196519</td>\n",
              "      <td>0.501999</td>\n",
              "      <td>0.490522</td>\n",
              "      <td>0.154944</td>\n",
              "      <td>0.076672</td>\n",
              "      <td>0.244538</td>\n",
              "      <td>Neutral</td>\n",
              "    </tr>\n",
              "    <tr>\n",
              "      <th>3</th>\n",
              "      <td>17-Jul</td>\n",
              "      <td>0.084301</td>\n",
              "      <td>0.713247</td>\n",
              "      <td>0.202442</td>\n",
              "      <td>0.550703</td>\n",
              "      <td>0.509437</td>\n",
              "      <td>0.182892</td>\n",
              "      <td>0.087372</td>\n",
              "      <td>0.273656</td>\n",
              "      <td>Positive</td>\n",
              "    </tr>\n",
              "    <tr>\n",
              "      <th>4</th>\n",
              "      <td>18-Jul</td>\n",
              "      <td>0.075180</td>\n",
              "      <td>0.714661</td>\n",
              "      <td>0.210131</td>\n",
              "      <td>0.656696</td>\n",
              "      <td>0.475646</td>\n",
              "      <td>0.176708</td>\n",
              "      <td>0.018288</td>\n",
              "      <td>0.283897</td>\n",
              "      <td>Positive</td>\n",
              "    </tr>\n",
              "    <tr>\n",
              "      <th>5</th>\n",
              "      <td>19-Jul</td>\n",
              "      <td>0.089600</td>\n",
              "      <td>0.694896</td>\n",
              "      <td>0.215559</td>\n",
              "      <td>0.551767</td>\n",
              "      <td>0.499316</td>\n",
              "      <td>0.189910</td>\n",
              "      <td>0.097080</td>\n",
              "      <td>0.279586</td>\n",
              "      <td>Positive</td>\n",
              "    </tr>\n",
              "    <tr>\n",
              "      <th>6</th>\n",
              "      <td>20-Jul</td>\n",
              "      <td>0.087322</td>\n",
              "      <td>0.702613</td>\n",
              "      <td>0.210056</td>\n",
              "      <td>0.497619</td>\n",
              "      <td>0.500830</td>\n",
              "      <td>0.199880</td>\n",
              "      <td>0.097890</td>\n",
              "      <td>0.265130</td>\n",
              "      <td>Positive</td>\n",
              "    </tr>\n",
              "    <tr>\n",
              "      <th>7</th>\n",
              "      <td>21-Jul</td>\n",
              "      <td>0.102205</td>\n",
              "      <td>0.712143</td>\n",
              "      <td>0.185610</td>\n",
              "      <td>0.433137</td>\n",
              "      <td>0.502425</td>\n",
              "      <td>0.126251</td>\n",
              "      <td>0.014130</td>\n",
              "      <td>0.191173</td>\n",
              "      <td>Neutral</td>\n",
              "    </tr>\n",
              "    <tr>\n",
              "      <th>8</th>\n",
              "      <td>22-Jul</td>\n",
              "      <td>0.081714</td>\n",
              "      <td>0.706317</td>\n",
              "      <td>0.211977</td>\n",
              "      <td>0.613318</td>\n",
              "      <td>0.479749</td>\n",
              "      <td>0.193268</td>\n",
              "      <td>0.056250</td>\n",
              "      <td>0.287612</td>\n",
              "      <td>Positive</td>\n",
              "    </tr>\n",
              "    <tr>\n",
              "      <th>9</th>\n",
              "      <td>23-Jul</td>\n",
              "      <td>0.074886</td>\n",
              "      <td>0.707825</td>\n",
              "      <td>0.217354</td>\n",
              "      <td>0.653779</td>\n",
              "      <td>0.506283</td>\n",
              "      <td>0.179793</td>\n",
              "      <td>0.056405</td>\n",
              "      <td>0.296659</td>\n",
              "      <td>Positive</td>\n",
              "    </tr>\n",
              "    <tr>\n",
              "      <th>10</th>\n",
              "      <td>24-Jul</td>\n",
              "      <td>0.088452</td>\n",
              "      <td>0.694044</td>\n",
              "      <td>0.217552</td>\n",
              "      <td>0.575767</td>\n",
              "      <td>0.526507</td>\n",
              "      <td>0.203749</td>\n",
              "      <td>0.080527</td>\n",
              "      <td>0.286681</td>\n",
              "      <td>Positive</td>\n",
              "    </tr>\n",
              "    <tr>\n",
              "      <th>11</th>\n",
              "      <td>25-Jul</td>\n",
              "      <td>0.082593</td>\n",
              "      <td>0.705792</td>\n",
              "      <td>0.211580</td>\n",
              "      <td>0.587610</td>\n",
              "      <td>0.500316</td>\n",
              "      <td>0.177873</td>\n",
              "      <td>0.099796</td>\n",
              "      <td>0.288426</td>\n",
              "      <td>Positive</td>\n",
              "    </tr>\n",
              "    <tr>\n",
              "      <th>12</th>\n",
              "      <td>26-Jul</td>\n",
              "      <td>0.089287</td>\n",
              "      <td>0.698241</td>\n",
              "      <td>0.212473</td>\n",
              "      <td>0.592041</td>\n",
              "      <td>0.493328</td>\n",
              "      <td>0.182206</td>\n",
              "      <td>0.026945</td>\n",
              "      <td>0.267064</td>\n",
              "      <td>Positive</td>\n",
              "    </tr>\n",
              "    <tr>\n",
              "      <th>13</th>\n",
              "      <td>27-Jul</td>\n",
              "      <td>0.077488</td>\n",
              "      <td>0.707321</td>\n",
              "      <td>0.215098</td>\n",
              "      <td>0.640817</td>\n",
              "      <td>0.495724</td>\n",
              "      <td>0.198966</td>\n",
              "      <td>0.085927</td>\n",
              "      <td>0.308570</td>\n",
              "      <td>Positive</td>\n",
              "    </tr>\n",
              "    <tr>\n",
              "      <th>14</th>\n",
              "      <td>28-Jul</td>\n",
              "      <td>0.073904</td>\n",
              "      <td>0.721497</td>\n",
              "      <td>0.204621</td>\n",
              "      <td>0.528986</td>\n",
              "      <td>0.486707</td>\n",
              "      <td>0.210469</td>\n",
              "      <td>0.017379</td>\n",
              "      <td>0.252278</td>\n",
              "      <td>Positive</td>\n",
              "    </tr>\n",
              "    <tr>\n",
              "      <th>15</th>\n",
              "      <td>29-Jul</td>\n",
              "      <td>0.076651</td>\n",
              "      <td>0.715391</td>\n",
              "      <td>0.207948</td>\n",
              "      <td>0.566672</td>\n",
              "      <td>0.496783</td>\n",
              "      <td>0.180423</td>\n",
              "      <td>0.131956</td>\n",
              "      <td>0.293017</td>\n",
              "      <td>Positive</td>\n",
              "    </tr>\n",
              "    <tr>\n",
              "      <th>16</th>\n",
              "      <td>30-Jul</td>\n",
              "      <td>0.068533</td>\n",
              "      <td>0.710847</td>\n",
              "      <td>0.220648</td>\n",
              "      <td>0.617054</td>\n",
              "      <td>0.507516</td>\n",
              "      <td>0.193826</td>\n",
              "      <td>0.113087</td>\n",
              "      <td>0.307989</td>\n",
              "      <td>Positive</td>\n",
              "    </tr>\n",
              "    <tr>\n",
              "      <th>17</th>\n",
              "      <td>31-Jul</td>\n",
              "      <td>0.084587</td>\n",
              "      <td>0.700259</td>\n",
              "      <td>0.215201</td>\n",
              "      <td>0.603469</td>\n",
              "      <td>0.514444</td>\n",
              "      <td>0.184163</td>\n",
              "      <td>0.036250</td>\n",
              "      <td>0.274627</td>\n",
              "      <td>Positive</td>\n",
              "    </tr>\n",
              "    <tr>\n",
              "      <th>18</th>\n",
              "      <td>01-Aug</td>\n",
              "      <td>0.088523</td>\n",
              "      <td>0.701108</td>\n",
              "      <td>0.210394</td>\n",
              "      <td>0.457133</td>\n",
              "      <td>0.497195</td>\n",
              "      <td>0.181637</td>\n",
              "      <td>0.087843</td>\n",
              "      <td>0.242204</td>\n",
              "      <td>Neutral</td>\n",
              "    </tr>\n",
              "    <tr>\n",
              "      <th>19</th>\n",
              "      <td>02-Aug</td>\n",
              "      <td>0.080675</td>\n",
              "      <td>0.684115</td>\n",
              "      <td>0.235200</td>\n",
              "      <td>0.583201</td>\n",
              "      <td>0.521447</td>\n",
              "      <td>0.202816</td>\n",
              "      <td>0.066870</td>\n",
              "      <td>0.284295</td>\n",
              "      <td>Positive</td>\n",
              "    </tr>\n",
              "    <tr>\n",
              "      <th>20</th>\n",
              "      <td>03-Aug</td>\n",
              "      <td>0.078075</td>\n",
              "      <td>0.714008</td>\n",
              "      <td>0.207938</td>\n",
              "      <td>0.546413</td>\n",
              "      <td>0.485907</td>\n",
              "      <td>0.180405</td>\n",
              "      <td>0.080270</td>\n",
              "      <td>0.269029</td>\n",
              "      <td>Positive</td>\n",
              "    </tr>\n",
              "    <tr>\n",
              "      <th>21</th>\n",
              "      <td>04-Aug</td>\n",
              "      <td>0.088938</td>\n",
              "      <td>0.709380</td>\n",
              "      <td>0.201660</td>\n",
              "      <td>0.529904</td>\n",
              "      <td>0.489999</td>\n",
              "      <td>0.141854</td>\n",
              "      <td>0.057789</td>\n",
              "      <td>0.243182</td>\n",
              "      <td>Neutral</td>\n",
              "    </tr>\n",
              "    <tr>\n",
              "      <th>22</th>\n",
              "      <td>05-Aug</td>\n",
              "      <td>0.093268</td>\n",
              "      <td>0.706712</td>\n",
              "      <td>0.200024</td>\n",
              "      <td>0.433139</td>\n",
              "      <td>0.506098</td>\n",
              "      <td>0.177995</td>\n",
              "      <td>0.034015</td>\n",
              "      <td>0.215050</td>\n",
              "      <td>Neutral</td>\n",
              "    </tr>\n",
              "    <tr>\n",
              "      <th>23</th>\n",
              "      <td>06-Aug</td>\n",
              "      <td>0.103157</td>\n",
              "      <td>0.723843</td>\n",
              "      <td>0.172971</td>\n",
              "      <td>0.365544</td>\n",
              "      <td>0.480348</td>\n",
              "      <td>0.141193</td>\n",
              "      <td>0.083394</td>\n",
              "      <td>0.196711</td>\n",
              "      <td>Neutral</td>\n",
              "    </tr>\n",
              "    <tr>\n",
              "      <th>24</th>\n",
              "      <td>07-Aug</td>\n",
              "      <td>0.089076</td>\n",
              "      <td>0.713260</td>\n",
              "      <td>0.197698</td>\n",
              "      <td>0.507915</td>\n",
              "      <td>0.468900</td>\n",
              "      <td>0.163512</td>\n",
              "      <td>0.047227</td>\n",
              "      <td>0.239551</td>\n",
              "      <td>Neutral</td>\n",
              "    </tr>\n",
              "    <tr>\n",
              "      <th>25</th>\n",
              "      <td>08-Aug</td>\n",
              "      <td>0.077563</td>\n",
              "      <td>0.698145</td>\n",
              "      <td>0.224230</td>\n",
              "      <td>0.648033</td>\n",
              "      <td>0.514992</td>\n",
              "      <td>0.226314</td>\n",
              "      <td>0.097789</td>\n",
              "      <td>0.324045</td>\n",
              "      <td>Positive</td>\n",
              "    </tr>\n",
              "    <tr>\n",
              "      <th>26</th>\n",
              "      <td>09-Aug</td>\n",
              "      <td>0.089779</td>\n",
              "      <td>0.698321</td>\n",
              "      <td>0.211986</td>\n",
              "      <td>0.566119</td>\n",
              "      <td>0.510539</td>\n",
              "      <td>0.179383</td>\n",
              "      <td>0.091528</td>\n",
              "      <td>0.279010</td>\n",
              "      <td>Positive</td>\n",
              "    </tr>\n",
              "    <tr>\n",
              "      <th>27</th>\n",
              "      <td>10-Aug</td>\n",
              "      <td>0.089128</td>\n",
              "      <td>0.693655</td>\n",
              "      <td>0.217228</td>\n",
              "      <td>0.501904</td>\n",
              "      <td>0.492735</td>\n",
              "      <td>0.172583</td>\n",
              "      <td>0.103880</td>\n",
              "      <td>0.259456</td>\n",
              "      <td>Positive</td>\n",
              "    </tr>\n",
              "    <tr>\n",
              "      <th>28</th>\n",
              "      <td>11-Aug</td>\n",
              "      <td>0.091450</td>\n",
              "      <td>0.691700</td>\n",
              "      <td>0.216890</td>\n",
              "      <td>0.463615</td>\n",
              "      <td>0.500035</td>\n",
              "      <td>0.207381</td>\n",
              "      <td>0.079810</td>\n",
              "      <td>0.250268</td>\n",
              "      <td>Positive</td>\n",
              "    </tr>\n",
              "    <tr>\n",
              "      <th>29</th>\n",
              "      <td>12-Aug</td>\n",
              "      <td>0.104668</td>\n",
              "      <td>0.678944</td>\n",
              "      <td>0.216406</td>\n",
              "      <td>0.432906</td>\n",
              "      <td>0.523950</td>\n",
              "      <td>0.145201</td>\n",
              "      <td>0.007207</td>\n",
              "      <td>0.195105</td>\n",
              "      <td>Neutral</td>\n",
              "    </tr>\n",
              "    <tr>\n",
              "      <th>30</th>\n",
              "      <td>13-Aug</td>\n",
              "      <td>0.108916</td>\n",
              "      <td>0.701326</td>\n",
              "      <td>0.189802</td>\n",
              "      <td>0.325904</td>\n",
              "      <td>0.514209</td>\n",
              "      <td>0.137658</td>\n",
              "      <td>0.016662</td>\n",
              "      <td>0.160075</td>\n",
              "      <td>Neutral</td>\n",
              "    </tr>\n",
              "    <tr>\n",
              "      <th>31</th>\n",
              "      <td>14-Aug</td>\n",
              "      <td>0.091883</td>\n",
              "      <td>0.688284</td>\n",
              "      <td>0.219904</td>\n",
              "      <td>0.541421</td>\n",
              "      <td>0.492147</td>\n",
              "      <td>0.172375</td>\n",
              "      <td>0.142830</td>\n",
              "      <td>0.285542</td>\n",
              "      <td>Positive</td>\n",
              "    </tr>\n",
              "    <tr>\n",
              "      <th>32</th>\n",
              "      <td>15-Aug</td>\n",
              "      <td>0.060379</td>\n",
              "      <td>0.727406</td>\n",
              "      <td>0.212184</td>\n",
              "      <td>0.684139</td>\n",
              "      <td>0.480449</td>\n",
              "      <td>0.201684</td>\n",
              "      <td>0.100256</td>\n",
              "      <td>0.328693</td>\n",
              "      <td>Positive</td>\n",
              "    </tr>\n",
              "    <tr>\n",
              "      <th>33</th>\n",
              "      <td>16-Aug</td>\n",
              "      <td>0.082739</td>\n",
              "      <td>0.676617</td>\n",
              "      <td>0.240604</td>\n",
              "      <td>0.667814</td>\n",
              "      <td>0.517620</td>\n",
              "      <td>0.232058</td>\n",
              "      <td>0.067202</td>\n",
              "      <td>0.322358</td>\n",
              "      <td>Positive</td>\n",
              "    </tr>\n",
              "    <tr>\n",
              "      <th>34</th>\n",
              "      <td>17-Aug</td>\n",
              "      <td>0.095593</td>\n",
              "      <td>0.690636</td>\n",
              "      <td>0.213766</td>\n",
              "      <td>0.528996</td>\n",
              "      <td>0.516597</td>\n",
              "      <td>0.148865</td>\n",
              "      <td>0.115127</td>\n",
              "      <td>0.264329</td>\n",
              "      <td>Positive</td>\n",
              "    </tr>\n",
              "    <tr>\n",
              "      <th>35</th>\n",
              "      <td>18-Aug</td>\n",
              "      <td>0.083731</td>\n",
              "      <td>0.700037</td>\n",
              "      <td>0.216324</td>\n",
              "      <td>0.583992</td>\n",
              "      <td>0.493802</td>\n",
              "      <td>0.184123</td>\n",
              "      <td>0.069892</td>\n",
              "      <td>0.279336</td>\n",
              "      <td>Positive</td>\n",
              "    </tr>\n",
              "    <tr>\n",
              "      <th>36</th>\n",
              "      <td>19-Aug</td>\n",
              "      <td>0.103698</td>\n",
              "      <td>0.691140</td>\n",
              "      <td>0.205187</td>\n",
              "      <td>0.531402</td>\n",
              "      <td>0.474686</td>\n",
              "      <td>0.133974</td>\n",
              "      <td>0.009040</td>\n",
              "      <td>0.224805</td>\n",
              "      <td>Neutral</td>\n",
              "    </tr>\n",
              "    <tr>\n",
              "      <th>37</th>\n",
              "      <td>25-Aug</td>\n",
              "      <td>0.090250</td>\n",
              "      <td>0.709094</td>\n",
              "      <td>0.200625</td>\n",
              "      <td>0.545197</td>\n",
              "      <td>0.485649</td>\n",
              "      <td>0.102111</td>\n",
              "      <td>0.039062</td>\n",
              "      <td>0.228790</td>\n",
              "      <td>Neutral</td>\n",
              "    </tr>\n",
              "    <tr>\n",
              "      <th>38</th>\n",
              "      <td>28-Aug</td>\n",
              "      <td>0.070762</td>\n",
              "      <td>0.716027</td>\n",
              "      <td>0.213267</td>\n",
              "      <td>0.637006</td>\n",
              "      <td>0.498010</td>\n",
              "      <td>0.197051</td>\n",
              "      <td>0.065083</td>\n",
              "      <td>0.299713</td>\n",
              "      <td>Positive</td>\n",
              "    </tr>\n",
              "    <tr>\n",
              "      <th>39</th>\n",
              "      <td>29-Aug</td>\n",
              "      <td>0.079422</td>\n",
              "      <td>0.696606</td>\n",
              "      <td>0.223964</td>\n",
              "      <td>0.629526</td>\n",
              "      <td>0.512611</td>\n",
              "      <td>0.209781</td>\n",
              "      <td>0.086977</td>\n",
              "      <td>0.308761</td>\n",
              "      <td>Positive</td>\n",
              "    </tr>\n",
              "    <tr>\n",
              "      <th>40</th>\n",
              "      <td>30-Aug</td>\n",
              "      <td>0.086658</td>\n",
              "      <td>0.696493</td>\n",
              "      <td>0.216899</td>\n",
              "      <td>0.537225</td>\n",
              "      <td>0.495008</td>\n",
              "      <td>0.164922</td>\n",
              "      <td>0.087010</td>\n",
              "      <td>0.263053</td>\n",
              "      <td>Positive</td>\n",
              "    </tr>\n",
              "    <tr>\n",
              "      <th>41</th>\n",
              "      <td>31-Aug</td>\n",
              "      <td>0.090705</td>\n",
              "      <td>0.697945</td>\n",
              "      <td>0.211340</td>\n",
              "      <td>0.464074</td>\n",
              "      <td>0.489614</td>\n",
              "      <td>0.207643</td>\n",
              "      <td>0.083006</td>\n",
              "      <td>0.251574</td>\n",
              "      <td>Positive</td>\n",
              "    </tr>\n",
              "    <tr>\n",
              "      <th>42</th>\n",
              "      <td>01-Sep</td>\n",
              "      <td>0.086424</td>\n",
              "      <td>0.715503</td>\n",
              "      <td>0.197945</td>\n",
              "      <td>0.456241</td>\n",
              "      <td>0.482963</td>\n",
              "      <td>0.174954</td>\n",
              "      <td>0.053143</td>\n",
              "      <td>0.228112</td>\n",
              "      <td>Neutral</td>\n",
              "    </tr>\n",
              "    <tr>\n",
              "      <th>43</th>\n",
              "      <td>02-Sep</td>\n",
              "      <td>0.095709</td>\n",
              "      <td>0.717022</td>\n",
              "      <td>0.187274</td>\n",
              "      <td>0.339618</td>\n",
              "      <td>0.514578</td>\n",
              "      <td>0.193745</td>\n",
              "      <td>0.089861</td>\n",
              "      <td>0.207741</td>\n",
              "      <td>Neutral</td>\n",
              "    </tr>\n",
              "    <tr>\n",
              "      <th>44</th>\n",
              "      <td>03-Sep</td>\n",
              "      <td>0.081208</td>\n",
              "      <td>0.713231</td>\n",
              "      <td>0.205508</td>\n",
              "      <td>0.559069</td>\n",
              "      <td>0.517033</td>\n",
              "      <td>0.185671</td>\n",
              "      <td>0.085065</td>\n",
              "      <td>0.276602</td>\n",
              "      <td>Positive</td>\n",
              "    </tr>\n",
              "    <tr>\n",
              "      <th>45</th>\n",
              "      <td>04-Sep</td>\n",
              "      <td>0.086572</td>\n",
              "      <td>0.706484</td>\n",
              "      <td>0.206897</td>\n",
              "      <td>0.515945</td>\n",
              "      <td>0.507624</td>\n",
              "      <td>0.171990</td>\n",
              "      <td>0.094828</td>\n",
              "      <td>0.260921</td>\n",
              "      <td>Positive</td>\n",
              "    </tr>\n",
              "    <tr>\n",
              "      <th>46</th>\n",
              "      <td>05-Sep</td>\n",
              "      <td>0.099741</td>\n",
              "      <td>0.714533</td>\n",
              "      <td>0.185728</td>\n",
              "      <td>0.367659</td>\n",
              "      <td>0.485085</td>\n",
              "      <td>0.120267</td>\n",
              "      <td>0.031792</td>\n",
              "      <td>0.173239</td>\n",
              "      <td>Neutral</td>\n",
              "    </tr>\n",
              "    <tr>\n",
              "      <th>47</th>\n",
              "      <td>06-Sep</td>\n",
              "      <td>0.089041</td>\n",
              "      <td>0.712813</td>\n",
              "      <td>0.198210</td>\n",
              "      <td>0.468940</td>\n",
              "      <td>0.486361</td>\n",
              "      <td>0.142295</td>\n",
              "      <td>0.040578</td>\n",
              "      <td>0.217271</td>\n",
              "      <td>Neutral</td>\n",
              "    </tr>\n",
              "    <tr>\n",
              "      <th>48</th>\n",
              "      <td>07-Sep</td>\n",
              "      <td>0.081613</td>\n",
              "      <td>0.727602</td>\n",
              "      <td>0.190847</td>\n",
              "      <td>0.513958</td>\n",
              "      <td>0.514757</td>\n",
              "      <td>0.154464</td>\n",
              "      <td>0.058834</td>\n",
              "      <td>0.242418</td>\n",
              "      <td>Neutral</td>\n",
              "    </tr>\n",
              "    <tr>\n",
              "      <th>49</th>\n",
              "      <td>08-Sep</td>\n",
              "      <td>0.099529</td>\n",
              "      <td>0.706310</td>\n",
              "      <td>0.194067</td>\n",
              "      <td>0.352486</td>\n",
              "      <td>0.507755</td>\n",
              "      <td>0.138470</td>\n",
              "      <td>0.059402</td>\n",
              "      <td>0.183453</td>\n",
              "      <td>Neutral</td>\n",
              "    </tr>\n",
              "    <tr>\n",
              "      <th>50</th>\n",
              "      <td>09-Sep</td>\n",
              "      <td>0.098659</td>\n",
              "      <td>0.713881</td>\n",
              "      <td>0.187520</td>\n",
              "      <td>0.317255</td>\n",
              "      <td>0.461896</td>\n",
              "      <td>0.114304</td>\n",
              "      <td>0.047669</td>\n",
              "      <td>0.159743</td>\n",
              "      <td>Neutral</td>\n",
              "    </tr>\n",
              "    <tr>\n",
              "      <th>51</th>\n",
              "      <td>10-Sep</td>\n",
              "      <td>0.108147</td>\n",
              "      <td>0.677108</td>\n",
              "      <td>0.214714</td>\n",
              "      <td>0.400150</td>\n",
              "      <td>0.505576</td>\n",
              "      <td>0.145672</td>\n",
              "      <td>0.055211</td>\n",
              "      <td>0.200345</td>\n",
              "      <td>Neutral</td>\n",
              "    </tr>\n",
              "    <tr>\n",
              "      <th>52</th>\n",
              "      <td>11-Sep</td>\n",
              "      <td>0.091626</td>\n",
              "      <td>0.712866</td>\n",
              "      <td>0.195449</td>\n",
              "      <td>0.427725</td>\n",
              "      <td>0.504460</td>\n",
              "      <td>0.171118</td>\n",
              "      <td>0.095127</td>\n",
              "      <td>0.231323</td>\n",
              "      <td>Neutral</td>\n",
              "    </tr>\n",
              "    <tr>\n",
              "      <th>53</th>\n",
              "      <td>12-Sep</td>\n",
              "      <td>0.093015</td>\n",
              "      <td>0.699525</td>\n",
              "      <td>0.207543</td>\n",
              "      <td>0.429527</td>\n",
              "      <td>0.482007</td>\n",
              "      <td>0.173770</td>\n",
              "      <td>0.072478</td>\n",
              "      <td>0.225258</td>\n",
              "      <td>Neutral</td>\n",
              "    </tr>\n",
              "    <tr>\n",
              "      <th>54</th>\n",
              "      <td>13-Sep</td>\n",
              "      <td>0.094062</td>\n",
              "      <td>0.696574</td>\n",
              "      <td>0.209342</td>\n",
              "      <td>0.490452</td>\n",
              "      <td>0.499122</td>\n",
              "      <td>0.163551</td>\n",
              "      <td>0.107819</td>\n",
              "      <td>0.253941</td>\n",
              "      <td>Positive</td>\n",
              "    </tr>\n",
              "    <tr>\n",
              "      <th>55</th>\n",
              "      <td>14-Sep</td>\n",
              "      <td>0.095327</td>\n",
              "      <td>0.715416</td>\n",
              "      <td>0.189323</td>\n",
              "      <td>0.473187</td>\n",
              "      <td>0.474666</td>\n",
              "      <td>0.158465</td>\n",
              "      <td>0.051568</td>\n",
              "      <td>0.227740</td>\n",
              "      <td>Neutral</td>\n",
              "    </tr>\n",
              "  </tbody>\n",
              "</table>\n",
              "</div>\n",
              "      <button class=\"colab-df-convert\" onclick=\"convertToInteractive('df-9a61d96e-ac52-4050-b761-f581e4a10aac')\"\n",
              "              title=\"Convert this dataframe to an interactive table.\"\n",
              "              style=\"display:none;\">\n",
              "        \n",
              "  <svg xmlns=\"http://www.w3.org/2000/svg\" height=\"24px\"viewBox=\"0 0 24 24\"\n",
              "       width=\"24px\">\n",
              "    <path d=\"M0 0h24v24H0V0z\" fill=\"none\"/>\n",
              "    <path d=\"M18.56 5.44l.94 2.06.94-2.06 2.06-.94-2.06-.94-.94-2.06-.94 2.06-2.06.94zm-11 1L8.5 8.5l.94-2.06 2.06-.94-2.06-.94L8.5 2.5l-.94 2.06-2.06.94zm10 10l.94 2.06.94-2.06 2.06-.94-2.06-.94-.94-2.06-.94 2.06-2.06.94z\"/><path d=\"M17.41 7.96l-1.37-1.37c-.4-.4-.92-.59-1.43-.59-.52 0-1.04.2-1.43.59L10.3 9.45l-7.72 7.72c-.78.78-.78 2.05 0 2.83L4 21.41c.39.39.9.59 1.41.59.51 0 1.02-.2 1.41-.59l7.78-7.78 2.81-2.81c.8-.78.8-2.07 0-2.86zM5.41 20L4 18.59l7.72-7.72 1.47 1.35L5.41 20z\"/>\n",
              "  </svg>\n",
              "      </button>\n",
              "      \n",
              "  <style>\n",
              "    .colab-df-container {\n",
              "      display:flex;\n",
              "      flex-wrap:wrap;\n",
              "      gap: 12px;\n",
              "    }\n",
              "\n",
              "    .colab-df-convert {\n",
              "      background-color: #E8F0FE;\n",
              "      border: none;\n",
              "      border-radius: 50%;\n",
              "      cursor: pointer;\n",
              "      display: none;\n",
              "      fill: #1967D2;\n",
              "      height: 32px;\n",
              "      padding: 0 0 0 0;\n",
              "      width: 32px;\n",
              "    }\n",
              "\n",
              "    .colab-df-convert:hover {\n",
              "      background-color: #E2EBFA;\n",
              "      box-shadow: 0px 1px 2px rgba(60, 64, 67, 0.3), 0px 1px 3px 1px rgba(60, 64, 67, 0.15);\n",
              "      fill: #174EA6;\n",
              "    }\n",
              "\n",
              "    [theme=dark] .colab-df-convert {\n",
              "      background-color: #3B4455;\n",
              "      fill: #D2E3FC;\n",
              "    }\n",
              "\n",
              "    [theme=dark] .colab-df-convert:hover {\n",
              "      background-color: #434B5C;\n",
              "      box-shadow: 0px 1px 3px 1px rgba(0, 0, 0, 0.15);\n",
              "      filter: drop-shadow(0px 1px 2px rgba(0, 0, 0, 0.3));\n",
              "      fill: #FFFFFF;\n",
              "    }\n",
              "  </style>\n",
              "\n",
              "      <script>\n",
              "        const buttonEl =\n",
              "          document.querySelector('#df-9a61d96e-ac52-4050-b761-f581e4a10aac button.colab-df-convert');\n",
              "        buttonEl.style.display =\n",
              "          google.colab.kernel.accessAllowed ? 'block' : 'none';\n",
              "\n",
              "        async function convertToInteractive(key) {\n",
              "          const element = document.querySelector('#df-9a61d96e-ac52-4050-b761-f581e4a10aac');\n",
              "          const dataTable =\n",
              "            await google.colab.kernel.invokeFunction('convertToInteractive',\n",
              "                                                     [key], {});\n",
              "          if (!dataTable) return;\n",
              "\n",
              "          const docLinkHtml = 'Like what you see? Visit the ' +\n",
              "            '<a target=\"_blank\" href=https://colab.research.google.com/notebooks/data_table.ipynb>data table notebook</a>'\n",
              "            + ' to learn more about interactive tables.';\n",
              "          element.innerHTML = '';\n",
              "          dataTable['output_type'] = 'display_data';\n",
              "          await google.colab.output.renderOutput(dataTable, element);\n",
              "          const docLink = document.createElement('div');\n",
              "          docLink.innerHTML = docLinkHtml;\n",
              "          element.appendChild(docLink);\n",
              "        }\n",
              "      </script>\n",
              "    </div>\n",
              "  </div>\n",
              "  "
            ],
            "text/plain": [
              "   Date-Month  VADER_Neg  ...  Average_Sentiment_Score  Average_Daily_Sentiment\n",
              "0      14-Jul   0.094900  ...                 0.233158                  Neutral\n",
              "1      15-Jul   0.077156  ...                 0.280608                 Positive\n",
              "2      16-Jul   0.087207  ...                 0.244538                  Neutral\n",
              "3      17-Jul   0.084301  ...                 0.273656                 Positive\n",
              "4      18-Jul   0.075180  ...                 0.283897                 Positive\n",
              "5      19-Jul   0.089600  ...                 0.279586                 Positive\n",
              "6      20-Jul   0.087322  ...                 0.265130                 Positive\n",
              "7      21-Jul   0.102205  ...                 0.191173                  Neutral\n",
              "8      22-Jul   0.081714  ...                 0.287612                 Positive\n",
              "9      23-Jul   0.074886  ...                 0.296659                 Positive\n",
              "10     24-Jul   0.088452  ...                 0.286681                 Positive\n",
              "11     25-Jul   0.082593  ...                 0.288426                 Positive\n",
              "12     26-Jul   0.089287  ...                 0.267064                 Positive\n",
              "13     27-Jul   0.077488  ...                 0.308570                 Positive\n",
              "14     28-Jul   0.073904  ...                 0.252278                 Positive\n",
              "15     29-Jul   0.076651  ...                 0.293017                 Positive\n",
              "16     30-Jul   0.068533  ...                 0.307989                 Positive\n",
              "17     31-Jul   0.084587  ...                 0.274627                 Positive\n",
              "18     01-Aug   0.088523  ...                 0.242204                  Neutral\n",
              "19     02-Aug   0.080675  ...                 0.284295                 Positive\n",
              "20     03-Aug   0.078075  ...                 0.269029                 Positive\n",
              "21     04-Aug   0.088938  ...                 0.243182                  Neutral\n",
              "22     05-Aug   0.093268  ...                 0.215050                  Neutral\n",
              "23     06-Aug   0.103157  ...                 0.196711                  Neutral\n",
              "24     07-Aug   0.089076  ...                 0.239551                  Neutral\n",
              "25     08-Aug   0.077563  ...                 0.324045                 Positive\n",
              "26     09-Aug   0.089779  ...                 0.279010                 Positive\n",
              "27     10-Aug   0.089128  ...                 0.259456                 Positive\n",
              "28     11-Aug   0.091450  ...                 0.250268                 Positive\n",
              "29     12-Aug   0.104668  ...                 0.195105                  Neutral\n",
              "30     13-Aug   0.108916  ...                 0.160075                  Neutral\n",
              "31     14-Aug   0.091883  ...                 0.285542                 Positive\n",
              "32     15-Aug   0.060379  ...                 0.328693                 Positive\n",
              "33     16-Aug   0.082739  ...                 0.322358                 Positive\n",
              "34     17-Aug   0.095593  ...                 0.264329                 Positive\n",
              "35     18-Aug   0.083731  ...                 0.279336                 Positive\n",
              "36     19-Aug   0.103698  ...                 0.224805                  Neutral\n",
              "37     25-Aug   0.090250  ...                 0.228790                  Neutral\n",
              "38     28-Aug   0.070762  ...                 0.299713                 Positive\n",
              "39     29-Aug   0.079422  ...                 0.308761                 Positive\n",
              "40     30-Aug   0.086658  ...                 0.263053                 Positive\n",
              "41     31-Aug   0.090705  ...                 0.251574                 Positive\n",
              "42     01-Sep   0.086424  ...                 0.228112                  Neutral\n",
              "43     02-Sep   0.095709  ...                 0.207741                  Neutral\n",
              "44     03-Sep   0.081208  ...                 0.276602                 Positive\n",
              "45     04-Sep   0.086572  ...                 0.260921                 Positive\n",
              "46     05-Sep   0.099741  ...                 0.173239                  Neutral\n",
              "47     06-Sep   0.089041  ...                 0.217271                  Neutral\n",
              "48     07-Sep   0.081613  ...                 0.242418                  Neutral\n",
              "49     08-Sep   0.099529  ...                 0.183453                  Neutral\n",
              "50     09-Sep   0.098659  ...                 0.159743                  Neutral\n",
              "51     10-Sep   0.108147  ...                 0.200345                  Neutral\n",
              "52     11-Sep   0.091626  ...                 0.231323                  Neutral\n",
              "53     12-Sep   0.093015  ...                 0.225258                  Neutral\n",
              "54     13-Sep   0.094062  ...                 0.253941                 Positive\n",
              "55     14-Sep   0.095327  ...                 0.227740                  Neutral\n",
              "\n",
              "[56 rows x 10 columns]"
            ]
          },
          "metadata": {},
          "execution_count": 33
        }
      ]
    },
    {
      "cell_type": "markdown",
      "source": [
        "* **Weekly average sentiment and sentiment score**"
      ],
      "metadata": {
        "id": "SiVJYra0xPQ8"
      }
    },
    {
      "cell_type": "code",
      "source": [
        "weekly_df = df[['Date', 'VADER_Neg', 'VADER_Neu', 'VADER_Pos', 'VADER_Compound', 'TextBlob_Subjectivity', 'TextBlob_Polarity', 'SWN_Score', 'Average_Sentiment_Score']]\n",
        "weekly_df['Week'] = weekly_df['Date'].dt.isocalendar().week\n",
        "weekly_df = weekly_df.groupby(['Week']).mean()\n",
        "weekly_df['Average_Daily_Sentiment'] = weekly_df['Average_Sentiment_Score'].apply(lambda x: 'Positive' if x >= 0.25 else ('Negative' if x <= -0.25 else 'Neutral'))\n",
        "weekly_df.reset_index(inplace = True)\n",
        "weekly_df"
      ],
      "metadata": {
        "colab": {
          "base_uri": "https://localhost:8080/",
          "height": 426
        },
        "id": "umfYOs12wWta",
        "outputId": "95253fbd-d226-45db-c018-b6edb0a12f11"
      },
      "execution_count": 34,
      "outputs": [
        {
          "output_type": "execute_result",
          "data": {
            "text/html": [
              "\n",
              "  <div id=\"df-96f651dc-0548-44ee-ac4f-00f1a700a267\">\n",
              "    <div class=\"colab-df-container\">\n",
              "      <div>\n",
              "<style scoped>\n",
              "    .dataframe tbody tr th:only-of-type {\n",
              "        vertical-align: middle;\n",
              "    }\n",
              "\n",
              "    .dataframe tbody tr th {\n",
              "        vertical-align: top;\n",
              "    }\n",
              "\n",
              "    .dataframe thead th {\n",
              "        text-align: right;\n",
              "    }\n",
              "</style>\n",
              "<table border=\"1\" class=\"dataframe\">\n",
              "  <thead>\n",
              "    <tr style=\"text-align: right;\">\n",
              "      <th></th>\n",
              "      <th>Week</th>\n",
              "      <th>VADER_Neg</th>\n",
              "      <th>VADER_Neu</th>\n",
              "      <th>VADER_Pos</th>\n",
              "      <th>VADER_Compound</th>\n",
              "      <th>TextBlob_Subjectivity</th>\n",
              "      <th>TextBlob_Polarity</th>\n",
              "      <th>SWN_Score</th>\n",
              "      <th>Average_Sentiment_Score</th>\n",
              "      <th>Average_Daily_Sentiment</th>\n",
              "    </tr>\n",
              "  </thead>\n",
              "  <tbody>\n",
              "    <tr>\n",
              "      <th>0</th>\n",
              "      <td>29</td>\n",
              "      <td>0.084270</td>\n",
              "      <td>0.713265</td>\n",
              "      <td>0.202460</td>\n",
              "      <td>0.557327</td>\n",
              "      <td>0.493064</td>\n",
              "      <td>0.173230</td>\n",
              "      <td>0.072287</td>\n",
              "      <td>0.267615</td>\n",
              "      <td>Positive</td>\n",
              "    </tr>\n",
              "    <tr>\n",
              "      <th>1</th>\n",
              "      <td>30</td>\n",
              "      <td>0.087172</td>\n",
              "      <td>0.704060</td>\n",
              "      <td>0.208770</td>\n",
              "      <td>0.558476</td>\n",
              "      <td>0.501487</td>\n",
              "      <td>0.179321</td>\n",
              "      <td>0.062141</td>\n",
              "      <td>0.266646</td>\n",
              "      <td>Positive</td>\n",
              "    </tr>\n",
              "    <tr>\n",
              "      <th>2</th>\n",
              "      <td>31</td>\n",
              "      <td>0.078280</td>\n",
              "      <td>0.706372</td>\n",
              "      <td>0.215350</td>\n",
              "      <td>0.572890</td>\n",
              "      <td>0.502457</td>\n",
              "      <td>0.193833</td>\n",
              "      <td>0.075146</td>\n",
              "      <td>0.280623</td>\n",
              "      <td>Positive</td>\n",
              "    </tr>\n",
              "    <tr>\n",
              "      <th>3</th>\n",
              "      <td>32</td>\n",
              "      <td>0.088687</td>\n",
              "      <td>0.709335</td>\n",
              "      <td>0.201983</td>\n",
              "      <td>0.514309</td>\n",
              "      <td>0.493426</td>\n",
              "      <td>0.172184</td>\n",
              "      <td>0.072230</td>\n",
              "      <td>0.252907</td>\n",
              "      <td>Positive</td>\n",
              "    </tr>\n",
              "    <tr>\n",
              "      <th>4</th>\n",
              "      <td>33</td>\n",
              "      <td>0.092473</td>\n",
              "      <td>0.692256</td>\n",
              "      <td>0.215292</td>\n",
              "      <td>0.498743</td>\n",
              "      <td>0.503849</td>\n",
              "      <td>0.177011</td>\n",
              "      <td>0.074028</td>\n",
              "      <td>0.249927</td>\n",
              "      <td>Neutral</td>\n",
              "    </tr>\n",
              "    <tr>\n",
              "      <th>5</th>\n",
              "      <td>34</td>\n",
              "      <td>0.092998</td>\n",
              "      <td>0.694305</td>\n",
              "      <td>0.212736</td>\n",
              "      <td>0.550335</td>\n",
              "      <td>0.498230</td>\n",
              "      <td>0.158721</td>\n",
              "      <td>0.073346</td>\n",
              "      <td>0.260801</td>\n",
              "      <td>Positive</td>\n",
              "    </tr>\n",
              "    <tr>\n",
              "      <th>6</th>\n",
              "      <td>35</td>\n",
              "      <td>0.080175</td>\n",
              "      <td>0.702141</td>\n",
              "      <td>0.217718</td>\n",
              "      <td>0.592521</td>\n",
              "      <td>0.500938</td>\n",
              "      <td>0.186070</td>\n",
              "      <td>0.080083</td>\n",
              "      <td>0.286225</td>\n",
              "      <td>Positive</td>\n",
              "    </tr>\n",
              "    <tr>\n",
              "      <th>7</th>\n",
              "      <td>36</td>\n",
              "      <td>0.089673</td>\n",
              "      <td>0.711564</td>\n",
              "      <td>0.198738</td>\n",
              "      <td>0.455510</td>\n",
              "      <td>0.498190</td>\n",
              "      <td>0.169565</td>\n",
              "      <td>0.068088</td>\n",
              "      <td>0.231055</td>\n",
              "      <td>Neutral</td>\n",
              "    </tr>\n",
              "    <tr>\n",
              "      <th>8</th>\n",
              "      <td>37</td>\n",
              "      <td>0.094944</td>\n",
              "      <td>0.704832</td>\n",
              "      <td>0.200225</td>\n",
              "      <td>0.422388</td>\n",
              "      <td>0.497187</td>\n",
              "      <td>0.153122</td>\n",
              "      <td>0.071812</td>\n",
              "      <td>0.215774</td>\n",
              "      <td>Neutral</td>\n",
              "    </tr>\n",
              "    <tr>\n",
              "      <th>9</th>\n",
              "      <td>38</td>\n",
              "      <td>0.095327</td>\n",
              "      <td>0.715416</td>\n",
              "      <td>0.189323</td>\n",
              "      <td>0.473187</td>\n",
              "      <td>0.474666</td>\n",
              "      <td>0.158465</td>\n",
              "      <td>0.051568</td>\n",
              "      <td>0.227740</td>\n",
              "      <td>Neutral</td>\n",
              "    </tr>\n",
              "  </tbody>\n",
              "</table>\n",
              "</div>\n",
              "      <button class=\"colab-df-convert\" onclick=\"convertToInteractive('df-96f651dc-0548-44ee-ac4f-00f1a700a267')\"\n",
              "              title=\"Convert this dataframe to an interactive table.\"\n",
              "              style=\"display:none;\">\n",
              "        \n",
              "  <svg xmlns=\"http://www.w3.org/2000/svg\" height=\"24px\"viewBox=\"0 0 24 24\"\n",
              "       width=\"24px\">\n",
              "    <path d=\"M0 0h24v24H0V0z\" fill=\"none\"/>\n",
              "    <path d=\"M18.56 5.44l.94 2.06.94-2.06 2.06-.94-2.06-.94-.94-2.06-.94 2.06-2.06.94zm-11 1L8.5 8.5l.94-2.06 2.06-.94-2.06-.94L8.5 2.5l-.94 2.06-2.06.94zm10 10l.94 2.06.94-2.06 2.06-.94-2.06-.94-.94-2.06-.94 2.06-2.06.94z\"/><path d=\"M17.41 7.96l-1.37-1.37c-.4-.4-.92-.59-1.43-.59-.52 0-1.04.2-1.43.59L10.3 9.45l-7.72 7.72c-.78.78-.78 2.05 0 2.83L4 21.41c.39.39.9.59 1.41.59.51 0 1.02-.2 1.41-.59l7.78-7.78 2.81-2.81c.8-.78.8-2.07 0-2.86zM5.41 20L4 18.59l7.72-7.72 1.47 1.35L5.41 20z\"/>\n",
              "  </svg>\n",
              "      </button>\n",
              "      \n",
              "  <style>\n",
              "    .colab-df-container {\n",
              "      display:flex;\n",
              "      flex-wrap:wrap;\n",
              "      gap: 12px;\n",
              "    }\n",
              "\n",
              "    .colab-df-convert {\n",
              "      background-color: #E8F0FE;\n",
              "      border: none;\n",
              "      border-radius: 50%;\n",
              "      cursor: pointer;\n",
              "      display: none;\n",
              "      fill: #1967D2;\n",
              "      height: 32px;\n",
              "      padding: 0 0 0 0;\n",
              "      width: 32px;\n",
              "    }\n",
              "\n",
              "    .colab-df-convert:hover {\n",
              "      background-color: #E2EBFA;\n",
              "      box-shadow: 0px 1px 2px rgba(60, 64, 67, 0.3), 0px 1px 3px 1px rgba(60, 64, 67, 0.15);\n",
              "      fill: #174EA6;\n",
              "    }\n",
              "\n",
              "    [theme=dark] .colab-df-convert {\n",
              "      background-color: #3B4455;\n",
              "      fill: #D2E3FC;\n",
              "    }\n",
              "\n",
              "    [theme=dark] .colab-df-convert:hover {\n",
              "      background-color: #434B5C;\n",
              "      box-shadow: 0px 1px 3px 1px rgba(0, 0, 0, 0.15);\n",
              "      filter: drop-shadow(0px 1px 2px rgba(0, 0, 0, 0.3));\n",
              "      fill: #FFFFFF;\n",
              "    }\n",
              "  </style>\n",
              "\n",
              "      <script>\n",
              "        const buttonEl =\n",
              "          document.querySelector('#df-96f651dc-0548-44ee-ac4f-00f1a700a267 button.colab-df-convert');\n",
              "        buttonEl.style.display =\n",
              "          google.colab.kernel.accessAllowed ? 'block' : 'none';\n",
              "\n",
              "        async function convertToInteractive(key) {\n",
              "          const element = document.querySelector('#df-96f651dc-0548-44ee-ac4f-00f1a700a267');\n",
              "          const dataTable =\n",
              "            await google.colab.kernel.invokeFunction('convertToInteractive',\n",
              "                                                     [key], {});\n",
              "          if (!dataTable) return;\n",
              "\n",
              "          const docLinkHtml = 'Like what you see? Visit the ' +\n",
              "            '<a target=\"_blank\" href=https://colab.research.google.com/notebooks/data_table.ipynb>data table notebook</a>'\n",
              "            + ' to learn more about interactive tables.';\n",
              "          element.innerHTML = '';\n",
              "          dataTable['output_type'] = 'display_data';\n",
              "          await google.colab.output.renderOutput(dataTable, element);\n",
              "          const docLink = document.createElement('div');\n",
              "          docLink.innerHTML = docLinkHtml;\n",
              "          element.appendChild(docLink);\n",
              "        }\n",
              "      </script>\n",
              "    </div>\n",
              "  </div>\n",
              "  "
            ],
            "text/plain": [
              "   Week  VADER_Neg  ...  Average_Sentiment_Score  Average_Daily_Sentiment\n",
              "0    29   0.084270  ...                 0.267615                 Positive\n",
              "1    30   0.087172  ...                 0.266646                 Positive\n",
              "2    31   0.078280  ...                 0.280623                 Positive\n",
              "3    32   0.088687  ...                 0.252907                 Positive\n",
              "4    33   0.092473  ...                 0.249927                  Neutral\n",
              "5    34   0.092998  ...                 0.260801                 Positive\n",
              "6    35   0.080175  ...                 0.286225                 Positive\n",
              "7    36   0.089673  ...                 0.231055                  Neutral\n",
              "8    37   0.094944  ...                 0.215774                  Neutral\n",
              "9    38   0.095327  ...                 0.227740                  Neutral\n",
              "\n",
              "[10 rows x 10 columns]"
            ]
          },
          "metadata": {},
          "execution_count": 34
        }
      ]
    },
    {
      "cell_type": "markdown",
      "source": [
        "* **Monthly average sentiment and sentiment score**"
      ],
      "metadata": {
        "id": "a2CZe84BuO_w"
      }
    },
    {
      "cell_type": "code",
      "source": [
        "monthly_df = df[['Date', 'VADER_Neg', 'VADER_Neu', 'VADER_Pos', 'VADER_Compound', 'TextBlob_Subjectivity', 'TextBlob_Polarity', 'SWN_Score', 'Average_Sentiment_Score']]\n",
        "monthly_df['Month-Year'] = monthly_df['Date'].dt.strftime('%b %Y')\n",
        "monthly_df = monthly_df.groupby(['Month-Year']).mean()\n",
        "monthly_df['Average_Daily_Sentiment'] = monthly_df['Average_Sentiment_Score'].apply(lambda x: 'Positive' if x >= 0.25 else ('Negative' if x <= -0.25 else 'Neutral'))\n",
        "monthly_df = monthly_df.reindex(['Jul 2020', 'Aug 2020', 'Sep 2020'])\n",
        "monthly_df.reset_index(inplace = True)\n",
        "monthly_df"
      ],
      "metadata": {
        "colab": {
          "base_uri": "https://localhost:8080/",
          "height": 277
        },
        "id": "wA-5zc8LuOEc",
        "outputId": "231bc7f4-ec21-4985-a959-f96225c0150e"
      },
      "execution_count": 35,
      "outputs": [
        {
          "output_type": "execute_result",
          "data": {
            "text/html": [
              "\n",
              "  <div id=\"df-d08a9c9f-67d1-4d84-bb02-25ae4b4d59c7\">\n",
              "    <div class=\"colab-df-container\">\n",
              "      <div>\n",
              "<style scoped>\n",
              "    .dataframe tbody tr th:only-of-type {\n",
              "        vertical-align: middle;\n",
              "    }\n",
              "\n",
              "    .dataframe tbody tr th {\n",
              "        vertical-align: top;\n",
              "    }\n",
              "\n",
              "    .dataframe thead th {\n",
              "        text-align: right;\n",
              "    }\n",
              "</style>\n",
              "<table border=\"1\" class=\"dataframe\">\n",
              "  <thead>\n",
              "    <tr style=\"text-align: right;\">\n",
              "      <th></th>\n",
              "      <th>Month-Year</th>\n",
              "      <th>VADER_Neg</th>\n",
              "      <th>VADER_Neu</th>\n",
              "      <th>VADER_Pos</th>\n",
              "      <th>VADER_Compound</th>\n",
              "      <th>TextBlob_Subjectivity</th>\n",
              "      <th>TextBlob_Polarity</th>\n",
              "      <th>SWN_Score</th>\n",
              "      <th>Average_Sentiment_Score</th>\n",
              "      <th>Average_Daily_Sentiment</th>\n",
              "    </tr>\n",
              "  </thead>\n",
              "  <tbody>\n",
              "    <tr>\n",
              "      <th>0</th>\n",
              "      <td>Jul 2020</td>\n",
              "      <td>0.083057</td>\n",
              "      <td>0.709005</td>\n",
              "      <td>0.207937</td>\n",
              "      <td>0.567587</td>\n",
              "      <td>0.498429</td>\n",
              "      <td>0.181754</td>\n",
              "      <td>0.068862</td>\n",
              "      <td>0.272735</td>\n",
              "      <td>Positive</td>\n",
              "    </tr>\n",
              "    <tr>\n",
              "      <th>1</th>\n",
              "      <td>Aug 2020</td>\n",
              "      <td>0.088960</td>\n",
              "      <td>0.699380</td>\n",
              "      <td>0.211678</td>\n",
              "      <td>0.523146</td>\n",
              "      <td>0.499462</td>\n",
              "      <td>0.176906</td>\n",
              "      <td>0.074825</td>\n",
              "      <td>0.258292</td>\n",
              "      <td>Positive</td>\n",
              "    </tr>\n",
              "    <tr>\n",
              "      <th>2</th>\n",
              "      <td>Sep 2020</td>\n",
              "      <td>0.092516</td>\n",
              "      <td>0.708937</td>\n",
              "      <td>0.198537</td>\n",
              "      <td>0.438529</td>\n",
              "      <td>0.497384</td>\n",
              "      <td>0.158709</td>\n",
              "      <td>0.068693</td>\n",
              "      <td>0.221977</td>\n",
              "      <td>Neutral</td>\n",
              "    </tr>\n",
              "  </tbody>\n",
              "</table>\n",
              "</div>\n",
              "      <button class=\"colab-df-convert\" onclick=\"convertToInteractive('df-d08a9c9f-67d1-4d84-bb02-25ae4b4d59c7')\"\n",
              "              title=\"Convert this dataframe to an interactive table.\"\n",
              "              style=\"display:none;\">\n",
              "        \n",
              "  <svg xmlns=\"http://www.w3.org/2000/svg\" height=\"24px\"viewBox=\"0 0 24 24\"\n",
              "       width=\"24px\">\n",
              "    <path d=\"M0 0h24v24H0V0z\" fill=\"none\"/>\n",
              "    <path d=\"M18.56 5.44l.94 2.06.94-2.06 2.06-.94-2.06-.94-.94-2.06-.94 2.06-2.06.94zm-11 1L8.5 8.5l.94-2.06 2.06-.94-2.06-.94L8.5 2.5l-.94 2.06-2.06.94zm10 10l.94 2.06.94-2.06 2.06-.94-2.06-.94-.94-2.06-.94 2.06-2.06.94z\"/><path d=\"M17.41 7.96l-1.37-1.37c-.4-.4-.92-.59-1.43-.59-.52 0-1.04.2-1.43.59L10.3 9.45l-7.72 7.72c-.78.78-.78 2.05 0 2.83L4 21.41c.39.39.9.59 1.41.59.51 0 1.02-.2 1.41-.59l7.78-7.78 2.81-2.81c.8-.78.8-2.07 0-2.86zM5.41 20L4 18.59l7.72-7.72 1.47 1.35L5.41 20z\"/>\n",
              "  </svg>\n",
              "      </button>\n",
              "      \n",
              "  <style>\n",
              "    .colab-df-container {\n",
              "      display:flex;\n",
              "      flex-wrap:wrap;\n",
              "      gap: 12px;\n",
              "    }\n",
              "\n",
              "    .colab-df-convert {\n",
              "      background-color: #E8F0FE;\n",
              "      border: none;\n",
              "      border-radius: 50%;\n",
              "      cursor: pointer;\n",
              "      display: none;\n",
              "      fill: #1967D2;\n",
              "      height: 32px;\n",
              "      padding: 0 0 0 0;\n",
              "      width: 32px;\n",
              "    }\n",
              "\n",
              "    .colab-df-convert:hover {\n",
              "      background-color: #E2EBFA;\n",
              "      box-shadow: 0px 1px 2px rgba(60, 64, 67, 0.3), 0px 1px 3px 1px rgba(60, 64, 67, 0.15);\n",
              "      fill: #174EA6;\n",
              "    }\n",
              "\n",
              "    [theme=dark] .colab-df-convert {\n",
              "      background-color: #3B4455;\n",
              "      fill: #D2E3FC;\n",
              "    }\n",
              "\n",
              "    [theme=dark] .colab-df-convert:hover {\n",
              "      background-color: #434B5C;\n",
              "      box-shadow: 0px 1px 3px 1px rgba(0, 0, 0, 0.15);\n",
              "      filter: drop-shadow(0px 1px 2px rgba(0, 0, 0, 0.3));\n",
              "      fill: #FFFFFF;\n",
              "    }\n",
              "  </style>\n",
              "\n",
              "      <script>\n",
              "        const buttonEl =\n",
              "          document.querySelector('#df-d08a9c9f-67d1-4d84-bb02-25ae4b4d59c7 button.colab-df-convert');\n",
              "        buttonEl.style.display =\n",
              "          google.colab.kernel.accessAllowed ? 'block' : 'none';\n",
              "\n",
              "        async function convertToInteractive(key) {\n",
              "          const element = document.querySelector('#df-d08a9c9f-67d1-4d84-bb02-25ae4b4d59c7');\n",
              "          const dataTable =\n",
              "            await google.colab.kernel.invokeFunction('convertToInteractive',\n",
              "                                                     [key], {});\n",
              "          if (!dataTable) return;\n",
              "\n",
              "          const docLinkHtml = 'Like what you see? Visit the ' +\n",
              "            '<a target=\"_blank\" href=https://colab.research.google.com/notebooks/data_table.ipynb>data table notebook</a>'\n",
              "            + ' to learn more about interactive tables.';\n",
              "          element.innerHTML = '';\n",
              "          dataTable['output_type'] = 'display_data';\n",
              "          await google.colab.output.renderOutput(dataTable, element);\n",
              "          const docLink = document.createElement('div');\n",
              "          docLink.innerHTML = docLinkHtml;\n",
              "          element.appendChild(docLink);\n",
              "        }\n",
              "      </script>\n",
              "    </div>\n",
              "  </div>\n",
              "  "
            ],
            "text/plain": [
              "  Month-Year  VADER_Neg  ...  Average_Sentiment_Score  Average_Daily_Sentiment\n",
              "0   Jul 2020   0.083057  ...                 0.272735                 Positive\n",
              "1   Aug 2020   0.088960  ...                 0.258292                 Positive\n",
              "2   Sep 2020   0.092516  ...                 0.221977                  Neutral\n",
              "\n",
              "[3 rows x 10 columns]"
            ]
          },
          "metadata": {},
          "execution_count": 35
        }
      ]
    },
    {
      "cell_type": "markdown",
      "source": [
        "* **Day of week average sentiment and sentiment score**"
      ],
      "metadata": {
        "id": "LqSOoRYORGe4"
      }
    },
    {
      "cell_type": "code",
      "source": [
        "order = [ 'Monday', 'Tuesday', 'Wednesday', 'Thursday', 'Friday', 'Saturday', 'Sunday']\n",
        "day_df = df[['Date', 'VADER_Neg', 'VADER_Neu', 'VADER_Pos', 'VADER_Compound', 'TextBlob_Subjectivity', 'TextBlob_Polarity', 'SWN_Score', 'Average_Sentiment_Score']]\n",
        "day_df['Day'] = day_df['Date'].dt.day_name()\n",
        "day_df = day_df.groupby(['Day']).mean().reindex(order)\n",
        "day_df['Average_Daily_Sentiment'] = day_df['Average_Sentiment_Score'].apply(lambda x: 'Positive' if x >= 0.25 else ('Negative' if x <= -0.25 else 'Neutral'))\n",
        "day_df.reset_index(inplace = True)\n",
        "day_df"
      ],
      "metadata": {
        "colab": {
          "base_uri": "https://localhost:8080/",
          "height": 333
        },
        "id": "ZpAKEjiqEvBK",
        "outputId": "496aa5ee-7c01-4707-ad0b-af269045f120"
      },
      "execution_count": 36,
      "outputs": [
        {
          "output_type": "execute_result",
          "data": {
            "text/html": [
              "\n",
              "  <div id=\"df-bee6fcdc-0fc0-4621-aacf-405913a0dfe3\">\n",
              "    <div class=\"colab-df-container\">\n",
              "      <div>\n",
              "<style scoped>\n",
              "    .dataframe tbody tr th:only-of-type {\n",
              "        vertical-align: middle;\n",
              "    }\n",
              "\n",
              "    .dataframe tbody tr th {\n",
              "        vertical-align: top;\n",
              "    }\n",
              "\n",
              "    .dataframe thead th {\n",
              "        text-align: right;\n",
              "    }\n",
              "</style>\n",
              "<table border=\"1\" class=\"dataframe\">\n",
              "  <thead>\n",
              "    <tr style=\"text-align: right;\">\n",
              "      <th></th>\n",
              "      <th>Day</th>\n",
              "      <th>VADER_Neg</th>\n",
              "      <th>VADER_Neu</th>\n",
              "      <th>VADER_Pos</th>\n",
              "      <th>VADER_Compound</th>\n",
              "      <th>TextBlob_Subjectivity</th>\n",
              "      <th>TextBlob_Polarity</th>\n",
              "      <th>SWN_Score</th>\n",
              "      <th>Average_Sentiment_Score</th>\n",
              "      <th>Average_Daily_Sentiment</th>\n",
              "    </tr>\n",
              "  </thead>\n",
              "  <tbody>\n",
              "    <tr>\n",
              "      <th>0</th>\n",
              "      <td>Monday</td>\n",
              "      <td>0.086187</td>\n",
              "      <td>0.705543</td>\n",
              "      <td>0.208271</td>\n",
              "      <td>0.526012</td>\n",
              "      <td>0.498459</td>\n",
              "      <td>0.178296</td>\n",
              "      <td>0.087476</td>\n",
              "      <td>0.263928</td>\n",
              "      <td>Positive</td>\n",
              "    </tr>\n",
              "    <tr>\n",
              "      <th>1</th>\n",
              "      <td>Tuesday</td>\n",
              "      <td>0.089958</td>\n",
              "      <td>0.709284</td>\n",
              "      <td>0.200731</td>\n",
              "      <td>0.477534</td>\n",
              "      <td>0.494389</td>\n",
              "      <td>0.165294</td>\n",
              "      <td>0.049535</td>\n",
              "      <td>0.230788</td>\n",
              "      <td>Neutral</td>\n",
              "    </tr>\n",
              "    <tr>\n",
              "      <th>2</th>\n",
              "      <td>Wednesday</td>\n",
              "      <td>0.090332</td>\n",
              "      <td>0.709374</td>\n",
              "      <td>0.200308</td>\n",
              "      <td>0.477466</td>\n",
              "      <td>0.493588</td>\n",
              "      <td>0.167190</td>\n",
              "      <td>0.062321</td>\n",
              "      <td>0.235659</td>\n",
              "      <td>Neutral</td>\n",
              "    </tr>\n",
              "    <tr>\n",
              "      <th>3</th>\n",
              "      <td>Thursday</td>\n",
              "      <td>0.090360</td>\n",
              "      <td>0.707133</td>\n",
              "      <td>0.202508</td>\n",
              "      <td>0.487277</td>\n",
              "      <td>0.503638</td>\n",
              "      <td>0.163043</td>\n",
              "      <td>0.069844</td>\n",
              "      <td>0.240055</td>\n",
              "      <td>Neutral</td>\n",
              "    </tr>\n",
              "    <tr>\n",
              "      <th>4</th>\n",
              "      <td>Friday</td>\n",
              "      <td>0.086464</td>\n",
              "      <td>0.705172</td>\n",
              "      <td>0.208378</td>\n",
              "      <td>0.540622</td>\n",
              "      <td>0.503716</td>\n",
              "      <td>0.180402</td>\n",
              "      <td>0.082372</td>\n",
              "      <td>0.267799</td>\n",
              "      <td>Positive</td>\n",
              "    </tr>\n",
              "    <tr>\n",
              "      <th>5</th>\n",
              "      <td>Saturday</td>\n",
              "      <td>0.084080</td>\n",
              "      <td>0.706094</td>\n",
              "      <td>0.209823</td>\n",
              "      <td>0.542610</td>\n",
              "      <td>0.493250</td>\n",
              "      <td>0.180035</td>\n",
              "      <td>0.071244</td>\n",
              "      <td>0.264630</td>\n",
              "      <td>Positive</td>\n",
              "    </tr>\n",
              "    <tr>\n",
              "      <th>6</th>\n",
              "      <td>Sunday</td>\n",
              "      <td>0.087965</td>\n",
              "      <td>0.695483</td>\n",
              "      <td>0.216578</td>\n",
              "      <td>0.552259</td>\n",
              "      <td>0.502098</td>\n",
              "      <td>0.180045</td>\n",
              "      <td>0.073882</td>\n",
              "      <td>0.268729</td>\n",
              "      <td>Positive</td>\n",
              "    </tr>\n",
              "  </tbody>\n",
              "</table>\n",
              "</div>\n",
              "      <button class=\"colab-df-convert\" onclick=\"convertToInteractive('df-bee6fcdc-0fc0-4621-aacf-405913a0dfe3')\"\n",
              "              title=\"Convert this dataframe to an interactive table.\"\n",
              "              style=\"display:none;\">\n",
              "        \n",
              "  <svg xmlns=\"http://www.w3.org/2000/svg\" height=\"24px\"viewBox=\"0 0 24 24\"\n",
              "       width=\"24px\">\n",
              "    <path d=\"M0 0h24v24H0V0z\" fill=\"none\"/>\n",
              "    <path d=\"M18.56 5.44l.94 2.06.94-2.06 2.06-.94-2.06-.94-.94-2.06-.94 2.06-2.06.94zm-11 1L8.5 8.5l.94-2.06 2.06-.94-2.06-.94L8.5 2.5l-.94 2.06-2.06.94zm10 10l.94 2.06.94-2.06 2.06-.94-2.06-.94-.94-2.06-.94 2.06-2.06.94z\"/><path d=\"M17.41 7.96l-1.37-1.37c-.4-.4-.92-.59-1.43-.59-.52 0-1.04.2-1.43.59L10.3 9.45l-7.72 7.72c-.78.78-.78 2.05 0 2.83L4 21.41c.39.39.9.59 1.41.59.51 0 1.02-.2 1.41-.59l7.78-7.78 2.81-2.81c.8-.78.8-2.07 0-2.86zM5.41 20L4 18.59l7.72-7.72 1.47 1.35L5.41 20z\"/>\n",
              "  </svg>\n",
              "      </button>\n",
              "      \n",
              "  <style>\n",
              "    .colab-df-container {\n",
              "      display:flex;\n",
              "      flex-wrap:wrap;\n",
              "      gap: 12px;\n",
              "    }\n",
              "\n",
              "    .colab-df-convert {\n",
              "      background-color: #E8F0FE;\n",
              "      border: none;\n",
              "      border-radius: 50%;\n",
              "      cursor: pointer;\n",
              "      display: none;\n",
              "      fill: #1967D2;\n",
              "      height: 32px;\n",
              "      padding: 0 0 0 0;\n",
              "      width: 32px;\n",
              "    }\n",
              "\n",
              "    .colab-df-convert:hover {\n",
              "      background-color: #E2EBFA;\n",
              "      box-shadow: 0px 1px 2px rgba(60, 64, 67, 0.3), 0px 1px 3px 1px rgba(60, 64, 67, 0.15);\n",
              "      fill: #174EA6;\n",
              "    }\n",
              "\n",
              "    [theme=dark] .colab-df-convert {\n",
              "      background-color: #3B4455;\n",
              "      fill: #D2E3FC;\n",
              "    }\n",
              "\n",
              "    [theme=dark] .colab-df-convert:hover {\n",
              "      background-color: #434B5C;\n",
              "      box-shadow: 0px 1px 3px 1px rgba(0, 0, 0, 0.15);\n",
              "      filter: drop-shadow(0px 1px 2px rgba(0, 0, 0, 0.3));\n",
              "      fill: #FFFFFF;\n",
              "    }\n",
              "  </style>\n",
              "\n",
              "      <script>\n",
              "        const buttonEl =\n",
              "          document.querySelector('#df-bee6fcdc-0fc0-4621-aacf-405913a0dfe3 button.colab-df-convert');\n",
              "        buttonEl.style.display =\n",
              "          google.colab.kernel.accessAllowed ? 'block' : 'none';\n",
              "\n",
              "        async function convertToInteractive(key) {\n",
              "          const element = document.querySelector('#df-bee6fcdc-0fc0-4621-aacf-405913a0dfe3');\n",
              "          const dataTable =\n",
              "            await google.colab.kernel.invokeFunction('convertToInteractive',\n",
              "                                                     [key], {});\n",
              "          if (!dataTable) return;\n",
              "\n",
              "          const docLinkHtml = 'Like what you see? Visit the ' +\n",
              "            '<a target=\"_blank\" href=https://colab.research.google.com/notebooks/data_table.ipynb>data table notebook</a>'\n",
              "            + ' to learn more about interactive tables.';\n",
              "          element.innerHTML = '';\n",
              "          dataTable['output_type'] = 'display_data';\n",
              "          await google.colab.output.renderOutput(dataTable, element);\n",
              "          const docLink = document.createElement('div');\n",
              "          docLink.innerHTML = docLinkHtml;\n",
              "          element.appendChild(docLink);\n",
              "        }\n",
              "      </script>\n",
              "    </div>\n",
              "  </div>\n",
              "  "
            ],
            "text/plain": [
              "         Day  VADER_Neg  ...  Average_Sentiment_Score  Average_Daily_Sentiment\n",
              "0     Monday   0.086187  ...                 0.263928                 Positive\n",
              "1    Tuesday   0.089958  ...                 0.230788                  Neutral\n",
              "2  Wednesday   0.090332  ...                 0.235659                  Neutral\n",
              "3   Thursday   0.090360  ...                 0.240055                  Neutral\n",
              "4     Friday   0.086464  ...                 0.267799                 Positive\n",
              "5   Saturday   0.084080  ...                 0.264630                 Positive\n",
              "6     Sunday   0.087965  ...                 0.268729                 Positive\n",
              "\n",
              "[7 rows x 10 columns]"
            ]
          },
          "metadata": {},
          "execution_count": 36
        }
      ]
    },
    {
      "cell_type": "markdown",
      "source": [
        "# **Part-2**\n"
      ],
      "metadata": {
        "id": "KVi3wAkh3GZz"
      }
    },
    {
      "cell_type": "markdown",
      "source": [
        "## **Plots**"
      ],
      "metadata": {
        "id": "wwjwAm2x33AC"
      }
    },
    {
      "cell_type": "markdown",
      "source": [
        "* **def assign_colour(df):** for consistency of colour scheme [Positive: Green, Neutral: Yellow, Negative: Red]"
      ],
      "metadata": {
        "id": "baGWLlpx1Vk8"
      }
    },
    {
      "cell_type": "code",
      "source": [
        "def assign_colour(df):\n",
        "  col = []\n",
        "  for val in df['Average_Sentiment_Score']:\n",
        "      if val >= 0.25:\n",
        "          col.append('#a6d96a')\n",
        "      elif val <= -0.25:\n",
        "          col.append('#f46d43')\n",
        "      else:\n",
        "          col.append('#ffffbf')\n",
        "  return col"
      ],
      "metadata": {
        "id": "ujL7UQNLyPmh"
      },
      "execution_count": 37,
      "outputs": []
    },
    {
      "cell_type": "markdown",
      "source": [
        "* **Most positive and negative tweetcaption**"
      ],
      "metadata": {
        "id": "Qn6TPi4456Tf"
      }
    },
    {
      "cell_type": "code",
      "source": [
        "sort_df = df.sort_values('Average_Sentiment_Score')\n",
        "min = sort_df.head(1)\n",
        "max = sort_df.tail(1)\n",
        "min_max = min.append(max)\n",
        "min_max"
      ],
      "metadata": {
        "colab": {
          "base_uri": "https://localhost:8080/",
          "height": 314
        },
        "id": "_Bz6U5Sz0Crw",
        "outputId": "482c11c2-a0f6-4374-c95f-cb36d80a67b5"
      },
      "execution_count": 38,
      "outputs": [
        {
          "output_type": "execute_result",
          "data": {
            "text/html": [
              "\n",
              "  <div id=\"df-9680ffad-d628-40d9-aa8a-78f452b25311\">\n",
              "    <div class=\"colab-df-container\">\n",
              "      <div>\n",
              "<style scoped>\n",
              "    .dataframe tbody tr th:only-of-type {\n",
              "        vertical-align: middle;\n",
              "    }\n",
              "\n",
              "    .dataframe tbody tr th {\n",
              "        vertical-align: top;\n",
              "    }\n",
              "\n",
              "    .dataframe thead th {\n",
              "        text-align: right;\n",
              "    }\n",
              "</style>\n",
              "<table border=\"1\" class=\"dataframe\">\n",
              "  <thead>\n",
              "    <tr style=\"text-align: right;\">\n",
              "      <th></th>\n",
              "      <th>Data</th>\n",
              "      <th>Date</th>\n",
              "      <th>Time</th>\n",
              "      <th>tweetcaption</th>\n",
              "      <th>Cleaned_tweetcaption</th>\n",
              "      <th>tweetcaption_length</th>\n",
              "      <th>POS_Tagged</th>\n",
              "      <th>Lemma_tweetcaption</th>\n",
              "      <th>VADER_Neg</th>\n",
              "      <th>VADER_Neu</th>\n",
              "      <th>VADER_Pos</th>\n",
              "      <th>VADER_Compound</th>\n",
              "      <th>VADER_Sentiment</th>\n",
              "      <th>TextBlob_Subjectivity</th>\n",
              "      <th>TextBlob_Polarity</th>\n",
              "      <th>TextBlob_Sentiment</th>\n",
              "      <th>SWN_Score</th>\n",
              "      <th>SWN_Sentiment</th>\n",
              "      <th>Average_Sentiment_Score</th>\n",
              "      <th>Average_Sentiment</th>\n",
              "      <th>Average_sentiment_Value</th>\n",
              "    </tr>\n",
              "  </thead>\n",
              "  <tbody>\n",
              "    <tr>\n",
              "      <th>19694</th>\n",
              "      <td>CapTerror</td>\n",
              "      <td>2020-08-13</td>\n",
              "      <td>8:00:02</td>\n",
              "      <td>Poor Akhand Srinivas murthy Congress MLA Dalit...</td>\n",
              "      <td>poor akhand srinivas murthy congress mla dalit...</td>\n",
              "      <td>2109</td>\n",
              "      <td>[(poor, a), (akhand, n), (srinivas, n), (murth...</td>\n",
              "      <td>poor akhand srinivas murthy congress mla dal...</td>\n",
              "      <td>0.3</td>\n",
              "      <td>0.560</td>\n",
              "      <td>0.140</td>\n",
              "      <td>-0.9956</td>\n",
              "      <td>Negative</td>\n",
              "      <td>0.440278</td>\n",
              "      <td>-0.227778</td>\n",
              "      <td>Neutral</td>\n",
              "      <td>-0.750</td>\n",
              "      <td>Negative</td>\n",
              "      <td>-0.657793</td>\n",
              "      <td>Negative</td>\n",
              "      <td>-1</td>\n",
              "    </tr>\n",
              "    <tr>\n",
              "      <th>13475</th>\n",
              "      <td>sunilchhetri</td>\n",
              "      <td>2020-08-02</td>\n",
              "      <td>22:59:59</td>\n",
              "      <td>HAPPY BIRTHDAY CAPTAIN sunilchhetri lots of lo...</td>\n",
              "      <td>happy birthday captain sunilchhetri lots love ...</td>\n",
              "      <td>824</td>\n",
              "      <td>[(happy, a), (birthday, n), (captain, v), (sun...</td>\n",
              "      <td>happy birthday captain sunilchhetri lot love...</td>\n",
              "      <td>0.0</td>\n",
              "      <td>0.626</td>\n",
              "      <td>0.374</td>\n",
              "      <td>0.9890</td>\n",
              "      <td>Positive</td>\n",
              "      <td>0.658333</td>\n",
              "      <td>0.816667</td>\n",
              "      <td>Positive</td>\n",
              "      <td>0.875</td>\n",
              "      <td>Positive</td>\n",
              "      <td>0.893556</td>\n",
              "      <td>Positive</td>\n",
              "      <td>1</td>\n",
              "    </tr>\n",
              "  </tbody>\n",
              "</table>\n",
              "</div>\n",
              "      <button class=\"colab-df-convert\" onclick=\"convertToInteractive('df-9680ffad-d628-40d9-aa8a-78f452b25311')\"\n",
              "              title=\"Convert this dataframe to an interactive table.\"\n",
              "              style=\"display:none;\">\n",
              "        \n",
              "  <svg xmlns=\"http://www.w3.org/2000/svg\" height=\"24px\"viewBox=\"0 0 24 24\"\n",
              "       width=\"24px\">\n",
              "    <path d=\"M0 0h24v24H0V0z\" fill=\"none\"/>\n",
              "    <path d=\"M18.56 5.44l.94 2.06.94-2.06 2.06-.94-2.06-.94-.94-2.06-.94 2.06-2.06.94zm-11 1L8.5 8.5l.94-2.06 2.06-.94-2.06-.94L8.5 2.5l-.94 2.06-2.06.94zm10 10l.94 2.06.94-2.06 2.06-.94-2.06-.94-.94-2.06-.94 2.06-2.06.94z\"/><path d=\"M17.41 7.96l-1.37-1.37c-.4-.4-.92-.59-1.43-.59-.52 0-1.04.2-1.43.59L10.3 9.45l-7.72 7.72c-.78.78-.78 2.05 0 2.83L4 21.41c.39.39.9.59 1.41.59.51 0 1.02-.2 1.41-.59l7.78-7.78 2.81-2.81c.8-.78.8-2.07 0-2.86zM5.41 20L4 18.59l7.72-7.72 1.47 1.35L5.41 20z\"/>\n",
              "  </svg>\n",
              "      </button>\n",
              "      \n",
              "  <style>\n",
              "    .colab-df-container {\n",
              "      display:flex;\n",
              "      flex-wrap:wrap;\n",
              "      gap: 12px;\n",
              "    }\n",
              "\n",
              "    .colab-df-convert {\n",
              "      background-color: #E8F0FE;\n",
              "      border: none;\n",
              "      border-radius: 50%;\n",
              "      cursor: pointer;\n",
              "      display: none;\n",
              "      fill: #1967D2;\n",
              "      height: 32px;\n",
              "      padding: 0 0 0 0;\n",
              "      width: 32px;\n",
              "    }\n",
              "\n",
              "    .colab-df-convert:hover {\n",
              "      background-color: #E2EBFA;\n",
              "      box-shadow: 0px 1px 2px rgba(60, 64, 67, 0.3), 0px 1px 3px 1px rgba(60, 64, 67, 0.15);\n",
              "      fill: #174EA6;\n",
              "    }\n",
              "\n",
              "    [theme=dark] .colab-df-convert {\n",
              "      background-color: #3B4455;\n",
              "      fill: #D2E3FC;\n",
              "    }\n",
              "\n",
              "    [theme=dark] .colab-df-convert:hover {\n",
              "      background-color: #434B5C;\n",
              "      box-shadow: 0px 1px 3px 1px rgba(0, 0, 0, 0.15);\n",
              "      filter: drop-shadow(0px 1px 2px rgba(0, 0, 0, 0.3));\n",
              "      fill: #FFFFFF;\n",
              "    }\n",
              "  </style>\n",
              "\n",
              "      <script>\n",
              "        const buttonEl =\n",
              "          document.querySelector('#df-9680ffad-d628-40d9-aa8a-78f452b25311 button.colab-df-convert');\n",
              "        buttonEl.style.display =\n",
              "          google.colab.kernel.accessAllowed ? 'block' : 'none';\n",
              "\n",
              "        async function convertToInteractive(key) {\n",
              "          const element = document.querySelector('#df-9680ffad-d628-40d9-aa8a-78f452b25311');\n",
              "          const dataTable =\n",
              "            await google.colab.kernel.invokeFunction('convertToInteractive',\n",
              "                                                     [key], {});\n",
              "          if (!dataTable) return;\n",
              "\n",
              "          const docLinkHtml = 'Like what you see? Visit the ' +\n",
              "            '<a target=\"_blank\" href=https://colab.research.google.com/notebooks/data_table.ipynb>data table notebook</a>'\n",
              "            + ' to learn more about interactive tables.';\n",
              "          element.innerHTML = '';\n",
              "          dataTable['output_type'] = 'display_data';\n",
              "          await google.colab.output.renderOutput(dataTable, element);\n",
              "          const docLink = document.createElement('div');\n",
              "          docLink.innerHTML = docLinkHtml;\n",
              "          element.appendChild(docLink);\n",
              "        }\n",
              "      </script>\n",
              "    </div>\n",
              "  </div>\n",
              "  "
            ],
            "text/plain": [
              "                Data       Date  ... Average_Sentiment Average_sentiment_Value\n",
              "19694      CapTerror 2020-08-13  ...          Negative                      -1\n",
              "13475   sunilchhetri 2020-08-02  ...          Positive                       1\n",
              "\n",
              "[2 rows x 21 columns]"
            ]
          },
          "metadata": {},
          "execution_count": 38
        }
      ]
    },
    {
      "cell_type": "code",
      "source": [
        "print('The most Positive tweetcaption with average score of:', round(min_max.iloc[1,-3], 4), '\\n')\n",
        "min_max.iloc[1, 3]"
      ],
      "metadata": {
        "colab": {
          "base_uri": "https://localhost:8080/",
          "height": 244
        },
        "id": "B1CoAxsI3Mar",
        "outputId": "d3007cf2-7e74-406d-bd89-4f0ad485d5bb"
      },
      "execution_count": 39,
      "outputs": [
        {
          "output_type": "stream",
          "name": "stdout",
          "text": [
            "The most Positive tweetcaption with average score of: 0.8936 \n",
            "\n"
          ]
        },
        {
          "output_type": "execute_result",
          "data": {
            "application/vnd.google.colaboratory.intrinsic+json": {
              "type": "string"
            },
            "text/plain": [
              "'HAPPY BIRTHDAY CAPTAIN sunilchhetri lots of love and best wishes HappyBirthdaySunilChhetri,Happy Birthday legend sunilchhetri,Happy Birthday to King of Indian football happybirthdaysunilchhetri sunilchhetri,Happy Birthday bro SunilChhetri SC11 IndianFootball BackTheBlue BlueTigers CPDFootball,Happy Birthday Captain sunilchhetri,Captain Leader Legend SunilChhetri HappyBirthdayChhetri,Happy Birthday Captain SunilChhetri SunilChetriBirthday Captain IndianFootball,Happy Birthday Captain sunilchhetri hbdsunilchhetri,sunilchhetri Happy birthday Legend sunilchhetri HappyBirthdaySunilChetri,Happy birthday champ You ve been such an inspiration to all you are the best in what you do Keep taking football in India to greater heights Bring us more silverware and moments to cherish CAPTAIN LEADER LEGEND Favourite lt 3 birthday sunilchhetri'"
            ]
          },
          "metadata": {},
          "execution_count": 39
        }
      ]
    },
    {
      "cell_type": "code",
      "source": [
        "print('The most Negative tweetcaption with average score of:', round(min_max.iloc[0,-3], 4), '\\n')\n",
        "min_max.iloc[0, 3]"
      ],
      "metadata": {
        "colab": {
          "base_uri": "https://localhost:8080/",
          "height": 278
        },
        "id": "bV_XTRU524UC",
        "outputId": "113712cd-c847-484d-da1a-3ec3bf1edd47"
      },
      "execution_count": 40,
      "outputs": [
        {
          "output_type": "stream",
          "name": "stdout",
          "text": [
            "The most Negative tweetcaption with average score of: -0.6578 \n",
            "\n"
          ]
        },
        {
          "output_type": "execute_result",
          "data": {
            "application/vnd.google.colaboratory.intrinsic+json": {
              "type": "string"
            },
            "text/plain": [
              "'Poor Akhand Srinivas murthy Congress MLA Dalit champions are mum But they will stand with Kaleem Congress leader who has been arrested for rioting Hypocrisy Ye public ha sab janti ha BengaluruConspiracy CapTerror CongressAgainstDalits CBI4SSR,Muslims should not riot as BJP will use it against them Deranged sharma CBI4SSR CapTerror CongressAgainstDalits TukdeTukdeGang UrbanNaxals KhanMarketGang PakApologists TerrorApologists ChineseAgents opindia com 2020 08 journa via OpIndia com,So you are justifying that talking bad about other religious Gods two years ago is not crime No matter when he posted that Why the hell Muslims post bad about hindu gods That made him to post about Muslims rioters logic bangaloreriots CapTerror,bear Chaudhuri So you are justifying that talking bad about other religious Gods two years ago is not a crime No matter when he posted that Why the hell Muslims post bad about hindu gods That made him to post about Muslims rioters logic bangaloreriots CapTerror,When they abuse our Gods we do online FIRs When someone abuse their God They will vandalize Public Properties They will vandalize MLA s House They will attack Reporters and Innocents Yet WE ARE INTOLERANT CapTerror,1000 People gathered within few minutes with Petrol bomb amp weapons FB Post was just an excuse to show frustration of Ram Mandir SDPI leader Muzamil Pasha has been arrested in connection with violence CapTerror,hindu s house burnt by muslim mob in banglore police stations and thousands of vechiles burnt by mad barbaric mob 3 people died due to violence voilence erupted when a hindu replied to a fb post mentioning objectionable words for shree krishna prabhu CapTerror bangaloreriots,Do burning Police station attacking media persons and forcing shopkeepers to down the shutter promote peace CapTerror,It looks like a well planned and executed terror campaign in Bangalore How a massive mob can mobilize in such a short span of time That too in these Corona times CapTerror,It looks like a well planned and executed terror campaign in Bangalore How a massive mob can mobilize in such a short span of time That too in these Corona times CapTerror'"
            ]
          },
          "metadata": {},
          "execution_count": 40
        }
      ]
    },
    {
      "cell_type": "code",
      "source": [
        "col = assign_colour(min_max)\n",
        "ax = sns.barplot(x = 'Data', y = 'Average_Sentiment_Score', data = min_max, palette=col)\n",
        "ax.set(xlabel='Data', ylabel='Average Sentiment Score', title='Min - Max Sentiment Scores')\n",
        "plt.show();"
      ],
      "metadata": {
        "colab": {
          "base_uri": "https://localhost:8080/",
          "height": 295
        },
        "id": "4_es2U9T2CMb",
        "outputId": "b1dbb035-1bee-4dfe-c828-f304da7877e7"
      },
      "execution_count": 41,
      "outputs": [
        {
          "output_type": "display_data",
          "data": {
            "image/png": "[encoded data removed]",
            "text/plain": [
              "<Figure size 432x288 with 1 Axes>"
            ]
          },
          "metadata": {
            "needs_background": "light"
          }
        }
      ]
    },
    {
      "cell_type": "markdown",
      "source": [
        "* **Plotting daily sentiment scores**"
      ],
      "metadata": {
        "id": "fDCW0SxG2bhT"
      }
    },
    {
      "cell_type": "code",
      "source": [
        "plt.figure(figsize = (15,6))\n",
        "col = assign_colour(daily_df)\n",
        "ax = sns.barplot(x = 'Date-Month', y = 'Average_Sentiment_Score', data = daily_df, palette=col)\n",
        "ax.plot([0, len(daily_df)-1], [0.25, 0.25], linewidth = 2, color = 'black', linestyle=':')\n",
        "ax.set_xticklabels(ax.get_xticklabels(), rotation=90)\n",
        "ax.set(xlabel='Date-Month', ylabel='Average Sentiment Score', title='Daily Sentiment Scores')\n",
        "plt.show();"
      ],
      "metadata": {
        "colab": {
          "base_uri": "https://localhost:8080/",
          "height": 308
        },
        "id": "5K3p2BtpUHBv",
        "outputId": "5325487e-4e13-435c-d2ab-a92fafd3a8c3"
      },
      "execution_count": 42,
      "outputs": [
        {
          "output_type": "display_data",
          "data": {
            "image/png": "[encoded data removed]",
            "text/plain": [
              "<Figure size 1080x432 with 1 Axes>"
            ]
          },
          "metadata": {
            "needs_background": "light"
          }
        }
      ]
    },
    {
      "cell_type": "markdown",
      "source": [
        "* **Most positive and negative daily sentiment scores**"
      ],
      "metadata": {
        "id": "sPSjyaqB6_UR"
      }
    },
    {
      "cell_type": "code",
      "source": [
        "sort_daily = daily_df.sort_values('Average_Sentiment_Score')\n",
        "min_daily = sort_daily.head(1)\n",
        "max_daily = sort_daily.tail(1)\n",
        "min_max_daily = min_daily.append(max_daily)\n",
        "col = assign_colour(min_max_daily)\n",
        "ax = sns.barplot(x = 'Date-Month', y = 'Average_Sentiment_Score', data = min_max_daily, palette=col)\n",
        "ax.set(xlabel='Date-Month', ylabel='Average Sentiment Score', title='Min - Max Daily Sentiment Scores')\n",
        "plt.show();"
      ],
      "metadata": {
        "colab": {
          "base_uri": "https://localhost:8080/",
          "height": 295
        },
        "id": "uiW_VUfmvu_G",
        "outputId": "353845d3-fd9d-4ee8-94c7-2f92e4b4881f"
      },
      "execution_count": 43,
      "outputs": [
        {
          "output_type": "display_data",
          "data": {
            "image/png": "[encoded data removed]",
            "text/plain": [
              "<Figure size 432x288 with 1 Axes>"
            ]
          },
          "metadata": {
            "needs_background": "light"
          }
        }
      ]
    },
    {
      "cell_type": "markdown",
      "source": [
        "* **Plotting weekly sentiment scores**"
      ],
      "metadata": {
        "id": "oKzhC0r423p4"
      }
    },
    {
      "cell_type": "code",
      "source": [
        "plt.figure(figsize = (12,6))\n",
        "col = assign_colour(weekly_df)\n",
        "ax = sns.barplot(x = 'Week', y = 'Average_Sentiment_Score', data = weekly_df, palette=col)\n",
        "ax.set(xlabel='Week', ylabel='Average Sentiment Score', title='Weekly Sentiment Scores')\n",
        "plt.show();"
      ],
      "metadata": {
        "colab": {
          "base_uri": "https://localhost:8080/",
          "height": 352
        },
        "id": "ULa61KnFyhtJ",
        "outputId": "b89a1dac-e49e-4e40-e5bd-f3c007223777"
      },
      "execution_count": 44,
      "outputs": [
        {
          "output_type": "display_data",
          "data": {
            "image/png": "[encoded data removed]",
            "text/plain": [
              "<Figure size 864x432 with 1 Axes>"
            ]
          },
          "metadata": {
            "needs_background": "light"
          }
        }
      ]
    },
    {
      "cell_type": "markdown",
      "source": [
        "* **Plotting monthly sentiment scores**"
      ],
      "metadata": {
        "id": "IDem5xYU27o5"
      }
    },
    {
      "cell_type": "code",
      "source": [
        "plt.figure(figsize = (6,6))\n",
        "col = assign_colour(monthly_df)\n",
        "ax = sns.barplot(x = 'Month-Year', y = 'Average_Sentiment_Score', data = monthly_df, palette = col)\n",
        "ax.set(xlabel='Month-Year', ylabel='Average Sentiment Score', title='Monthly Sentiment Scores')\n",
        "plt.show();"
      ],
      "metadata": {
        "colab": {
          "base_uri": "https://localhost:8080/",
          "height": 404
        },
        "id": "Cw3hmiIdX-UL",
        "outputId": "6100a708-6c33-498b-9843-7000c1529b34"
      },
      "execution_count": 45,
      "outputs": [
        {
          "output_type": "display_data",
          "data": {
            "image/png": "[encoded data removed]",
            "text/plain": [
              "<Figure size 432x432 with 1 Axes>"
            ]
          },
          "metadata": {
            "needs_background": "light"
          }
        }
      ]
    },
    {
      "cell_type": "markdown",
      "source": [
        "* **Plotting day of week sentiment scores** "
      ],
      "metadata": {
        "id": "EAqotJM6RZaY"
      }
    },
    {
      "cell_type": "code",
      "source": [
        "plt.figure(figsize = (12,6))\n",
        "col = assign_colour(day_df)\n",
        "ax = sns.barplot(x = 'Day', y = 'Average_Sentiment_Score', data = day_df, palette=col)\n",
        "ax.set(xlabel='Day', ylabel='Average Sentiment Score', title='Day of Week Sentiment Scores')\n",
        "plt.show();"
      ],
      "metadata": {
        "id": "Fg7PREzXQxyN",
        "colab": {
          "base_uri": "https://localhost:8080/",
          "height": 352
        },
        "outputId": "65e1c982-5986-404d-b4d0-c0175974678a"
      },
      "execution_count": 46,
      "outputs": [
        {
          "output_type": "display_data",
          "data": {
            "image/png": "[encoded data removed]",
            "text/plain": [
              "<Figure size 864x432 with 1 Axes>"
            ]
          },
          "metadata": {
            "needs_background": "light"
          }
        }
      ]
    },
    {
      "cell_type": "markdown",
      "source": [
        "**Dividing day into four quaters:**\n",
        "* **Morning:** 6AM to 12 Noon\n",
        "* **Afternoon:** 12 Noon to 6PM\n",
        "* **Evening:** 6PM to 12 Midnight\n",
        "* **Night:** 12 Midnight to 6AM\n",
        "\n"
      ],
      "metadata": {
        "id": "Gn74Cebsl1cJ"
      }
    },
    {
      "cell_type": "code",
      "source": [
        "for i in range(len(df)):\n",
        "  df['Time'][i] = datetime.datetime.strptime(df['Time'][i], '%H:%M:%S').time()\n",
        "morning_df = df.loc[(df['Time'] >= datetime.datetime.strptime('06:00:00', '%H:%M:%S').time()) & (df['Time'] <= datetime.datetime.strptime('11:59:59', '%H:%M:%S').time())]\n",
        "afternoon_df = df.loc[(df['Time'] >= datetime.datetime.strptime('12:00:00', '%H:%M:%S').time()) & (df['Time'] <= datetime.datetime.strptime('17:59:59', '%H:%M:%S').time())]\n",
        "evening_df = df.loc[(df['Time'] >= datetime.datetime.strptime('18:00:00', '%H:%M:%S').time()) & (df['Time'] <= datetime.datetime.strptime('23:59:59', '%H:%M:%S').time())]\n",
        "night_df = df.loc[(df['Time'] >= datetime.datetime.strptime('00:00:00', '%H:%M:%S').time()) & (df['Time'] <= datetime.datetime.strptime('05:59:59', '%H:%M:%S').time())]"
      ],
      "metadata": {
        "id": "ERkyvmebOs_K"
      },
      "execution_count": 47,
      "outputs": []
    },
    {
      "cell_type": "markdown",
      "source": [
        "* **Plotting morning sentiment scores**"
      ],
      "metadata": {
        "id": "0HW1bT3wmgSn"
      }
    },
    {
      "cell_type": "code",
      "source": [
        "morning_df['Average_Sentiment'].value_counts()"
      ],
      "metadata": {
        "colab": {
          "base_uri": "https://localhost:8080/"
        },
        "id": "NSgOmAuBheX0",
        "outputId": "01b00a5a-b904-43f9-c819-69f0cdc183f0"
      },
      "execution_count": 48,
      "outputs": [
        {
          "output_type": "execute_result",
          "data": {
            "text/plain": [
              "Positive    6692\n",
              "Negative    1474\n",
              "Neutral      770\n",
              "Name: Average_Sentiment, dtype: int64"
            ]
          },
          "metadata": {},
          "execution_count": 48
        }
      ]
    },
    {
      "cell_type": "code",
      "source": [
        "ax = sns.countplot(x = 'Average_Sentiment', data = morning_df, order = ['Negative','Neutral','Positive'], palette = 'RdYlGn')\n",
        "ax.set(xlabel='Average Sentiment', ylabel='Count', title='Morning (6AM to 12 Noon) Sentiment')\n",
        "plt.show();"
      ],
      "metadata": {
        "colab": {
          "base_uri": "https://localhost:8080/",
          "height": 295
        },
        "id": "VB6bYzIlhI5b",
        "outputId": "0a33aeab-ee1c-4592-97fa-a4647f447b3a"
      },
      "execution_count": 49,
      "outputs": [
        {
          "output_type": "display_data",
          "data": {
            "image/png": "[encoded data removed]",
            "text/plain": [
              "<Figure size 432x288 with 1 Axes>"
            ]
          },
          "metadata": {
            "needs_background": "light"
          }
        }
      ]
    },
    {
      "cell_type": "markdown",
      "source": [
        "* **Plotting afternoon sentiment scores**"
      ],
      "metadata": {
        "id": "XTEOtDyamjzt"
      }
    },
    {
      "cell_type": "code",
      "source": [
        "afternoon_df['Average_Sentiment'].value_counts()"
      ],
      "metadata": {
        "colab": {
          "base_uri": "https://localhost:8080/"
        },
        "id": "8ZLI5FBLho2y",
        "outputId": "8092b284-b731-44e2-bf6c-b5790eb37d95"
      },
      "execution_count": 50,
      "outputs": [
        {
          "output_type": "execute_result",
          "data": {
            "text/plain": [
              "Positive    6762\n",
              "Negative    1599\n",
              "Neutral      884\n",
              "Name: Average_Sentiment, dtype: int64"
            ]
          },
          "metadata": {},
          "execution_count": 50
        }
      ]
    },
    {
      "cell_type": "code",
      "source": [
        "ax = sns.countplot(x = 'Average_Sentiment', data = afternoon_df, order = ['Negative','Neutral','Positive'], palette = 'RdYlGn')\n",
        "ax.set(xlabel='Average Sentiment', ylabel='Count', title='Afternoon (12 Noon to 6PM) Sentiment')\n",
        "plt.show();"
      ],
      "metadata": {
        "colab": {
          "base_uri": "https://localhost:8080/",
          "height": 295
        },
        "id": "C3Xi3ccnhLyE",
        "outputId": "a51cef30-da42-4cf4-a7b1-db937a06ca86"
      },
      "execution_count": 51,
      "outputs": [
        {
          "output_type": "display_data",
          "data": {
            "image/png": "[encoded data removed]",
            "text/plain": [
              "<Figure size 432x288 with 1 Axes>"
            ]
          },
          "metadata": {
            "needs_background": "light"
          }
        }
      ]
    },
    {
      "cell_type": "markdown",
      "source": [
        "* **Plotting evening sentiment scores**"
      ],
      "metadata": {
        "id": "IVpuS4dAmm2l"
      }
    },
    {
      "cell_type": "code",
      "source": [
        "evening_df['Average_Sentiment'].value_counts()"
      ],
      "metadata": {
        "colab": {
          "base_uri": "https://localhost:8080/"
        },
        "id": "tSm-iv5Pht8m",
        "outputId": "9990d9bb-7b14-4bb7-ce5e-9119031ac318"
      },
      "execution_count": 52,
      "outputs": [
        {
          "output_type": "execute_result",
          "data": {
            "text/plain": [
              "Positive    5818\n",
              "Negative    1486\n",
              "Neutral      780\n",
              "Name: Average_Sentiment, dtype: int64"
            ]
          },
          "metadata": {},
          "execution_count": 52
        }
      ]
    },
    {
      "cell_type": "code",
      "source": [
        "ax = sns.countplot(x = 'Average_Sentiment', data = evening_df, order = ['Negative','Neutral','Positive'], palette = 'RdYlGn')\n",
        "ax.set(xlabel='Average Sentiment', ylabel='Count', title='Evening (6PM to 12 Midnight) Sentiment')\n",
        "plt.show();"
      ],
      "metadata": {
        "colab": {
          "base_uri": "https://localhost:8080/",
          "height": 295
        },
        "id": "J5mt7jOwhMCL",
        "outputId": "a3b2ca0e-c34b-4791-9455-728e6ced5a6e"
      },
      "execution_count": 53,
      "outputs": [
        {
          "output_type": "display_data",
          "data": {
            "image/png": "[encoded data removed]",
            "text/plain": [
              "<Figure size 432x288 with 1 Axes>"
            ]
          },
          "metadata": {
            "needs_background": "light"
          }
        }
      ]
    },
    {
      "cell_type": "markdown",
      "source": [
        "* **Plotting night sentiment scores**"
      ],
      "metadata": {
        "id": "DPrdbJ7Qmpro"
      }
    },
    {
      "cell_type": "code",
      "source": [
        "night_df['Average_Sentiment'].value_counts()"
      ],
      "metadata": {
        "colab": {
          "base_uri": "https://localhost:8080/"
        },
        "id": "lKvw23I0hxfa",
        "outputId": "044f6e82-33c1-461e-f9b2-bad0a8ce1fa6"
      },
      "execution_count": 54,
      "outputs": [
        {
          "output_type": "execute_result",
          "data": {
            "text/plain": [
              "Positive    6530\n",
              "Negative    1649\n",
              "Neutral      822\n",
              "Name: Average_Sentiment, dtype: int64"
            ]
          },
          "metadata": {},
          "execution_count": 54
        }
      ]
    },
    {
      "cell_type": "code",
      "source": [
        "ax = sns.countplot(x = 'Average_Sentiment', data = night_df, order = ['Negative','Neutral','Positive'], palette = 'RdYlGn')\n",
        "ax.set(xlabel='Average Sentiment', ylabel='Count', title='Night (12 Midnight to 6AM) Sentiment')\n",
        "plt.show();"
      ],
      "metadata": {
        "colab": {
          "base_uri": "https://localhost:8080/",
          "height": 295
        },
        "id": "4SPVmXE3hMSl",
        "outputId": "5befa55c-b033-4ce3-8afb-46b934e84a33"
      },
      "execution_count": 55,
      "outputs": [
        {
          "output_type": "display_data",
          "data": {
            "image/png": "[encoded data removed]",
            "text/plain": [
              "<Figure size 432x288 with 1 Axes>"
            ]
          },
          "metadata": {
            "needs_background": "light"
          }
        }
      ]
    }
  ]
}