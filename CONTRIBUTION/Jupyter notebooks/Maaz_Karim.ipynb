{
 "cells": [
  {
   "cell_type": "markdown",
   "id": "8a7439a8",
   "metadata": {},
   "source": [
    "### Part 1"
   ]
  },
  {
   "cell_type": "markdown",
   "id": "f1787e32",
   "metadata": {},
   "source": [
    "# Imports"
   ]
  },
  {
   "cell_type": "code",
   "execution_count": 1,
   "id": "4e33b1d1",
   "metadata": {},
   "outputs": [
    {
     "name": "stderr",
     "output_type": "stream",
     "text": [
      "[nltk_data] Downloading package stopwords to C:\\Users\\Maaz\n",
      "[nltk_data]     Karim\\AppData\\Roaming\\nltk_data...\n",
      "[nltk_data]   Package stopwords is already up-to-date!\n"
     ]
    }
   ],
   "source": [
    "import re   #Regular Expression\n",
    "import matplotlib.pyplot as plt\n",
    "import pandas as pd   #Pandas to Handle Data\n",
    "import numpy as np     \n",
    "import nltk    #Natural Language ToolKit for Tokenizing  Word\n",
    "from nltk.tokenize import word_tokenize\n",
    "from nltk.corpus import stopwords # Helps to remove common words such as pronouns and adjective to clean out data\n",
    "nltk.download('stopwords')\n",
    "from tqdm import tqdm #Importing tqdm to track progress"
   ]
  },
  {
   "cell_type": "markdown",
   "id": "2345f183",
   "metadata": {},
   "source": [
    "# Handling the dataset"
   ]
  },
  {
   "cell_type": "markdown",
   "id": "dd84738e",
   "metadata": {},
   "source": [
    "Here is How I handle Data for this dataset\n"
   ]
  },
  {
   "cell_type": "code",
   "execution_count": 2,
   "id": "26ee425d",
   "metadata": {},
   "outputs": [
    {
     "data": {
      "text/html": [
       "<div>\n",
       "<style scoped>\n",
       "    .dataframe tbody tr th:only-of-type {\n",
       "        vertical-align: middle;\n",
       "    }\n",
       "\n",
       "    .dataframe tbody tr th {\n",
       "        vertical-align: top;\n",
       "    }\n",
       "\n",
       "    .dataframe thead th {\n",
       "        text-align: right;\n",
       "    }\n",
       "</style>\n",
       "<table border=\"1\" class=\"dataframe\">\n",
       "  <thead>\n",
       "    <tr style=\"text-align: right;\">\n",
       "      <th></th>\n",
       "      <th>Data</th>\n",
       "      <th>Date</th>\n",
       "      <th>Time</th>\n",
       "      <th>tweet0</th>\n",
       "      <th>tweet1</th>\n",
       "      <th>tweet2</th>\n",
       "      <th>tweet3</th>\n",
       "      <th>tweet4</th>\n",
       "      <th>tweet5</th>\n",
       "      <th>tweet6</th>\n",
       "      <th>tweet7</th>\n",
       "      <th>tweet8</th>\n",
       "      <th>tweet9</th>\n",
       "    </tr>\n",
       "  </thead>\n",
       "  <tbody>\n",
       "    <tr>\n",
       "      <th>0</th>\n",
       "      <td>tuesdayvibes</td>\n",
       "      <td>7/14/2020</td>\n",
       "      <td>7:00:21</td>\n",
       "      <td>Love it here vacation vibes amazing beautiful ...</td>\n",
       "      <td>That looks so good tuesdayvibes tacotuesday</td>\n",
       "      <td>LIVE NOW TUESDAY NIGHT KPOP W Unreal NOW OHIO ...</td>\n",
       "      <td>My damn followers haven t moved in weeks I m g...</td>\n",
       "      <td>Common sense is not that common You can t coun...</td>\n",
       "      <td>Just landing naturephotography nature Travel t...</td>\n",
       "      <td>LIVE NOW TUESDAY NIGHT KPOP W Unreal NOW SUMME...</td>\n",
       "      <td>Involuntary manslaughter is distinguished from...</td>\n",
       "      <td>How was your day keepgoing throughitall carryo...</td>\n",
       "      <td>Happy scrolls down on the notification bar to ...</td>\n",
       "    </tr>\n",
       "    <tr>\n",
       "      <th>1</th>\n",
       "      <td>realmeC11</td>\n",
       "      <td>7/14/2020</td>\n",
       "      <td>7:00:21</td>\n",
       "      <td>Best Camera Smartphone under 20k Please vote a...</td>\n",
       "      <td>2 features in highlight realmeC11 in the realm...</td>\n",
       "      <td>realmeC11 Bigger battery and larger display</td>\n",
       "      <td>1 It is backed by a bigger 5000 mAh battery 2 ...</td>\n",
       "      <td>1 Bigger Battery 5000mAh Massive Battery 2 Lar...</td>\n",
       "      <td>4th phone under Realme C series RealmeC11</td>\n",
       "      <td>Hey its high time to release new watch faces f...</td>\n",
       "      <td>The new entry of the realme C series boasts a ...</td>\n",
       "      <td>realmeC11 Price is too much bro realmeC11 ki M...</td>\n",
       "      <td>The new entry to the realme C series boasts a ...</td>\n",
       "    </tr>\n",
       "    <tr>\n",
       "      <th>2</th>\n",
       "      <td>KPSharmaOli</td>\n",
       "      <td>7/14/2020</td>\n",
       "      <td>7:00:21</td>\n",
       "      <td>shree Why should we have a problem with the pe...</td>\n",
       "      <td>It s really insulting that Nepal PM has said w...</td>\n",
       "      <td>We always loved amp respect India but see what...</td>\n",
       "      <td>This is it Ayodhya KPSharmaOli</td>\n",
       "      <td>Watch Gravitas Nepal KP Sharma Oli s desperate...</td>\n",
       "      <td>is minting money and making foolish to innocen...</td>\n",
       "      <td>diya That means all well doing nepalese immigr...</td>\n",
       "      <td>st No make sense how about Pakistani Maybe you...</td>\n",
       "      <td>Intelligent PM Bought 6 Chinese planes that Dh...</td>\n",
       "      <td>st India offered Nepal to access port with fre...</td>\n",
       "    </tr>\n",
       "    <tr>\n",
       "      <th>3</th>\n",
       "      <td>RheaChakraborty</td>\n",
       "      <td>7/14/2020</td>\n",
       "      <td>7:00:21</td>\n",
       "      <td>Rhea Chakraborty s Heartbreaking Post On Susha...</td>\n",
       "      <td>Trending Entertainment News Today Rhea Chakrab...</td>\n",
       "      <td>Trending Entertainment News Today Rhea Chakrab...</td>\n",
       "      <td>Rhea Chakraborty breaks her silence on Sushant...</td>\n",
       "      <td>Support your bravery we are with you amp we wo...</td>\n",
       "      <td>Rhea Chakraborty pens an emotional note on los...</td>\n",
       "      <td>Newswrap July 14 Rhea s note for Sushant Singh...</td>\n",
       "      <td>Rhea Chakraborty s heartfelt post for Sushant ...</td>\n",
       "      <td>SushantSinghRajput No amount of PR of Rhea Cha...</td>\n",
       "      <td>Why r u silent if u really loves him then why ...</td>\n",
       "    </tr>\n",
       "    <tr>\n",
       "      <th>4</th>\n",
       "      <td>Stop_Transfer_Sunita_Yadav</td>\n",
       "      <td>7/14/2020</td>\n",
       "      <td>7:00:21</td>\n",
       "      <td>We stand for Sunita Yadav Stop the Transfer Wh...</td>\n",
       "      <td>CM of Gujrat set an example punish MLA not the...</td>\n",
       "      <td>I proud of you madam Stop Transfer Sunita Yadav</td>\n",
       "      <td>Thank u so much for ur valuable information Od...</td>\n",
       "      <td>I support Stop Transfer Sunita Yadav SunitaYad...</td>\n",
       "      <td>Stop Transfer Sunita Yadav We stand with U i s...</td>\n",
       "      <td>yadav 0 SunitaYadav stop transfer</td>\n",
       "      <td>hope it was passion to do than slogging for a ...</td>\n",
       "      <td>Stop Transfer Sunita Yadav if you tell truth u...</td>\n",
       "      <td>Immediate transfer of an employee after such e...</td>\n",
       "    </tr>\n",
       "  </tbody>\n",
       "</table>\n",
       "</div>"
      ],
      "text/plain": [
       "                          Data       Date     Time  \\\n",
       "0                 tuesdayvibes  7/14/2020  7:00:21   \n",
       "1                    realmeC11  7/14/2020  7:00:21   \n",
       "2                  KPSharmaOli  7/14/2020  7:00:21   \n",
       "3              RheaChakraborty  7/14/2020  7:00:21   \n",
       "4   Stop_Transfer_Sunita_Yadav  7/14/2020  7:00:21   \n",
       "\n",
       "                                              tweet0  \\\n",
       "0  Love it here vacation vibes amazing beautiful ...   \n",
       "1  Best Camera Smartphone under 20k Please vote a...   \n",
       "2  shree Why should we have a problem with the pe...   \n",
       "3  Rhea Chakraborty s Heartbreaking Post On Susha...   \n",
       "4  We stand for Sunita Yadav Stop the Transfer Wh...   \n",
       "\n",
       "                                              tweet1  \\\n",
       "0        That looks so good tuesdayvibes tacotuesday   \n",
       "1  2 features in highlight realmeC11 in the realm...   \n",
       "2  It s really insulting that Nepal PM has said w...   \n",
       "3  Trending Entertainment News Today Rhea Chakrab...   \n",
       "4  CM of Gujrat set an example punish MLA not the...   \n",
       "\n",
       "                                              tweet2  \\\n",
       "0  LIVE NOW TUESDAY NIGHT KPOP W Unreal NOW OHIO ...   \n",
       "1        realmeC11 Bigger battery and larger display   \n",
       "2  We always loved amp respect India but see what...   \n",
       "3  Trending Entertainment News Today Rhea Chakrab...   \n",
       "4    I proud of you madam Stop Transfer Sunita Yadav   \n",
       "\n",
       "                                              tweet3  \\\n",
       "0  My damn followers haven t moved in weeks I m g...   \n",
       "1  1 It is backed by a bigger 5000 mAh battery 2 ...   \n",
       "2                     This is it Ayodhya KPSharmaOli   \n",
       "3  Rhea Chakraborty breaks her silence on Sushant...   \n",
       "4  Thank u so much for ur valuable information Od...   \n",
       "\n",
       "                                              tweet4  \\\n",
       "0  Common sense is not that common You can t coun...   \n",
       "1  1 Bigger Battery 5000mAh Massive Battery 2 Lar...   \n",
       "2  Watch Gravitas Nepal KP Sharma Oli s desperate...   \n",
       "3  Support your bravery we are with you amp we wo...   \n",
       "4  I support Stop Transfer Sunita Yadav SunitaYad...   \n",
       "\n",
       "                                              tweet5  \\\n",
       "0  Just landing naturephotography nature Travel t...   \n",
       "1          4th phone under Realme C series RealmeC11   \n",
       "2  is minting money and making foolish to innocen...   \n",
       "3  Rhea Chakraborty pens an emotional note on los...   \n",
       "4  Stop Transfer Sunita Yadav We stand with U i s...   \n",
       "\n",
       "                                              tweet6  \\\n",
       "0  LIVE NOW TUESDAY NIGHT KPOP W Unreal NOW SUMME...   \n",
       "1  Hey its high time to release new watch faces f...   \n",
       "2  diya That means all well doing nepalese immigr...   \n",
       "3  Newswrap July 14 Rhea s note for Sushant Singh...   \n",
       "4                  yadav 0 SunitaYadav stop transfer   \n",
       "\n",
       "                                              tweet7  \\\n",
       "0  Involuntary manslaughter is distinguished from...   \n",
       "1  The new entry of the realme C series boasts a ...   \n",
       "2  st No make sense how about Pakistani Maybe you...   \n",
       "3  Rhea Chakraborty s heartfelt post for Sushant ...   \n",
       "4  hope it was passion to do than slogging for a ...   \n",
       "\n",
       "                                              tweet8  \\\n",
       "0  How was your day keepgoing throughitall carryo...   \n",
       "1  realmeC11 Price is too much bro realmeC11 ki M...   \n",
       "2  Intelligent PM Bought 6 Chinese planes that Dh...   \n",
       "3  SushantSinghRajput No amount of PR of Rhea Cha...   \n",
       "4  Stop Transfer Sunita Yadav if you tell truth u...   \n",
       "\n",
       "                                              tweet9  \n",
       "0  Happy scrolls down on the notification bar to ...  \n",
       "1  The new entry to the realme C series boasts a ...  \n",
       "2  st India offered Nepal to access port with fre...  \n",
       "3  Why r u silent if u really loves him then why ...  \n",
       "4  Immediate transfer of an employee after such e...  "
      ]
     },
     "execution_count": 2,
     "metadata": {},
     "output_type": "execute_result"
    }
   ],
   "source": [
    "data=pd.read_csv(\"C:/Users/Maaz Karim/datasets/datasets/datasetV3.csv\")\n",
    "data.head()"
   ]
  },
  {
   "cell_type": "markdown",
   "id": "0472df26",
   "metadata": {},
   "source": [
    "Here we can see that we have a number of trending topics with 10 tweets.\n"
   ]
  },
  {
   "cell_type": "markdown",
   "id": "2101ffca",
   "metadata": {},
   "source": [
    "Now let us pre-process the data by removing StopWords."
   ]
  },
  {
   "cell_type": "code",
   "execution_count": 3,
   "id": "93aaa365",
   "metadata": {},
   "outputs": [],
   "source": [
    "swe_nltk=stopwords.words('english') #Saving all stopwords into a python list"
   ]
  },
  {
   "cell_type": "code",
   "execution_count": 4,
   "id": "9eed9962",
   "metadata": {},
   "outputs": [],
   "source": [
    "df=pd.DataFrame(data)   #Converting data into a DataFrame"
   ]
  },
  {
   "cell_type": "code",
   "execution_count": 5,
   "id": "d4c2cdbb",
   "metadata": {},
   "outputs": [],
   "source": [
    "for i in range(df.shape[0]):\n",
    "    for j in range(9):\n",
    "        text=str(df.loc[i,str('tweet'+str(j))])\n",
    "        words = [word for word in text.split() if word.lower() not in swe_nltk]\n",
    "        new_text = \" \".join(words)\n",
    "        \n",
    "        df.loc[i,str('tweet'+str(j))]=new_text"
   ]
  },
  {
   "cell_type": "code",
   "execution_count": 6,
   "id": "c877e0a2",
   "metadata": {},
   "outputs": [
    {
     "data": {
      "text/html": [
       "<div>\n",
       "<style scoped>\n",
       "    .dataframe tbody tr th:only-of-type {\n",
       "        vertical-align: middle;\n",
       "    }\n",
       "\n",
       "    .dataframe tbody tr th {\n",
       "        vertical-align: top;\n",
       "    }\n",
       "\n",
       "    .dataframe thead th {\n",
       "        text-align: right;\n",
       "    }\n",
       "</style>\n",
       "<table border=\"1\" class=\"dataframe\">\n",
       "  <thead>\n",
       "    <tr style=\"text-align: right;\">\n",
       "      <th></th>\n",
       "      <th>Data</th>\n",
       "      <th>Date</th>\n",
       "      <th>Time</th>\n",
       "      <th>tweet0</th>\n",
       "      <th>tweet1</th>\n",
       "      <th>tweet2</th>\n",
       "      <th>tweet3</th>\n",
       "      <th>tweet4</th>\n",
       "      <th>tweet5</th>\n",
       "      <th>tweet6</th>\n",
       "      <th>tweet7</th>\n",
       "      <th>tweet8</th>\n",
       "      <th>tweet9</th>\n",
       "    </tr>\n",
       "  </thead>\n",
       "  <tbody>\n",
       "    <tr>\n",
       "      <th>0</th>\n",
       "      <td>tuesdayvibes</td>\n",
       "      <td>7/14/2020</td>\n",
       "      <td>7:00:21</td>\n",
       "      <td>Love vacation vibes amazing beautiful cabo mex...</td>\n",
       "      <td>looks good tuesdayvibes tacotuesday</td>\n",
       "      <td>LIVE TUESDAY NIGHT KPOP W Unreal OHIO tuesdayv...</td>\n",
       "      <td>damn followers moved weeks getting 50 60 day l...</td>\n",
       "      <td>Common sense common count Unfortunately presen...</td>\n",
       "      <td>landing naturephotography nature Travel travel...</td>\n",
       "      <td>LIVE TUESDAY NIGHT KPOP W Unreal SUMMER BREEZE...</td>\n",
       "      <td>Involuntary manslaughter distinguished forms h...</td>\n",
       "      <td>day keepgoing throughitall carryon TuesdayMoti...</td>\n",
       "      <td>Happy scrolls down on the notification bar to ...</td>\n",
       "    </tr>\n",
       "    <tr>\n",
       "      <th>1</th>\n",
       "      <td>realmeC11</td>\n",
       "      <td>7/14/2020</td>\n",
       "      <td>7:00:21</td>\n",
       "      <td>Best Camera Smartphone 20k Please vote help re...</td>\n",
       "      <td>2 features highlight realmeC11 realme C Series...</td>\n",
       "      <td>realmeC11 Bigger battery larger display</td>\n",
       "      <td>1 backed bigger 5000 mAh battery 2 aspect rati...</td>\n",
       "      <td>1 Bigger Battery 5000mAh Massive Battery 2 Lar...</td>\n",
       "      <td>4th phone Realme C series RealmeC11</td>\n",
       "      <td>Hey high time release new watch faces realmeba...</td>\n",
       "      <td>new entry realme C series boasts 5000mah Batte...</td>\n",
       "      <td>realmeC11 Price much bro realmeC11 ki Memu Gue...</td>\n",
       "      <td>The new entry to the realme C series boasts a ...</td>\n",
       "    </tr>\n",
       "    <tr>\n",
       "      <th>2</th>\n",
       "      <td>KPSharmaOli</td>\n",
       "      <td>7/14/2020</td>\n",
       "      <td>7:00:21</td>\n",
       "      <td>shree problem people problem Stupid Communist ...</td>\n",
       "      <td>really insulting Nepal PM said knows birth lor...</td>\n",
       "      <td>always loved amp respect India see media gover...</td>\n",
       "      <td>Ayodhya KPSharmaOli</td>\n",
       "      <td>Watch Gravitas Nepal KP Sharma Oli desperate b...</td>\n",
       "      <td>minting money making foolish innocent Nepali N...</td>\n",
       "      <td>diya means well nepalese immigrate India well ...</td>\n",
       "      <td>st make sense Pakistani Maybe treated brothers...</td>\n",
       "      <td>Intelligent PM Bought 6 Chinese planes Dhaka r...</td>\n",
       "      <td>st India offered Nepal to access port with fre...</td>\n",
       "    </tr>\n",
       "    <tr>\n",
       "      <th>3</th>\n",
       "      <td>RheaChakraborty</td>\n",
       "      <td>7/14/2020</td>\n",
       "      <td>7:00:21</td>\n",
       "      <td>Rhea Chakraborty Heartbreaking Post Sushant Si...</td>\n",
       "      <td>Trending Entertainment News Today Rhea Chakrab...</td>\n",
       "      <td>Trending Entertainment News Today Rhea Chakrab...</td>\n",
       "      <td>Rhea Chakraborty breaks silence Sushant Singh ...</td>\n",
       "      <td>Support bravery amp stop justice given Sushant...</td>\n",
       "      <td>Rhea Chakraborty pens emotional note losing Su...</td>\n",
       "      <td>Newswrap July 14 Rhea note Sushant Singh Rajpu...</td>\n",
       "      <td>Rhea Chakraborty heartfelt post Sushant Singh ...</td>\n",
       "      <td>SushantSinghRajput amount PR Rhea Chakraborty ...</td>\n",
       "      <td>Why r u silent if u really loves him then why ...</td>\n",
       "    </tr>\n",
       "    <tr>\n",
       "      <th>4</th>\n",
       "      <td>Stop_Transfer_Sunita_Yadav</td>\n",
       "      <td>7/14/2020</td>\n",
       "      <td>7:00:21</td>\n",
       "      <td>stand Sunita Yadav Stop Transfer women empower...</td>\n",
       "      <td>CM Gujrat set example punish MLA lady cop Stop...</td>\n",
       "      <td>proud madam Stop Transfer Sunita Yadav</td>\n",
       "      <td>Thank u much ur valuable information OdishaFig...</td>\n",
       "      <td>support Stop Transfer Sunita Yadav SunitaYadav...</td>\n",
       "      <td>Stop Transfer Sunita Yadav stand U support sun...</td>\n",
       "      <td>yadav 0 SunitaYadav stop transfer</td>\n",
       "      <td>hope passion slogging secured job retire sugge...</td>\n",
       "      <td>Stop Transfer Sunita Yadav tell truth u vl jai...</td>\n",
       "      <td>Immediate transfer of an employee after such e...</td>\n",
       "    </tr>\n",
       "  </tbody>\n",
       "</table>\n",
       "</div>"
      ],
      "text/plain": [
       "                          Data       Date     Time  \\\n",
       "0                 tuesdayvibes  7/14/2020  7:00:21   \n",
       "1                    realmeC11  7/14/2020  7:00:21   \n",
       "2                  KPSharmaOli  7/14/2020  7:00:21   \n",
       "3              RheaChakraborty  7/14/2020  7:00:21   \n",
       "4   Stop_Transfer_Sunita_Yadav  7/14/2020  7:00:21   \n",
       "\n",
       "                                              tweet0  \\\n",
       "0  Love vacation vibes amazing beautiful cabo mex...   \n",
       "1  Best Camera Smartphone 20k Please vote help re...   \n",
       "2  shree problem people problem Stupid Communist ...   \n",
       "3  Rhea Chakraborty Heartbreaking Post Sushant Si...   \n",
       "4  stand Sunita Yadav Stop Transfer women empower...   \n",
       "\n",
       "                                              tweet1  \\\n",
       "0                looks good tuesdayvibes tacotuesday   \n",
       "1  2 features highlight realmeC11 realme C Series...   \n",
       "2  really insulting Nepal PM said knows birth lor...   \n",
       "3  Trending Entertainment News Today Rhea Chakrab...   \n",
       "4  CM Gujrat set example punish MLA lady cop Stop...   \n",
       "\n",
       "                                              tweet2  \\\n",
       "0  LIVE TUESDAY NIGHT KPOP W Unreal OHIO tuesdayv...   \n",
       "1            realmeC11 Bigger battery larger display   \n",
       "2  always loved amp respect India see media gover...   \n",
       "3  Trending Entertainment News Today Rhea Chakrab...   \n",
       "4             proud madam Stop Transfer Sunita Yadav   \n",
       "\n",
       "                                              tweet3  \\\n",
       "0  damn followers moved weeks getting 50 60 day l...   \n",
       "1  1 backed bigger 5000 mAh battery 2 aspect rati...   \n",
       "2                                Ayodhya KPSharmaOli   \n",
       "3  Rhea Chakraborty breaks silence Sushant Singh ...   \n",
       "4  Thank u much ur valuable information OdishaFig...   \n",
       "\n",
       "                                              tweet4  \\\n",
       "0  Common sense common count Unfortunately presen...   \n",
       "1  1 Bigger Battery 5000mAh Massive Battery 2 Lar...   \n",
       "2  Watch Gravitas Nepal KP Sharma Oli desperate b...   \n",
       "3  Support bravery amp stop justice given Sushant...   \n",
       "4  support Stop Transfer Sunita Yadav SunitaYadav...   \n",
       "\n",
       "                                              tweet5  \\\n",
       "0  landing naturephotography nature Travel travel...   \n",
       "1                4th phone Realme C series RealmeC11   \n",
       "2  minting money making foolish innocent Nepali N...   \n",
       "3  Rhea Chakraborty pens emotional note losing Su...   \n",
       "4  Stop Transfer Sunita Yadav stand U support sun...   \n",
       "\n",
       "                                              tweet6  \\\n",
       "0  LIVE TUESDAY NIGHT KPOP W Unreal SUMMER BREEZE...   \n",
       "1  Hey high time release new watch faces realmeba...   \n",
       "2  diya means well nepalese immigrate India well ...   \n",
       "3  Newswrap July 14 Rhea note Sushant Singh Rajpu...   \n",
       "4                  yadav 0 SunitaYadav stop transfer   \n",
       "\n",
       "                                              tweet7  \\\n",
       "0  Involuntary manslaughter distinguished forms h...   \n",
       "1  new entry realme C series boasts 5000mah Batte...   \n",
       "2  st make sense Pakistani Maybe treated brothers...   \n",
       "3  Rhea Chakraborty heartfelt post Sushant Singh ...   \n",
       "4  hope passion slogging secured job retire sugge...   \n",
       "\n",
       "                                              tweet8  \\\n",
       "0  day keepgoing throughitall carryon TuesdayMoti...   \n",
       "1  realmeC11 Price much bro realmeC11 ki Memu Gue...   \n",
       "2  Intelligent PM Bought 6 Chinese planes Dhaka r...   \n",
       "3  SushantSinghRajput amount PR Rhea Chakraborty ...   \n",
       "4  Stop Transfer Sunita Yadav tell truth u vl jai...   \n",
       "\n",
       "                                              tweet9  \n",
       "0  Happy scrolls down on the notification bar to ...  \n",
       "1  The new entry to the realme C series boasts a ...  \n",
       "2  st India offered Nepal to access port with fre...  \n",
       "3  Why r u silent if u really loves him then why ...  \n",
       "4  Immediate transfer of an employee after such e...  "
      ]
     },
     "execution_count": 6,
     "metadata": {},
     "output_type": "execute_result"
    }
   ],
   "source": [
    "df.head()"
   ]
  },
  {
   "cell_type": "markdown",
   "id": "5f21b34d",
   "metadata": {},
   "source": [
    "Now We can see stopwords has been removed."
   ]
  },
  {
   "cell_type": "markdown",
   "id": "3d76e698",
   "metadata": {},
   "source": [
    "# Building functions "
   ]
  },
  {
   "cell_type": "code",
   "execution_count": 7,
   "id": "ed264951",
   "metadata": {},
   "outputs": [
    {
     "name": "stdout",
     "output_type": "stream",
     "text": [
      "Looking in links: https://download.pytorch.org/whl/cu113/torch_stable.html\n",
      "Requirement already satisfied: torch==1.10.1+cu113 in c:\\users\\maaz karim\\anaconda3\\lib\\site-packages (1.10.1+cu113)\n",
      "Requirement already satisfied: torchvision==0.11.2+cu113 in c:\\users\\maaz karim\\anaconda3\\lib\\site-packages (0.11.2+cu113)\n",
      "Requirement already satisfied: torchaudio===0.10.1+cu113 in c:\\users\\maaz karim\\anaconda3\\lib\\site-packages (0.10.1+cu113)\n",
      "Requirement already satisfied: typing-extensions in c:\\users\\maaz karim\\anaconda3\\lib\\site-packages (from torch==1.10.1+cu113) (3.10.0.2)\n",
      "Requirement already satisfied: numpy in c:\\users\\maaz karim\\anaconda3\\lib\\site-packages (from torchvision==0.11.2+cu113) (1.20.3)\n",
      "Requirement already satisfied: pillow!=8.3.0,>=5.3.0 in c:\\users\\maaz karim\\anaconda3\\lib\\site-packages (from torchvision==0.11.2+cu113) (8.4.0)\n"
     ]
    }
   ],
   "source": [
    "#Installing PyTorch\n",
    "!pip install torch==1.10.1+cu113 torchvision==0.11.2+cu113 torchaudio===0.10.1+cu113 -f https://download.pytorch.org/whl/cu113/torch_stable.html\n",
    "    "
   ]
  },
  {
   "cell_type": "code",
   "execution_count": 8,
   "id": "1a95853f",
   "metadata": {},
   "outputs": [
    {
     "name": "stdout",
     "output_type": "stream",
     "text": [
      "Requirement already satisfied: transformers in c:\\users\\maaz karim\\anaconda3\\lib\\site-packages (4.14.1)\n",
      "Requirement already satisfied: packaging>=20.0 in c:\\users\\maaz karim\\anaconda3\\lib\\site-packages (from transformers) (21.0)\n",
      "Requirement already satisfied: tokenizers<0.11,>=0.10.1 in c:\\users\\maaz karim\\anaconda3\\lib\\site-packages (from transformers) (0.10.3)\n",
      "Requirement already satisfied: huggingface-hub<1.0,>=0.1.0 in c:\\users\\maaz karim\\anaconda3\\lib\\site-packages (from transformers) (0.2.1)\n",
      "Requirement already satisfied: pyyaml>=5.1 in c:\\users\\maaz karim\\anaconda3\\lib\\site-packages (from transformers) (6.0)\n",
      "Requirement already satisfied: filelock in c:\\users\\maaz karim\\anaconda3\\lib\\site-packages (from transformers) (3.3.1)\n",
      "Requirement already satisfied: tqdm>=4.27 in c:\\users\\maaz karim\\anaconda3\\lib\\site-packages (from transformers) (4.62.4.dev6+g6c930f5)\n",
      "Requirement already satisfied: sacremoses in c:\\users\\maaz karim\\anaconda3\\lib\\site-packages (from transformers) (0.0.46)\n",
      "Requirement already satisfied: requests in c:\\users\\maaz karim\\anaconda3\\lib\\site-packages (from transformers) (2.26.0)\n",
      "Requirement already satisfied: regex!=2019.12.17 in c:\\users\\maaz karim\\anaconda3\\lib\\site-packages (from transformers) (2021.8.3)\n",
      "Requirement already satisfied: numpy>=1.17 in c:\\users\\maaz karim\\anaconda3\\lib\\site-packages (from transformers) (1.20.3)\n",
      "Requirement already satisfied: typing-extensions>=3.7.4.3 in c:\\users\\maaz karim\\anaconda3\\lib\\site-packages (from huggingface-hub<1.0,>=0.1.0->transformers) (3.10.0.2)\n",
      "Requirement already satisfied: pyparsing>=2.0.2 in c:\\users\\maaz karim\\anaconda3\\lib\\site-packages (from packaging>=20.0->transformers) (3.0.4)\n",
      "Requirement already satisfied: colorama in c:\\users\\maaz karim\\anaconda3\\lib\\site-packages (from tqdm>=4.27->transformers) (0.4.4)\n",
      "Requirement already satisfied: urllib3<1.27,>=1.21.1 in c:\\users\\maaz karim\\anaconda3\\lib\\site-packages (from requests->transformers) (1.26.7)\n",
      "Requirement already satisfied: charset-normalizer~=2.0.0 in c:\\users\\maaz karim\\anaconda3\\lib\\site-packages (from requests->transformers) (2.0.4)\n",
      "Requirement already satisfied: certifi>=2017.4.17 in c:\\users\\maaz karim\\anaconda3\\lib\\site-packages (from requests->transformers) (2021.10.8)\n",
      "Requirement already satisfied: idna<4,>=2.5 in c:\\users\\maaz karim\\anaconda3\\lib\\site-packages (from requests->transformers) (3.2)\n",
      "Requirement already satisfied: click in c:\\users\\maaz karim\\anaconda3\\lib\\site-packages (from sacremoses->transformers) (8.0.3)\n",
      "Requirement already satisfied: six in c:\\users\\maaz karim\\anaconda3\\lib\\site-packages (from sacremoses->transformers) (1.16.0)\n",
      "Requirement already satisfied: joblib in c:\\users\\maaz karim\\anaconda3\\lib\\site-packages (from sacremoses->transformers) (1.1.0)\n"
     ]
    }
   ],
   "source": [
    "#Installing Transformers\n",
    "!pip install transformers"
   ]
  },
  {
   "cell_type": "code",
   "execution_count": 9,
   "id": "66b2d2be",
   "metadata": {},
   "outputs": [],
   "source": [
    "from transformers import AutoTokenizer, AutoModelForSequenceClassification \n",
    "import torch"
   ]
  },
  {
   "cell_type": "code",
   "execution_count": 10,
   "id": "865fd747",
   "metadata": {},
   "outputs": [],
   "source": [
    "# Tokenizing tokens from a pre-trained model\n",
    "\n",
    "tokenizer = AutoTokenizer.from_pretrained('nlptown/bert-base-multilingual-uncased-sentiment')\n",
    "\n",
    "#Using Pre-trained model for Classification\n",
    "model = AutoModelForSequenceClassification.from_pretrained('nlptown/bert-base-multilingual-uncased-sentiment')"
   ]
  },
  {
   "cell_type": "code",
   "execution_count": 11,
   "id": "98c015e3",
   "metadata": {},
   "outputs": [],
   "source": [
    "# Making a sentiment_score function which will return us the value between 0 and 5. \n",
    "def sentiment_score(review):\n",
    "    tokens = tokenizer.encode(review, return_tensors='pt')\n",
    "    result = model(tokens)\n",
    "    return int(torch.argmax(result.logits))+1"
   ]
  },
  {
   "cell_type": "code",
   "execution_count": 12,
   "id": "0c716b5f",
   "metadata": {},
   "outputs": [
    {
     "name": "stderr",
     "output_type": "stream",
     "text": [
      "100%|██████████| 1000/1000 [11:53<00:00,  1.40it/s]\n"
     ]
    }
   ],
   "source": [
    "df['score']=0\n",
    "for i in tqdm(range(1000)):\n",
    "    for j in range(9):\n",
    "        df.loc[i,'score']=sentiment_score(df.loc[i,str('tweet'+str(j))])+df.loc[i,'score']"
   ]
  },
  {
   "cell_type": "code",
   "execution_count": 13,
   "id": "92cba544",
   "metadata": {},
   "outputs": [],
   "source": [
    "df['score']=df['score']/10 #Calculating average score"
   ]
  },
  {
   "cell_type": "code",
   "execution_count": 14,
   "id": "85ec4dce",
   "metadata": {},
   "outputs": [
    {
     "data": {
      "text/html": [
       "<div>\n",
       "<style scoped>\n",
       "    .dataframe tbody tr th:only-of-type {\n",
       "        vertical-align: middle;\n",
       "    }\n",
       "\n",
       "    .dataframe tbody tr th {\n",
       "        vertical-align: top;\n",
       "    }\n",
       "\n",
       "    .dataframe thead th {\n",
       "        text-align: right;\n",
       "    }\n",
       "</style>\n",
       "<table border=\"1\" class=\"dataframe\">\n",
       "  <thead>\n",
       "    <tr style=\"text-align: right;\">\n",
       "      <th></th>\n",
       "      <th>Data</th>\n",
       "      <th>Date</th>\n",
       "      <th>Time</th>\n",
       "      <th>tweet0</th>\n",
       "      <th>tweet1</th>\n",
       "      <th>tweet2</th>\n",
       "      <th>tweet3</th>\n",
       "      <th>tweet4</th>\n",
       "      <th>tweet5</th>\n",
       "      <th>tweet6</th>\n",
       "      <th>tweet7</th>\n",
       "      <th>tweet8</th>\n",
       "      <th>tweet9</th>\n",
       "      <th>score</th>\n",
       "    </tr>\n",
       "  </thead>\n",
       "  <tbody>\n",
       "    <tr>\n",
       "      <th>0</th>\n",
       "      <td>tuesdayvibes</td>\n",
       "      <td>7/14/2020</td>\n",
       "      <td>7:00:21</td>\n",
       "      <td>Love vacation vibes amazing beautiful cabo mex...</td>\n",
       "      <td>looks good tuesdayvibes tacotuesday</td>\n",
       "      <td>LIVE TUESDAY NIGHT KPOP W Unreal OHIO tuesdayv...</td>\n",
       "      <td>damn followers moved weeks getting 50 60 day l...</td>\n",
       "      <td>Common sense common count Unfortunately presen...</td>\n",
       "      <td>landing naturephotography nature Travel travel...</td>\n",
       "      <td>LIVE TUESDAY NIGHT KPOP W Unreal SUMMER BREEZE...</td>\n",
       "      <td>Involuntary manslaughter distinguished forms h...</td>\n",
       "      <td>day keepgoing throughitall carryon TuesdayMoti...</td>\n",
       "      <td>Happy scrolls down on the notification bar to ...</td>\n",
       "      <td>2.7</td>\n",
       "    </tr>\n",
       "    <tr>\n",
       "      <th>1</th>\n",
       "      <td>realmeC11</td>\n",
       "      <td>7/14/2020</td>\n",
       "      <td>7:00:21</td>\n",
       "      <td>Best Camera Smartphone 20k Please vote help re...</td>\n",
       "      <td>2 features highlight realmeC11 realme C Series...</td>\n",
       "      <td>realmeC11 Bigger battery larger display</td>\n",
       "      <td>1 backed bigger 5000 mAh battery 2 aspect rati...</td>\n",
       "      <td>1 Bigger Battery 5000mAh Massive Battery 2 Lar...</td>\n",
       "      <td>4th phone Realme C series RealmeC11</td>\n",
       "      <td>Hey high time release new watch faces realmeba...</td>\n",
       "      <td>new entry realme C series boasts 5000mah Batte...</td>\n",
       "      <td>realmeC11 Price much bro realmeC11 ki Memu Gue...</td>\n",
       "      <td>The new entry to the realme C series boasts a ...</td>\n",
       "      <td>3.1</td>\n",
       "    </tr>\n",
       "    <tr>\n",
       "      <th>2</th>\n",
       "      <td>KPSharmaOli</td>\n",
       "      <td>7/14/2020</td>\n",
       "      <td>7:00:21</td>\n",
       "      <td>shree problem people problem Stupid Communist ...</td>\n",
       "      <td>really insulting Nepal PM said knows birth lor...</td>\n",
       "      <td>always loved amp respect India see media gover...</td>\n",
       "      <td>Ayodhya KPSharmaOli</td>\n",
       "      <td>Watch Gravitas Nepal KP Sharma Oli desperate b...</td>\n",
       "      <td>minting money making foolish innocent Nepali N...</td>\n",
       "      <td>diya means well nepalese immigrate India well ...</td>\n",
       "      <td>st make sense Pakistani Maybe treated brothers...</td>\n",
       "      <td>Intelligent PM Bought 6 Chinese planes Dhaka r...</td>\n",
       "      <td>st India offered Nepal to access port with fre...</td>\n",
       "      <td>1.6</td>\n",
       "    </tr>\n",
       "    <tr>\n",
       "      <th>3</th>\n",
       "      <td>RheaChakraborty</td>\n",
       "      <td>7/14/2020</td>\n",
       "      <td>7:00:21</td>\n",
       "      <td>Rhea Chakraborty Heartbreaking Post Sushant Si...</td>\n",
       "      <td>Trending Entertainment News Today Rhea Chakrab...</td>\n",
       "      <td>Trending Entertainment News Today Rhea Chakrab...</td>\n",
       "      <td>Rhea Chakraborty breaks silence Sushant Singh ...</td>\n",
       "      <td>Support bravery amp stop justice given Sushant...</td>\n",
       "      <td>Rhea Chakraborty pens emotional note losing Su...</td>\n",
       "      <td>Newswrap July 14 Rhea note Sushant Singh Rajpu...</td>\n",
       "      <td>Rhea Chakraborty heartfelt post Sushant Singh ...</td>\n",
       "      <td>SushantSinghRajput amount PR Rhea Chakraborty ...</td>\n",
       "      <td>Why r u silent if u really loves him then why ...</td>\n",
       "      <td>1.6</td>\n",
       "    </tr>\n",
       "    <tr>\n",
       "      <th>4</th>\n",
       "      <td>Stop_Transfer_Sunita_Yadav</td>\n",
       "      <td>7/14/2020</td>\n",
       "      <td>7:00:21</td>\n",
       "      <td>stand Sunita Yadav Stop Transfer women empower...</td>\n",
       "      <td>CM Gujrat set example punish MLA lady cop Stop...</td>\n",
       "      <td>proud madam Stop Transfer Sunita Yadav</td>\n",
       "      <td>Thank u much ur valuable information OdishaFig...</td>\n",
       "      <td>support Stop Transfer Sunita Yadav SunitaYadav...</td>\n",
       "      <td>Stop Transfer Sunita Yadav stand U support sun...</td>\n",
       "      <td>yadav 0 SunitaYadav stop transfer</td>\n",
       "      <td>hope passion slogging secured job retire sugge...</td>\n",
       "      <td>Stop Transfer Sunita Yadav tell truth u vl jai...</td>\n",
       "      <td>Immediate transfer of an employee after such e...</td>\n",
       "      <td>1.3</td>\n",
       "    </tr>\n",
       "  </tbody>\n",
       "</table>\n",
       "</div>"
      ],
      "text/plain": [
       "                          Data       Date     Time  \\\n",
       "0                 tuesdayvibes  7/14/2020  7:00:21   \n",
       "1                    realmeC11  7/14/2020  7:00:21   \n",
       "2                  KPSharmaOli  7/14/2020  7:00:21   \n",
       "3              RheaChakraborty  7/14/2020  7:00:21   \n",
       "4   Stop_Transfer_Sunita_Yadav  7/14/2020  7:00:21   \n",
       "\n",
       "                                              tweet0  \\\n",
       "0  Love vacation vibes amazing beautiful cabo mex...   \n",
       "1  Best Camera Smartphone 20k Please vote help re...   \n",
       "2  shree problem people problem Stupid Communist ...   \n",
       "3  Rhea Chakraborty Heartbreaking Post Sushant Si...   \n",
       "4  stand Sunita Yadav Stop Transfer women empower...   \n",
       "\n",
       "                                              tweet1  \\\n",
       "0                looks good tuesdayvibes tacotuesday   \n",
       "1  2 features highlight realmeC11 realme C Series...   \n",
       "2  really insulting Nepal PM said knows birth lor...   \n",
       "3  Trending Entertainment News Today Rhea Chakrab...   \n",
       "4  CM Gujrat set example punish MLA lady cop Stop...   \n",
       "\n",
       "                                              tweet2  \\\n",
       "0  LIVE TUESDAY NIGHT KPOP W Unreal OHIO tuesdayv...   \n",
       "1            realmeC11 Bigger battery larger display   \n",
       "2  always loved amp respect India see media gover...   \n",
       "3  Trending Entertainment News Today Rhea Chakrab...   \n",
       "4             proud madam Stop Transfer Sunita Yadav   \n",
       "\n",
       "                                              tweet3  \\\n",
       "0  damn followers moved weeks getting 50 60 day l...   \n",
       "1  1 backed bigger 5000 mAh battery 2 aspect rati...   \n",
       "2                                Ayodhya KPSharmaOli   \n",
       "3  Rhea Chakraborty breaks silence Sushant Singh ...   \n",
       "4  Thank u much ur valuable information OdishaFig...   \n",
       "\n",
       "                                              tweet4  \\\n",
       "0  Common sense common count Unfortunately presen...   \n",
       "1  1 Bigger Battery 5000mAh Massive Battery 2 Lar...   \n",
       "2  Watch Gravitas Nepal KP Sharma Oli desperate b...   \n",
       "3  Support bravery amp stop justice given Sushant...   \n",
       "4  support Stop Transfer Sunita Yadav SunitaYadav...   \n",
       "\n",
       "                                              tweet5  \\\n",
       "0  landing naturephotography nature Travel travel...   \n",
       "1                4th phone Realme C series RealmeC11   \n",
       "2  minting money making foolish innocent Nepali N...   \n",
       "3  Rhea Chakraborty pens emotional note losing Su...   \n",
       "4  Stop Transfer Sunita Yadav stand U support sun...   \n",
       "\n",
       "                                              tweet6  \\\n",
       "0  LIVE TUESDAY NIGHT KPOP W Unreal SUMMER BREEZE...   \n",
       "1  Hey high time release new watch faces realmeba...   \n",
       "2  diya means well nepalese immigrate India well ...   \n",
       "3  Newswrap July 14 Rhea note Sushant Singh Rajpu...   \n",
       "4                  yadav 0 SunitaYadav stop transfer   \n",
       "\n",
       "                                              tweet7  \\\n",
       "0  Involuntary manslaughter distinguished forms h...   \n",
       "1  new entry realme C series boasts 5000mah Batte...   \n",
       "2  st make sense Pakistani Maybe treated brothers...   \n",
       "3  Rhea Chakraborty heartfelt post Sushant Singh ...   \n",
       "4  hope passion slogging secured job retire sugge...   \n",
       "\n",
       "                                              tweet8  \\\n",
       "0  day keepgoing throughitall carryon TuesdayMoti...   \n",
       "1  realmeC11 Price much bro realmeC11 ki Memu Gue...   \n",
       "2  Intelligent PM Bought 6 Chinese planes Dhaka r...   \n",
       "3  SushantSinghRajput amount PR Rhea Chakraborty ...   \n",
       "4  Stop Transfer Sunita Yadav tell truth u vl jai...   \n",
       "\n",
       "                                              tweet9  score  \n",
       "0  Happy scrolls down on the notification bar to ...    2.7  \n",
       "1  The new entry to the realme C series boasts a ...    3.1  \n",
       "2  st India offered Nepal to access port with fre...    1.6  \n",
       "3  Why r u silent if u really loves him then why ...    1.6  \n",
       "4  Immediate transfer of an employee after such e...    1.3  "
      ]
     },
     "execution_count": 14,
     "metadata": {},
     "output_type": "execute_result"
    }
   ],
   "source": [
    "df.head()"
   ]
  },
  {
   "cell_type": "markdown",
   "id": "362d5ef1",
   "metadata": {},
   "source": [
    "Now we can see The scores of the tweets of each trending topic the lesser the score the more disliked topic it is."
   ]
  },
  {
   "cell_type": "code",
   "execution_count": 15,
   "id": "aa6ebb4e",
   "metadata": {},
   "outputs": [
    {
     "name": "stdout",
     "output_type": "stream",
     "text": [
      "Liked Topic of the day is  HBDSarathkumar with the score of 4.5\n",
      "Most disliked Topic of the day is  VizagBlast with the score of 0.9\n"
     ]
    }
   ],
   "source": [
    "# To find most liked topic of the day.\n",
    "print(\"Liked Topic of the day is \" + str(df.loc[df['score'].idxmax(),'Data']) +\" with the score of \"+ str(df.loc[df['score'].idxmax(),'score']) )\n",
    "# To find most disliked topic of the day.\n",
    "print(\"Most disliked Topic of the day is \" + str(df.loc[df['score'][0:999].idxmin(),'Data']) +\" with the score of \"+ str(df.loc[df['score'][0:999].idxmin(),'score']))"
   ]
  },
  {
   "cell_type": "markdown",
   "id": "dbfbf7d7",
   "metadata": {},
   "source": [
    "We can conclude that in the top 1000 tweets the most Liked topic is HDBSarathKumar with avg score of 4.5 and most disliked topic in top 1000 tweets is VizagBlast with avg score of 0.9."
   ]
  },
  {
   "cell_type": "markdown",
   "id": "5b0ceb7c",
   "metadata": {},
   "source": [
    "### Part 2"
   ]
  },
  {
   "cell_type": "markdown",
   "id": "8501e0c6",
   "metadata": {},
   "source": [
    "# Plots"
   ]
  },
  {
   "cell_type": "markdown",
   "id": "feaa911e",
   "metadata": {},
   "source": [
    "### For Top 10 Tweets"
   ]
  },
  {
   "cell_type": "code",
   "execution_count": 16,
   "id": "331e4e49",
   "metadata": {},
   "outputs": [
    {
     "data": {
      "text/plain": [
       "Text(0.5, 1.0, 'Score vs Top 10 Trending Tweets')"
      ]
     },
     "execution_count": 16,
     "metadata": {},
     "output_type": "execute_result"
    },
    {
     "data": {
      "image/png": "[encoded data removed]",
      "text/plain": [
       "<Figure size 432x288 with 1 Axes>"
      ]
     },
     "metadata": {
      "needs_background": "light"
     },
     "output_type": "display_data"
    }
   ],
   "source": [
    "#code\n",
    "plt.plot(list(range(1,11)),df['score'][0:10])\n",
    "plt.xlabel('Rank of Trending Tweets')\n",
    "plt.ylabel('Score out of 5')\n",
    "plt.title('Score vs Top 10 Trending Tweets')"
   ]
  },
  {
   "cell_type": "markdown",
   "id": "ec7950da",
   "metadata": {},
   "source": [
    "Now let us see score using bar charts."
   ]
  },
  {
   "cell_type": "code",
   "execution_count": 17,
   "id": "bd9286d8",
   "metadata": {},
   "outputs": [],
   "source": [
    "x_label=(list(range(0,6)))\n",
    "y_label=[round(num) for num in df['score'][0:10]]"
   ]
  },
  {
   "cell_type": "code",
   "execution_count": 18,
   "id": "216fafd0",
   "metadata": {},
   "outputs": [],
   "source": [
    "import collections\n",
    "y_label=collections.Counter(y_label)\n",
    "li = [0,0,0,0,0,0]\n",
    "index=0\n",
    "for i in y_label.keys():\n",
    "    li[i]=y_label[i]"
   ]
  },
  {
   "cell_type": "code",
   "execution_count": 19,
   "id": "ccbf5fca",
   "metadata": {},
   "outputs": [
    {
     "data": {
      "text/plain": [
       "<BarContainer object of 6 artists>"
      ]
     },
     "execution_count": 19,
     "metadata": {},
     "output_type": "execute_result"
    },
    {
     "data": {
      "image/png": "[encoded data removed]",
      "text/plain": [
       "<Figure size 432x288 with 1 Axes>"
      ]
     },
     "metadata": {
      "needs_background": "light"
     },
     "output_type": "display_data"
    }
   ],
   "source": [
    "plt.bar(x_label,li)"
   ]
  },
  {
   "cell_type": "code",
   "execution_count": 20,
   "id": "23072a13",
   "metadata": {},
   "outputs": [
    {
     "data": {
      "text/plain": [
       "2.45"
      ]
     },
     "execution_count": 20,
     "metadata": {},
     "output_type": "execute_result"
    }
   ],
   "source": [
    "import statistics\n",
    "statistics.mean(df['score'][0:10])"
   ]
  },
  {
   "cell_type": "markdown",
   "id": "9084fe9b",
   "metadata": {},
   "source": [
    "###  Top 1000 Tweets"
   ]
  },
  {
   "cell_type": "markdown",
   "id": "1425670a",
   "metadata": {},
   "source": [
    "Now let us see the graph for first 1000 tweets"
   ]
  },
  {
   "cell_type": "code",
   "execution_count": 21,
   "id": "787763eb",
   "metadata": {},
   "outputs": [
    {
     "data": {
      "text/plain": [
       "Text(0.5, 1.0, 'Score vs Top 1000 Trending Tweets')"
      ]
     },
     "execution_count": 21,
     "metadata": {},
     "output_type": "execute_result"
    },
    {
     "data": {
      "image/png": "[encoded data removed]",
      "text/plain": [
       "<Figure size 432x288 with 1 Axes>"
      ]
     },
     "metadata": {
      "needs_background": "light"
     },
     "output_type": "display_data"
    }
   ],
   "source": [
    "plt.plot(list(range(1,1001)),df['score'][0:1000])\n",
    "plt.xlabel('Rank of Trending Tweets')\n",
    "plt.ylabel('Score out of 5')\n",
    "plt.title('Score vs Top 1000 Trending Tweets')"
   ]
  },
  {
   "cell_type": "markdown",
   "id": "ef2995a0",
   "metadata": {},
   "source": [
    "Now let us check bar chart for first 1000 tweets"
   ]
  },
  {
   "cell_type": "code",
   "execution_count": 22,
   "id": "c6ba1ed8",
   "metadata": {},
   "outputs": [],
   "source": [
    "x_label=(list(range(0,6)))\n",
    "y_label=[round(num) for num in df['score'][0:1000]]"
   ]
  },
  {
   "cell_type": "code",
   "execution_count": 30,
   "id": "260341b9",
   "metadata": {},
   "outputs": [
    {
     "data": {
      "text/plain": [
       "<BarContainer object of 6 artists>"
      ]
     },
     "execution_count": 30,
     "metadata": {},
     "output_type": "execute_result"
    },
    {
     "data": {
      "image/png": "[encoded data removed]",
      "text/plain": [
       "<Figure size 432x288 with 1 Axes>"
      ]
     },
     "metadata": {
      "needs_background": "light"
     },
     "output_type": "display_data"
    }
   ],
   "source": [
    "y_label=collections.Counter(y_label)\n",
    "li = [0,0,0,0,0,0]\n",
    "for i in list(y_label.keys()):\n",
    "    li[i]=y_label[i]\n",
    "plt.bar(x_label,li)"
   ]
  },
  {
   "cell_type": "code",
   "execution_count": 24,
   "id": "70ba9803",
   "metadata": {},
   "outputs": [
    {
     "data": {
      "text/plain": [
       "2.4953"
      ]
     },
     "execution_count": 24,
     "metadata": {},
     "output_type": "execute_result"
    }
   ],
   "source": [
    "statistics.mean(df['score'][0:1000])"
   ]
  },
  {
   "cell_type": "markdown",
   "id": "4b23d236",
   "metadata": {},
   "source": [
    "Let us see the variation of scores as our value of tweets increases"
   ]
  },
  {
   "cell_type": "code",
   "execution_count": 25,
   "id": "686379fd",
   "metadata": {},
   "outputs": [
    {
     "data": {
      "text/plain": [
       "[<matplotlib.lines.Line2D at 0x1a38247cdf0>]"
      ]
     },
     "execution_count": 25,
     "metadata": {},
     "output_type": "execute_result"
    },
    {
     "data": {
      "image/png": "[encoded data removed]",
      "text/plain": [
       "<Figure size 432x288 with 1 Axes>"
      ]
     },
     "metadata": {
      "needs_background": "light"
     },
     "output_type": "display_data"
    }
   ],
   "source": [
    "x=[1,10,50,100,200,300,500,700,900,1000]\n",
    "y=[]\n",
    "for i in x:\n",
    "    y.append(statistics.mean(df['score'][0:i]))\n",
    "plt.plot(x,y)"
   ]
  },
  {
   "cell_type": "markdown",
   "id": "a2027570",
   "metadata": {},
   "source": [
    "# Conclusion"
   ]
  },
  {
   "cell_type": "code",
   "execution_count": null,
   "id": "d2f48ab2",
   "metadata": {},
   "outputs": [],
   "source": [
    "#conclude with your observations "
   ]
  },
  {
   "cell_type": "code",
   "execution_count": null,
   "id": "0ef5a62a",
   "metadata": {},
   "outputs": [],
   "source": []
  }
 ],
 "metadata": {
  "kernelspec": {
   "display_name": "Python 3 (ipykernel)",
   "language": "python",
   "name": "python3"
  },
  "language_info": {
   "codemirror_mode": {
    "name": "ipython",
    "version": 3
   },
   "file_extension": ".py",
   "mimetype": "text/x-python",
   "name": "python",
   "nbconvert_exporter": "python",
   "pygments_lexer": "ipython3",
   "version": "3.9.7"
  }
 },
 "nbformat": 4,
 "nbformat_minor": 5
}
